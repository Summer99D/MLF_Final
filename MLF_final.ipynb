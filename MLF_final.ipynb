{
  "cells": [
    {
      "cell_type": "markdown",
      "metadata": {
        "id": "view-in-github",
        "colab_type": "text"
      },
      "source": [
        "<a href=\"https://colab.research.google.com/github/Summer99D/MLF_Final/blob/main/MLF_final.ipynb\" target=\"_parent\"><img src=\"https://colab.research.google.com/assets/colab-badge.svg\" alt=\"Open In Colab\"/></a>"
      ]
    },
    {
      "cell_type": "code",
      "execution_count": 2,
      "metadata": {
        "colab": {
          "base_uri": "https://localhost:8080/"
        },
        "id": "r9BjcqI08jUV",
        "outputId": "b0e69f0e-6199-4fb8-a9af-48fabe2c6db0"
      },
      "outputs": [
        {
          "output_type": "stream",
          "name": "stdout",
          "text": [
            "Collecting category_encoders\n",
            "  Downloading category_encoders-2.8.1-py3-none-any.whl.metadata (7.9 kB)\n",
            "Requirement already satisfied: pandas in /usr/local/lib/python3.11/dist-packages (2.2.2)\n",
            "Requirement already satisfied: numpy in /usr/local/lib/python3.11/dist-packages (2.0.2)\n",
            "Requirement already satisfied: seaborn in /usr/local/lib/python3.11/dist-packages (0.13.2)\n",
            "Collecting missingno\n",
            "  Downloading missingno-0.5.2-py3-none-any.whl.metadata (639 bytes)\n",
            "Requirement already satisfied: scikit-learn in /usr/local/lib/python3.11/dist-packages (1.6.1)\n",
            "Requirement already satisfied: matplotlib in /usr/local/lib/python3.11/dist-packages (3.10.0)\n",
            "Collecting patsy>=0.5.1 (from category_encoders)\n",
            "  Downloading patsy-1.0.1-py2.py3-none-any.whl.metadata (3.3 kB)\n",
            "Requirement already satisfied: scipy>=1.0.0 in /usr/local/lib/python3.11/dist-packages (from category_encoders) (1.15.3)\n",
            "Collecting statsmodels>=0.9.0 (from category_encoders)\n",
            "  Downloading statsmodels-0.14.4-cp311-cp311-manylinux_2_17_x86_64.manylinux2014_x86_64.whl.metadata (9.2 kB)\n",
            "Requirement already satisfied: python-dateutil>=2.8.2 in /usr/local/lib/python3.11/dist-packages (from pandas) (2.9.0.post0)\n",
            "Requirement already satisfied: pytz>=2020.1 in /usr/local/lib/python3.11/dist-packages (from pandas) (2025.2)\n",
            "Requirement already satisfied: tzdata>=2022.7 in /usr/local/lib/python3.11/dist-packages (from pandas) (2025.2)\n",
            "Requirement already satisfied: joblib>=1.2.0 in /usr/local/lib/python3.11/dist-packages (from scikit-learn) (1.5.0)\n",
            "Requirement already satisfied: threadpoolctl>=3.1.0 in /usr/local/lib/python3.11/dist-packages (from scikit-learn) (3.6.0)\n",
            "Requirement already satisfied: contourpy>=1.0.1 in /usr/local/lib/python3.11/dist-packages (from matplotlib) (1.3.2)\n",
            "Requirement already satisfied: cycler>=0.10 in /usr/local/lib/python3.11/dist-packages (from matplotlib) (0.12.1)\n",
            "Requirement already satisfied: fonttools>=4.22.0 in /usr/local/lib/python3.11/dist-packages (from matplotlib) (4.58.0)\n",
            "Requirement already satisfied: kiwisolver>=1.3.1 in /usr/local/lib/python3.11/dist-packages (from matplotlib) (1.4.8)\n",
            "Requirement already satisfied: packaging>=20.0 in /usr/local/lib/python3.11/dist-packages (from matplotlib) (25.0)\n",
            "Requirement already satisfied: pillow>=8 in /usr/local/lib/python3.11/dist-packages (from matplotlib) (11.2.1)\n",
            "Requirement already satisfied: pyparsing>=2.3.1 in /usr/local/lib/python3.11/dist-packages (from matplotlib) (3.2.3)\n",
            "Requirement already satisfied: six>=1.5 in /usr/local/lib/python3.11/dist-packages (from python-dateutil>=2.8.2->pandas) (1.17.0)\n",
            "Downloading category_encoders-2.8.1-py3-none-any.whl (85 kB)\n",
            "\u001b[2K   \u001b[90m━━━━━━━━━━━━━━━━━━━━━━━━━━━━━━━━━━━━━━━━\u001b[0m \u001b[32m85.7/85.7 kB\u001b[0m \u001b[31m2.3 MB/s\u001b[0m eta \u001b[36m0:00:00\u001b[0m\n",
            "\u001b[?25hDownloading missingno-0.5.2-py3-none-any.whl (8.7 kB)\n",
            "Downloading patsy-1.0.1-py2.py3-none-any.whl (232 kB)\n",
            "\u001b[2K   \u001b[90m━━━━━━━━━━━━━━━━━━━━━━━━━━━━━━━━━━━━━━━━\u001b[0m \u001b[32m232.9/232.9 kB\u001b[0m \u001b[31m8.4 MB/s\u001b[0m eta \u001b[36m0:00:00\u001b[0m\n",
            "\u001b[?25hDownloading statsmodels-0.14.4-cp311-cp311-manylinux_2_17_x86_64.manylinux2014_x86_64.whl (10.8 MB)\n",
            "\u001b[2K   \u001b[90m━━━━━━━━━━━━━━━━━━━━━━━━━━━━━━━━━━━━━━━━\u001b[0m \u001b[32m10.8/10.8 MB\u001b[0m \u001b[31m106.9 MB/s\u001b[0m eta \u001b[36m0:00:00\u001b[0m\n",
            "\u001b[?25hInstalling collected packages: patsy, statsmodels, missingno, category_encoders\n",
            "Successfully installed category_encoders-2.8.1 missingno-0.5.2 patsy-1.0.1 statsmodels-0.14.4\n"
          ]
        }
      ],
      "source": [
        "!pip install category_encoders pandas numpy seaborn missingno scikit-learn matplotlib"
      ]
    },
    {
      "cell_type": "code",
      "execution_count": 3,
      "metadata": {
        "id": "van3eBCT9vwW"
      },
      "outputs": [],
      "source": [
        "import warnings\n",
        "warnings.filterwarnings('ignore')\n"
      ]
    },
    {
      "cell_type": "code",
      "execution_count": 4,
      "metadata": {
        "id": "Kxws0VqPUfaI"
      },
      "outputs": [],
      "source": [
        "import pandas as pd\n",
        "import numpy as np\n",
        "import matplotlib.pyplot as plt\n",
        "import seaborn as sns\n",
        "import missingno as msno\n",
        "from sklearn.impute import SimpleImputer\n",
        "from sklearn.preprocessing import StandardScaler\n",
        "from sklearn.decomposition import PCA\n",
        "from category_encoders import TargetEncoder\n",
        "from sklearn.linear_model import LogisticRegression\n",
        "from sklearn.metrics import roc_auc_score"
      ]
    },
    {
      "cell_type": "code",
      "execution_count": 5,
      "metadata": {
        "colab": {
          "base_uri": "https://localhost:8080/"
        },
        "id": "GDq0oJBPVz44",
        "outputId": "002a3d2c-ee04-4c0d-cac2-62e5720bf1e3"
      },
      "outputs": [
        {
          "output_type": "stream",
          "name": "stdout",
          "text": [
            "Mounted at /content/drive\n"
          ]
        }
      ],
      "source": [
        "from google.colab import drive\n",
        "drive.mount('/content/drive')"
      ]
    },
    {
      "cell_type": "code",
      "execution_count": 6,
      "metadata": {
        "id": "VK3bLxK6UmtS"
      },
      "outputs": [],
      "source": [
        "test_trns_df= pd.read_csv('/content/drive/MyDrive/MLF/test_transaction.csv')\n",
        "test_id_df= pd.read_csv('/content/drive/MyDrive/MLF/test_identity.csv')\n",
        "train_trns_df= pd.read_csv('/content/drive/MyDrive/MLF/train_transaction.csv')\n",
        "train_id_df= pd.read_csv('/content/drive/MyDrive/MLF/train_identity.csv')\n"
      ]
    },
    {
      "cell_type": "code",
      "execution_count": 7,
      "metadata": {
        "colab": {
          "base_uri": "https://localhost:8080/"
        },
        "id": "WFR9HD5KWue4",
        "outputId": "519d83c6-a83c-432b-b8b9-a36fdb47b658"
      },
      "outputs": [
        {
          "output_type": "stream",
          "name": "stdout",
          "text": [
            "<bound method NDFrame.describe of         TransactionID  TransactionDT  TransactionAmt ProductCD  card1  card2  \\\n",
            "0             3663549       18403224          31.950         W  10409  111.0   \n",
            "1             3663550       18403263          49.000         W   4272  111.0   \n",
            "2             3663551       18403310         171.000         W   4476  574.0   \n",
            "3             3663552       18403310         284.950         W  10989  360.0   \n",
            "4             3663553       18403317          67.950         W  18018  452.0   \n",
            "...               ...            ...             ...       ...    ...    ...   \n",
            "506686        4170235       34214279          94.679         C  13832  375.0   \n",
            "506687        4170236       34214287          12.173         C   3154  408.0   \n",
            "506688        4170237       34214326          49.000         W  16661  490.0   \n",
            "506689        4170238       34214337         202.000         W  16621  516.0   \n",
            "506690        4170239       34214345          24.346         C   5713  168.0   \n",
            "\n",
            "        card3       card4  card5   card6  ...  V330  V331  V332  V333 V334  \\\n",
            "0       150.0        visa  226.0   debit  ...   NaN   NaN   NaN   NaN  NaN   \n",
            "1       150.0        visa  226.0   debit  ...   NaN   NaN   NaN   NaN  NaN   \n",
            "2       150.0        visa  226.0   debit  ...   NaN   NaN   NaN   NaN  NaN   \n",
            "3       150.0        visa  166.0   debit  ...   NaN   NaN   NaN   NaN  NaN   \n",
            "4       150.0  mastercard  117.0   debit  ...   NaN   NaN   NaN   NaN  NaN   \n",
            "...       ...         ...    ...     ...  ...   ...   ...   ...   ...  ...   \n",
            "506686  185.0  mastercard  224.0   debit  ...   NaN   NaN   NaN   NaN  NaN   \n",
            "506687  185.0  mastercard  224.0   debit  ...   NaN   NaN   NaN   NaN  NaN   \n",
            "506688  150.0        visa  226.0   debit  ...   NaN   NaN   NaN   NaN  NaN   \n",
            "506689  150.0  mastercard  224.0   debit  ...   NaN   NaN   NaN   NaN  NaN   \n",
            "506690  144.0        visa  147.0  credit  ...   NaN   NaN   NaN   NaN  NaN   \n",
            "\n",
            "       V335  V336  V337  V338  V339  \n",
            "0       NaN   NaN   NaN   NaN   NaN  \n",
            "1       NaN   NaN   NaN   NaN   NaN  \n",
            "2       NaN   NaN   NaN   NaN   NaN  \n",
            "3       NaN   NaN   NaN   NaN   NaN  \n",
            "4       NaN   NaN   NaN   NaN   NaN  \n",
            "...     ...   ...   ...   ...   ...  \n",
            "506686  NaN   NaN   NaN   NaN   NaN  \n",
            "506687  NaN   NaN   NaN   NaN   NaN  \n",
            "506688  NaN   NaN   NaN   NaN   NaN  \n",
            "506689  NaN   NaN   NaN   NaN   NaN  \n",
            "506690  NaN   NaN   NaN   NaN   NaN  \n",
            "\n",
            "[506691 rows x 393 columns]>\n"
          ]
        }
      ],
      "source": [
        "print(test_trns_df.describe)"
      ]
    },
    {
      "cell_type": "code",
      "execution_count": 8,
      "metadata": {
        "colab": {
          "base_uri": "https://localhost:8080/"
        },
        "id": "5Nt7PjijXJsA",
        "outputId": "59fb04d6-4017-4009-e8ea-e79ae4001168"
      },
      "outputs": [
        {
          "output_type": "stream",
          "name": "stdout",
          "text": [
            "<bound method NDFrame.describe of         TransactionID  id-01     id-02  id-03  id-04  id-05  id-06  id-07  \\\n",
            "0             3663586  -45.0  280290.0    NaN    NaN    0.0    0.0    NaN   \n",
            "1             3663588    0.0    3579.0    0.0    0.0    0.0    0.0    NaN   \n",
            "2             3663597   -5.0  185210.0    NaN    NaN    1.0    0.0    NaN   \n",
            "3             3663601  -45.0  252944.0    0.0    0.0    0.0    0.0    NaN   \n",
            "4             3663602  -95.0  328680.0    NaN    NaN    7.0  -33.0    NaN   \n",
            "...               ...    ...       ...    ...    ...    ...    ...    ...   \n",
            "141902        4170230  -20.0  473365.0    NaN    NaN    0.0    0.0    NaN   \n",
            "141903        4170233   -5.0  489917.0    0.0    0.0   -4.0  -32.0    NaN   \n",
            "141904        4170234   -5.0  110081.0    NaN    NaN   22.0  -31.0    NaN   \n",
            "141905        4170236  -45.0  266704.0    NaN    NaN   -3.0  -10.0    NaN   \n",
            "141906        4170239  -10.0  692090.0    0.0    0.0    0.0    0.0    NaN   \n",
            "\n",
            "        id-08  id-09  ...                    id-31  id-32     id-33  \\\n",
            "0         NaN    NaN  ...  chrome 67.0 for android    NaN       NaN   \n",
            "1         NaN    0.0  ...  chrome 67.0 for android   24.0  1280x720   \n",
            "2         NaN    NaN  ...       ie 11.0 for tablet    NaN       NaN   \n",
            "3         NaN    0.0  ...  chrome 67.0 for android    NaN       NaN   \n",
            "4         NaN    NaN  ...  chrome 67.0 for android    NaN       NaN   \n",
            "...       ...    ...  ...                      ...    ...       ...   \n",
            "141902    NaN    NaN  ...  chrome 71.0 for android    NaN       NaN   \n",
            "141903    NaN    0.0  ...  chrome 71.0 for android    NaN       NaN   \n",
            "141904    NaN    NaN  ...       mobile safari 10.0   32.0  1334x750   \n",
            "141905    NaN    NaN  ...  chrome 43.0 for android    NaN       NaN   \n",
            "141906    NaN    0.0  ...      samsung browser 8.2    NaN       NaN   \n",
            "\n",
            "                 id-34  id-35 id-36 id-37  id-38  DeviceType  \\\n",
            "0                  NaN      F     F     T      F      mobile   \n",
            "1       match_status:2      T     F     T      T      mobile   \n",
            "2                  NaN      F     T     T      F     desktop   \n",
            "3                  NaN      F     F     T      F      mobile   \n",
            "4                  NaN      F     F     T      F      mobile   \n",
            "...                ...    ...   ...   ...    ...         ...   \n",
            "141902             NaN      F     F     T      F      mobile   \n",
            "141903             NaN      F     F     T      F      mobile   \n",
            "141904  match_status:2      T     F     F      T      mobile   \n",
            "141905             NaN      F     F     T      F      mobile   \n",
            "141906             NaN      F     F     T      F      mobile   \n",
            "\n",
            "                         DeviceInfo  \n",
            "0       MYA-L13 Build/HUAWEIMYA-L13  \n",
            "1              LGLS676 Build/MXB48T  \n",
            "2                       Trident/7.0  \n",
            "3       MYA-L13 Build/HUAWEIMYA-L13  \n",
            "4              SM-G9650 Build/R16NW  \n",
            "...                             ...  \n",
            "141902                     SM-J700M  \n",
            "141903                     SM-J320M  \n",
            "141904                   iOS Device  \n",
            "141905  ALE-L23 Build/HuaweiALE-L23  \n",
            "141906                      SAMSUNG  \n",
            "\n",
            "[141907 rows x 41 columns]>\n"
          ]
        }
      ],
      "source": [
        "print(test_id_df.describe)"
      ]
    },
    {
      "cell_type": "code",
      "execution_count": 9,
      "metadata": {
        "colab": {
          "base_uri": "https://localhost:8080/"
        },
        "id": "jEFA0_GAXSyB",
        "outputId": "b9faa85d-4ce4-4ca5-a033-c3bf3384d82c"
      },
      "outputs": [
        {
          "output_type": "stream",
          "name": "stdout",
          "text": [
            "<bound method NDFrame.describe of         TransactionID  id_01     id_02  id_03  id_04  id_05  id_06  id_07  \\\n",
            "0             2987004    0.0   70787.0    NaN    NaN    NaN    NaN    NaN   \n",
            "1             2987008   -5.0   98945.0    NaN    NaN    0.0   -5.0    NaN   \n",
            "2             2987010   -5.0  191631.0    0.0    0.0    0.0    0.0    NaN   \n",
            "3             2987011   -5.0  221832.0    NaN    NaN    0.0   -6.0    NaN   \n",
            "4             2987016    0.0    7460.0    0.0    0.0    1.0    0.0    NaN   \n",
            "...               ...    ...       ...    ...    ...    ...    ...    ...   \n",
            "144228        3577521  -15.0  145955.0    0.0    0.0    0.0    0.0    NaN   \n",
            "144229        3577526   -5.0  172059.0    NaN    NaN    1.0   -5.0    NaN   \n",
            "144230        3577529  -20.0  632381.0    NaN    NaN   -1.0  -36.0    NaN   \n",
            "144231        3577531   -5.0   55528.0    0.0    0.0    0.0   -7.0    NaN   \n",
            "144232        3577534  -45.0  339406.0    NaN    NaN  -10.0 -100.0    NaN   \n",
            "\n",
            "        id_08  id_09  ...                    id_31  id_32      id_33  \\\n",
            "0         NaN    NaN  ...      samsung browser 6.2   32.0  2220x1080   \n",
            "1         NaN    NaN  ...       mobile safari 11.0   32.0   1334x750   \n",
            "2         NaN    0.0  ...              chrome 62.0    NaN        NaN   \n",
            "3         NaN    NaN  ...              chrome 62.0    NaN        NaN   \n",
            "4         NaN    0.0  ...              chrome 62.0   24.0   1280x800   \n",
            "...       ...    ...  ...                      ...    ...        ...   \n",
            "144228    NaN    0.0  ...  chrome 66.0 for android    NaN        NaN   \n",
            "144229    NaN    NaN  ...  chrome 55.0 for android   32.0    855x480   \n",
            "144230    NaN    NaN  ...  chrome 65.0 for android    NaN        NaN   \n",
            "144231    NaN    0.0  ...              chrome 66.0   24.0  2560x1600   \n",
            "144232    NaN    NaN  ...  chrome 66.0 for android    NaN        NaN   \n",
            "\n",
            "                 id_34  id_35 id_36 id_37  id_38  DeviceType  \\\n",
            "0       match_status:2      T     F     T      T      mobile   \n",
            "1       match_status:1      T     F     F      T      mobile   \n",
            "2                  NaN      F     F     T      T     desktop   \n",
            "3                  NaN      F     F     T      T     desktop   \n",
            "4       match_status:2      T     F     T      T     desktop   \n",
            "...                ...    ...   ...   ...    ...         ...   \n",
            "144228             NaN      F     F     T      F      mobile   \n",
            "144229  match_status:2      T     F     T      F      mobile   \n",
            "144230             NaN      F     F     T      F      mobile   \n",
            "144231  match_status:2      T     F     T      F     desktop   \n",
            "144232             NaN      F     F     T      F      mobile   \n",
            "\n",
            "                                DeviceInfo  \n",
            "0            SAMSUNG SM-G892A Build/NRD90M  \n",
            "1                               iOS Device  \n",
            "2                                  Windows  \n",
            "3                                      NaN  \n",
            "4                                    MacOS  \n",
            "...                                    ...  \n",
            "144228             F3111 Build/33.3.A.1.97  \n",
            "144229                 A574BL Build/NMF26F  \n",
            "144230  Moto E (4) Plus Build/NMA26.42-152  \n",
            "144231                               MacOS  \n",
            "144232         RNE-L03 Build/HUAWEIRNE-L03  \n",
            "\n",
            "[144233 rows x 41 columns]>\n",
            "Index(['TransactionID', 'id_01', 'id_02', 'id_03', 'id_04', 'id_05', 'id_06',\n",
            "       'id_07', 'id_08', 'id_09', 'id_10', 'id_11', 'id_12', 'id_13', 'id_14',\n",
            "       'id_15', 'id_16', 'id_17', 'id_18', 'id_19', 'id_20', 'id_21', 'id_22',\n",
            "       'id_23', 'id_24', 'id_25', 'id_26', 'id_27', 'id_28', 'id_29', 'id_30',\n",
            "       'id_31', 'id_32', 'id_33', 'id_34', 'id_35', 'id_36', 'id_37', 'id_38',\n",
            "       'DeviceType', 'DeviceInfo'],\n",
            "      dtype='object')\n"
          ]
        }
      ],
      "source": [
        "print(train_id_df.describe)\n",
        "print(train_id_df.columns)"
      ]
    },
    {
      "cell_type": "code",
      "execution_count": 10,
      "metadata": {
        "colab": {
          "base_uri": "https://localhost:8080/"
        },
        "id": "qiZfHMaFXXao",
        "outputId": "bfde0493-2bff-4718-f6e1-be8c6573418e"
      },
      "outputs": [
        {
          "output_type": "stream",
          "name": "stdout",
          "text": [
            "<bound method NDFrame.describe of         TransactionID  isFraud  TransactionDT  TransactionAmt ProductCD  \\\n",
            "0             2987000        0          86400           68.50         W   \n",
            "1             2987001        0          86401           29.00         W   \n",
            "2             2987002        0          86469           59.00         W   \n",
            "3             2987003        0          86499           50.00         W   \n",
            "4             2987004        0          86506           50.00         H   \n",
            "...               ...      ...            ...             ...       ...   \n",
            "590535        3577535        0       15811047           49.00         W   \n",
            "590536        3577536        0       15811049           39.50         W   \n",
            "590537        3577537        0       15811079           30.95         W   \n",
            "590538        3577538        0       15811088          117.00         W   \n",
            "590539        3577539        0       15811131          279.95         W   \n",
            "\n",
            "        card1  card2  card3       card4  card5  ... V330  V331  V332  V333  \\\n",
            "0       13926    NaN  150.0    discover  142.0  ...  NaN   NaN   NaN   NaN   \n",
            "1        2755  404.0  150.0  mastercard  102.0  ...  NaN   NaN   NaN   NaN   \n",
            "2        4663  490.0  150.0        visa  166.0  ...  NaN   NaN   NaN   NaN   \n",
            "3       18132  567.0  150.0  mastercard  117.0  ...  NaN   NaN   NaN   NaN   \n",
            "4        4497  514.0  150.0  mastercard  102.0  ...  0.0   0.0   0.0   0.0   \n",
            "...       ...    ...    ...         ...    ...  ...  ...   ...   ...   ...   \n",
            "590535   6550    NaN  150.0        visa  226.0  ...  NaN   NaN   NaN   NaN   \n",
            "590536  10444  225.0  150.0  mastercard  224.0  ...  NaN   NaN   NaN   NaN   \n",
            "590537  12037  595.0  150.0  mastercard  224.0  ...  NaN   NaN   NaN   NaN   \n",
            "590538   7826  481.0  150.0  mastercard  224.0  ...  NaN   NaN   NaN   NaN   \n",
            "590539  15066  170.0  150.0  mastercard  102.0  ...  NaN   NaN   NaN   NaN   \n",
            "\n",
            "        V334 V335 V336  V337  V338  V339  \n",
            "0        NaN  NaN  NaN   NaN   NaN   NaN  \n",
            "1        NaN  NaN  NaN   NaN   NaN   NaN  \n",
            "2        NaN  NaN  NaN   NaN   NaN   NaN  \n",
            "3        NaN  NaN  NaN   NaN   NaN   NaN  \n",
            "4        0.0  0.0  0.0   0.0   0.0   0.0  \n",
            "...      ...  ...  ...   ...   ...   ...  \n",
            "590535   NaN  NaN  NaN   NaN   NaN   NaN  \n",
            "590536   NaN  NaN  NaN   NaN   NaN   NaN  \n",
            "590537   NaN  NaN  NaN   NaN   NaN   NaN  \n",
            "590538   NaN  NaN  NaN   NaN   NaN   NaN  \n",
            "590539   NaN  NaN  NaN   NaN   NaN   NaN  \n",
            "\n",
            "[590540 rows x 394 columns]>\n",
            "Index(['TransactionID', 'isFraud', 'TransactionDT', 'TransactionAmt',\n",
            "       'ProductCD', 'card1', 'card2', 'card3', 'card4', 'card5',\n",
            "       ...\n",
            "       'V330', 'V331', 'V332', 'V333', 'V334', 'V335', 'V336', 'V337', 'V338',\n",
            "       'V339'],\n",
            "      dtype='object', length=394)\n"
          ]
        }
      ],
      "source": [
        "print(train_trns_df.describe)\n",
        "print(train_trns_df.columns)"
      ]
    },
    {
      "cell_type": "code",
      "execution_count": 11,
      "metadata": {
        "id": "EdNeh9zwXb-C"
      },
      "outputs": [],
      "source": [
        "## I will be merging on \"transaction id\"\n",
        "train_merged= pd.merge(train_trns_df, train_id_df, on='TransactionID', how='left')\n",
        "test_merged= pd.merge(test_trns_df, test_id_df, on='TransactionID', how='left')"
      ]
    },
    {
      "cell_type": "code",
      "execution_count": 12,
      "metadata": {
        "colab": {
          "base_uri": "https://localhost:8080/"
        },
        "id": "pxsID0SKaRCj",
        "outputId": "360a78f9-30db-4784-b944-2ebd30ac67c0"
      },
      "outputs": [
        {
          "output_type": "stream",
          "name": "stdout",
          "text": [
            "(590540, 434)\n",
            "(506691, 433)\n"
          ]
        }
      ],
      "source": [
        "print(train_merged.shape)## we have 434 variables\n",
        "print(test_merged.shape)"
      ]
    },
    {
      "cell_type": "markdown",
      "metadata": {
        "id": "Xv7aIDlBZux2"
      },
      "source": [
        "### Inspecting NaNs"
      ]
    },
    {
      "cell_type": "markdown",
      "metadata": {
        "id": "VKIMUAPHab5V"
      },
      "source": [
        "Training data"
      ]
    },
    {
      "cell_type": "code",
      "execution_count": 13,
      "metadata": {
        "colab": {
          "base_uri": "https://localhost:8080/"
        },
        "id": "6R-1f7HXZyIu",
        "outputId": "d4f6be60-8401-430e-b190-4916511b02d2"
      },
      "outputs": [
        {
          "output_type": "stream",
          "name": "stdout",
          "text": [
            "NaN Distribution Across Columns:\n",
            "Total rows: 590540\n",
            "Total columns: 434\n",
            "Columns with >30% missing values: 232\n",
            "\n",
            "Top 10 columns with highest missing values:\n",
            "id_24    99.196159\n",
            "id_25    99.130965\n",
            "id_07    99.127070\n",
            "id_08    99.127070\n",
            "id_21    99.126393\n",
            "id_26    99.125715\n",
            "id_22    99.124699\n",
            "id_27    99.124699\n",
            "id_23    99.124699\n",
            "dist2    93.628374\n",
            "dtype: float64\n"
          ]
        }
      ],
      "source": [
        "# Step 1: Calculate NaN statistics\n",
        "nan_percentage_train = train_merged.isnull().mean() * 100\n",
        "nan_percentage_train = nan_percentage_train.sort_values(ascending=False)\n",
        "\n",
        "# Step 2: Summary statistics\n",
        "print(\"NaN Distribution Across Columns:\")\n",
        "print(f\"Total rows: {train_merged.shape[0]}\")\n",
        "print(f\"Total columns: {train_merged.shape[1]}\")\n",
        "print(f\"Columns with >30% missing values: {(nan_percentage_train > 30).sum()}\") ##removing columns with more than 30% missing vlaues\n",
        "print(\"\\nTop 10 columns with highest missing values:\")\n",
        "print(nan_percentage_train.head(10))\n"
      ]
    },
    {
      "cell_type": "code",
      "execution_count": 14,
      "metadata": {
        "colab": {
          "base_uri": "https://localhost:8080/",
          "height": 715
        },
        "id": "iRgK6Lhqcqta",
        "outputId": "7bb21da3-9a66-4044-87e8-36a6169d5049"
      },
      "outputs": [
        {
          "output_type": "display_data",
          "data": {
            "text/plain": [
              "<Figure size 1500x800 with 1 Axes>"
            ],
            "image/png": "[encoded data removed]"
          },
          "metadata": {}
        }
      ],
      "source": [
        "# Plot 1: Bar plot of NaN percentages (top 50 columns)\n",
        "plt.figure(figsize=(15, 8))\n",
        "nan_percentage_train.head(50).plot(kind='bar')\n",
        "plt.title('NaN % Before Preprocessing (Top 50 Columns)')\n",
        "plt.xlabel('Column name')\n",
        "plt.ylabel('Missing Value %')\n",
        "plt.xticks(rotation=45, ha='right')\n",
        "plt.tight_layout()\n",
        "plt.savefig('/content/drive/MyDrive/nan_bar_plot_before.png')\n",
        "plt.show()"
      ]
    },
    {
      "cell_type": "code",
      "execution_count": 15,
      "metadata": {
        "colab": {
          "base_uri": "https://localhost:8080/"
        },
        "id": "hd6A-Sgxa6Kn",
        "outputId": "7b33e851-44ba-4f5e-b7f7-8f8376481c94"
      },
      "outputs": [
        {
          "output_type": "stream",
          "name": "stdout",
          "text": [
            "<bound method NDFrame.describe of id_24             99.196159\n",
            "id_25             99.130965\n",
            "id_07             99.127070\n",
            "id_08             99.127070\n",
            "id_21             99.126393\n",
            "                    ...    \n",
            "ProductCD          0.000000\n",
            "TransactionAmt     0.000000\n",
            "TransactionDT      0.000000\n",
            "isFraud            0.000000\n",
            "TransactionID      0.000000\n",
            "Length: 434, dtype: float64>\n"
          ]
        }
      ],
      "source": [
        "print(nan_percentage_train.describe)"
      ]
    },
    {
      "cell_type": "code",
      "execution_count": 16,
      "metadata": {
        "colab": {
          "base_uri": "https://localhost:8080/"
        },
        "id": "hICFRJvNcRwQ",
        "outputId": "e4cbad5b-eaab-431b-d28a-eed996dd38fc"
      },
      "outputs": [
        {
          "output_type": "stream",
          "name": "stdout",
          "text": [
            "Removing 232 columns with >30% missing values:\n",
            "['id_24', 'id_25', 'id_07', 'id_08', 'id_21', 'id_26', 'id_22', 'id_27', 'id_23', 'dist2', 'D7', 'id_18', 'D13', 'D14', 'D12', 'id_04', 'id_03', 'D6', 'id_33', 'D8', 'D9', 'id_09', 'id_10', 'id_30', 'id_32', 'id_34', 'id_14', 'V162', 'V163', 'V147', 'V149', 'V139', 'V154', 'V153', 'V148', 'V155', 'V157', 'V158', 'V142', 'V141', 'V161', 'V140', 'V138', 'V146', 'V156', 'V166', 'V150', 'V144', 'V152', 'V145', 'V164', 'V165', 'V159', 'V160', 'V151', 'V143', 'V329', 'V335', 'V336', 'V339', 'V337', 'V324', 'V327', 'V326', 'V325', 'V328', 'V322', 'V330', 'V338', 'V323', 'V334', 'V331', 'V333', 'V332', 'DeviceInfo', 'id_13', 'id_16', 'V230', 'V264', 'V265', 'V266', 'V252', 'V260', 'V261', 'V263', 'V262', 'V273', 'V274', 'V269', 'V268', 'V267', 'V278', 'V277', 'V276', 'V275', 'V248', 'V235', 'V249', 'V244', 'V243', 'V246', 'V247', 'V257', 'V258', 'V253', 'V236', 'V240', 'V241', 'V242', 'V237', 'V218', 'V231', 'V229', 'V254', 'V228', 'V232', 'V219', 'V233', 'V225', 'V226', 'V224', 'V217', 'V223', 'id_06', 'id_05', 'R_emaildomain', 'id_20', 'id_19', 'id_17', 'V215', 'V211', 'V214', 'V216', 'V191', 'V183', 'V182', 'V205', 'V204', 'V207', 'V206', 'V196', 'V199', 'V186', 'V172', 'V168', 'V203', 'V187', 'V202', 'V190', 'V181', 'V192', 'V193', 'V179', 'V173', 'V178', 'V167', 'V177', 'V176', 'V213', 'V212', 'V169', 'V195', 'V171', 'V210', 'V197', 'V209', 'V188', 'V200', 'V201', 'V198', 'V175', 'V189', 'V194', 'V180', 'V208', 'V170', 'V174', 'V184', 'V185', 'id_31', 'DeviceType', 'id_02', 'id_11', 'id_29', 'id_28', 'id_15', 'id_35', 'id_36', 'id_37', 'id_38', 'V227', 'V250', 'V238', 'V239', 'V255', 'V251', 'V256', 'V245', 'V271', 'V270', 'V259', 'V272', 'V234', 'V220', 'V221', 'V222', 'id_01', 'id_12', 'dist1', 'M5', 'M7', 'M9', 'M8', 'D5', 'M4', 'D2', 'V1', 'V2', 'V4', 'V5', 'V7', 'V9', 'V6', 'D11', 'V8', 'V10', 'V3', 'V11', 'M3', 'M2', 'M1', 'D3']\n"
          ]
        }
      ],
      "source": [
        "# Remove columns with >30% missing values\n",
        "columns_to_drop = nan_percentage_train[nan_percentage_train > 30].index\n",
        "print(f\"Removing {len(columns_to_drop)} columns with >30% missing values:\")\n",
        "print(columns_to_drop.tolist())\n",
        "train_data_cleaned = train_merged.drop(columns=columns_to_drop)"
      ]
    },
    {
      "cell_type": "code",
      "execution_count": 17,
      "metadata": {
        "colab": {
          "base_uri": "https://localhost:8080/",
          "height": 458
        },
        "id": "qLIGkSdsfOPb",
        "outputId": "4ca5e241-4d8e-460d-98fb-f256d59da0d2"
      },
      "outputs": [
        {
          "output_type": "execute_result",
          "data": {
            "text/plain": [
              "TransactionID       int64\n",
              "isFraud             int64\n",
              "TransactionDT       int64\n",
              "TransactionAmt    float64\n",
              "ProductCD          object\n",
              "                   ...   \n",
              "V317              float64\n",
              "V318              float64\n",
              "V319              float64\n",
              "V320              float64\n",
              "V321              float64\n",
              "Length: 202, dtype: object"
            ],
            "text/html": [
              "<div>\n",
              "<style scoped>\n",
              "    .dataframe tbody tr th:only-of-type {\n",
              "        vertical-align: middle;\n",
              "    }\n",
              "\n",
              "    .dataframe tbody tr th {\n",
              "        vertical-align: top;\n",
              "    }\n",
              "\n",
              "    .dataframe thead th {\n",
              "        text-align: right;\n",
              "    }\n",
              "</style>\n",
              "<table border=\"1\" class=\"dataframe\">\n",
              "  <thead>\n",
              "    <tr style=\"text-align: right;\">\n",
              "      <th></th>\n",
              "      <th>0</th>\n",
              "    </tr>\n",
              "  </thead>\n",
              "  <tbody>\n",
              "    <tr>\n",
              "      <th>TransactionID</th>\n",
              "      <td>int64</td>\n",
              "    </tr>\n",
              "    <tr>\n",
              "      <th>isFraud</th>\n",
              "      <td>int64</td>\n",
              "    </tr>\n",
              "    <tr>\n",
              "      <th>TransactionDT</th>\n",
              "      <td>int64</td>\n",
              "    </tr>\n",
              "    <tr>\n",
              "      <th>TransactionAmt</th>\n",
              "      <td>float64</td>\n",
              "    </tr>\n",
              "    <tr>\n",
              "      <th>ProductCD</th>\n",
              "      <td>object</td>\n",
              "    </tr>\n",
              "    <tr>\n",
              "      <th>...</th>\n",
              "      <td>...</td>\n",
              "    </tr>\n",
              "    <tr>\n",
              "      <th>V317</th>\n",
              "      <td>float64</td>\n",
              "    </tr>\n",
              "    <tr>\n",
              "      <th>V318</th>\n",
              "      <td>float64</td>\n",
              "    </tr>\n",
              "    <tr>\n",
              "      <th>V319</th>\n",
              "      <td>float64</td>\n",
              "    </tr>\n",
              "    <tr>\n",
              "      <th>V320</th>\n",
              "      <td>float64</td>\n",
              "    </tr>\n",
              "    <tr>\n",
              "      <th>V321</th>\n",
              "      <td>float64</td>\n",
              "    </tr>\n",
              "  </tbody>\n",
              "</table>\n",
              "<p>202 rows × 1 columns</p>\n",
              "</div><br><label><b>dtype:</b> object</label>"
            ]
          },
          "metadata": {},
          "execution_count": 17
        }
      ],
      "source": [
        "## I wanna check data types\n",
        "train_data_cleaned.dtypes"
      ]
    },
    {
      "cell_type": "code",
      "execution_count": 18,
      "metadata": {
        "id": "Gesh_r-EoHVA"
      },
      "outputs": [],
      "source": [
        "# Impute NaNs in all columns with the mean (for numeric columns only)\n",
        "train_data_cleaned = train_data_cleaned.fillna(train_data_cleaned.mean(numeric_only=True))"
      ]
    },
    {
      "cell_type": "code",
      "execution_count": 19,
      "metadata": {
        "id": "2jK3X0VBx7Xg"
      },
      "outputs": [],
      "source": [
        "from sklearn.impute import SimpleImputer\n",
        "\n",
        "# Identify column types\n",
        "num_cols = train_data_cleaned.select_dtypes(include=['float64', 'int64']).columns\n",
        "cat_cols = train_data_cleaned.select_dtypes(include=['object', 'category']).columns\n",
        "\n",
        "num_imputer = SimpleImputer(strategy='mean')\n",
        "train_data_cleaned[num_cols] = num_imputer.fit_transform(train_data_cleaned[num_cols])\n",
        "\n",
        "\n",
        "cat_imputer = SimpleImputer(strategy='most_frequent')\n",
        "train_data_cleaned[cat_cols] = cat_imputer.fit_transform(train_data_cleaned[cat_cols])\n"
      ]
    },
    {
      "cell_type": "code",
      "execution_count": 20,
      "metadata": {
        "colab": {
          "base_uri": "https://localhost:8080/"
        },
        "id": "foDN7ovX1jT7",
        "outputId": "79263fbe-7906-4b62-f50f-c079adb104dd"
      },
      "outputs": [
        {
          "output_type": "stream",
          "name": "stdout",
          "text": [
            "\n",
            "NaN percentages after imputation (should be 0%):\n",
            "Series([], dtype: float64)\n"
          ]
        }
      ],
      "source": [
        "# Verify no NaNs\n",
        "nan_percentage_cleaned = train_data_cleaned.isnull().mean() * 100\n",
        "print(\"\\nNaN percentages after imputation (should be 0%):\")\n",
        "print(nan_percentage_cleaned[nan_percentage_cleaned > 0])"
      ]
    },
    {
      "cell_type": "markdown",
      "metadata": {
        "id": "OzsGhZbYkZVz"
      },
      "source": [
        "Test Data"
      ]
    },
    {
      "cell_type": "code",
      "execution_count": 21,
      "metadata": {
        "colab": {
          "base_uri": "https://localhost:8080/"
        },
        "id": "kk2c9qixkam_",
        "outputId": "7aeab3f2-0bf0-410d-b5ac-8543c5a1a38e"
      },
      "outputs": [
        {
          "output_type": "stream",
          "name": "stdout",
          "text": [
            "NaN Distribution Across Columns:\n",
            "Total rows: 506691\n",
            "Total columns: 433\n",
            "Columns with >30% missing values: 233\n",
            "\n",
            "Top 10 columns with highest missing values:\n",
            "id-24    99.064519\n",
            "id-25    99.005508\n",
            "id-26    99.003929\n",
            "id-21    99.001561\n",
            "id-08    99.001561\n",
            "id-07    99.001561\n",
            "id-27    99.000969\n",
            "id-23    99.000969\n",
            "id-22    99.000969\n",
            "dist2    92.809030\n",
            "dtype: float64\n"
          ]
        }
      ],
      "source": [
        "# Step 1: Calculate NaN statistics\n",
        "nan_percentage_test = test_merged.isnull().mean() * 100\n",
        "nan_percentage_test = nan_percentage_test.sort_values(ascending=False)\n",
        "\n",
        "# Step 2: Summary statistics\n",
        "print(\"NaN Distribution Across Columns:\")\n",
        "print(f\"Total rows: {test_merged.shape[0]}\")\n",
        "print(f\"Total columns: {test_merged.shape[1]}\")\n",
        "print(f\"Columns with >30% missing values: {(nan_percentage_test > 30).sum()}\") ##removing columns with more than 30% missing vlaues\n",
        "print(\"\\nTop 10 columns with highest missing values:\")\n",
        "print(nan_percentage_test.head(10))"
      ]
    },
    {
      "cell_type": "code",
      "execution_count": 22,
      "metadata": {
        "colab": {
          "base_uri": "https://localhost:8080/",
          "height": 715
        },
        "id": "it_S48IIksdw",
        "outputId": "ef58a080-457c-458d-bf85-94d975e3c2c0"
      },
      "outputs": [
        {
          "output_type": "display_data",
          "data": {
            "text/plain": [
              "<Figure size 1500x800 with 1 Axes>"
            ],
            "image/png": "[encoded data removed]"
          },
          "metadata": {}
        }
      ],
      "source": [
        "# Bar plot: Top 50 columns\n",
        "plt.figure(figsize=(15, 8))\n",
        "nan_percentage_test.head(50).plot(kind='bar')\n",
        "plt.title('NaN % Before Preprocessing (Top 50 Columns)')\n",
        "plt.xlabel('Column name')\n",
        "plt.ylabel('Missing Value %')\n",
        "plt.xticks(rotation=45, ha='right')\n",
        "plt.tight_layout()\n",
        "plt.savefig('/content/drive/MyDrive/nan_bar_plot_before.png')\n",
        "plt.show()"
      ]
    },
    {
      "cell_type": "code",
      "execution_count": 23,
      "metadata": {
        "id": "JjcsB9tPk8dt",
        "colab": {
          "base_uri": "https://localhost:8080/"
        },
        "outputId": "a45236d4-68c2-41a2-a13e-53d83335f57a"
      },
      "outputs": [
        {
          "output_type": "stream",
          "name": "stdout",
          "text": [
            "Removing 233 columns with >30% missing values:\n",
            "['id-24', 'id-25', 'id-26', 'id-21', 'id-08', 'id-07', 'id-27', 'id-23', 'id-22', 'dist2', 'id-18', 'D7', 'id-04', 'id-03', 'D12', 'id-30', 'id-33', 'id-32', 'id-14', 'id-34', 'D9', 'D8', 'id-09', 'id-10', 'V162', 'V149', 'V153', 'V163', 'V158', 'V156', 'V140', 'V155', 'V154', 'V141', 'V148', 'V157', 'V138', 'V139', 'V146', 'V147', 'V161', 'V142', 'V165', 'V164', 'V151', 'V150', 'V159', 'V144', 'V143', 'V145', 'V152', 'V166', 'V160', 'V327', 'V335', 'V336', 'V326', 'V325', 'V338', 'V339', 'V337', 'V324', 'V328', 'V329', 'V331', 'V330', 'V322', 'V323', 'V334', 'V332', 'V333', 'DeviceInfo', 'D14', 'D13', 'D6', 'id-16', 'V253', 'V229', 'V265', 'V266', 'V267', 'V264', 'V260', 'V263', 'V262', 'V261', 'V273', 'V274', 'V275', 'V269', 'V268', 'V278', 'V277', 'V276', 'V249', 'V236', 'V240', 'V237', 'V246', 'V244', 'V247', 'V248', 'V257', 'V258', 'V254', 'V241', 'V232', 'V242', 'V243', 'V228', 'V252', 'V231', 'V230', 'V233', 'V226', 'V235', 'V223', 'V224', 'V219', 'V225', 'V218', 'V217', 'id-13', 'id-06', 'id-05', 'id-20', 'R_emaildomain', 'id-19', 'id-17', 'V208', 'V197', 'V198', 'V209', 'V201', 'V185', 'V180', 'V174', 'V175', 'V195', 'V188', 'V189', 'V194', 'V171', 'V170', 'V210', 'V169', 'V184', 'V200', 'id-31', 'V167', 'V186', 'V172', 'V190', 'V179', 'V177', 'V187', 'V173', 'V176', 'V202', 'V192', 'V191', 'V204', 'V207', 'V168', 'V178', 'V212', 'V213', 'V205', 'V206', 'V203', 'V193', 'V181', 'V182', 'V183', 'V196', 'V211', 'V199', 'V215', 'V214', 'V216', 'id-11', 'id-28', 'id-29', 'DeviceType', 'id-02', 'id-15', 'id-35', 'id-36', 'id-37', 'id-38', 'V251', 'V250', 'V238', 'V239', 'V256', 'V255', 'V259', 'V245', 'V270', 'V272', 'V271', 'V220', 'V221', 'V234', 'V222', 'V227', 'id-12', 'id-01', 'M5', 'dist1', 'M4', 'M7', 'M8', 'M9', 'D2', 'D5', 'D3', 'M3', 'M2', 'M1', 'D11', 'V5', 'V4', 'V3', 'V6', 'V2', 'V1', 'V7', 'V8', 'V11', 'V9', 'V10', 'M6']\n"
          ]
        }
      ],
      "source": [
        "# Remove columns with >30% missing values\n",
        "columns_to_drop_test = nan_percentage_test[nan_percentage_test > 30].index\n",
        "print(f\"Removing {len(columns_to_drop_test)} columns with >30% missing values:\")\n",
        "print(columns_to_drop_test.tolist())\n",
        "test_data_cleaned = test_merged.drop(columns=columns_to_drop_test)"
      ]
    },
    {
      "cell_type": "markdown",
      "metadata": {
        "id": "NZTY_JGloYgP"
      },
      "source": [
        "## Before running PCA: encoding"
      ]
    },
    {
      "cell_type": "code",
      "execution_count": 24,
      "metadata": {
        "id": "JxXUpDqF4zut"
      },
      "outputs": [],
      "source": [
        "# Step 3: Prepare for PCA\n",
        "X = train_data_cleaned.drop(columns=['isFraud', 'TransactionID'])\n",
        "y = train_data_cleaned['isFraud']\n"
      ]
    },
    {
      "cell_type": "code",
      "execution_count": 25,
      "metadata": {
        "colab": {
          "base_uri": "https://localhost:8080/"
        },
        "id": "ufSYkGBn41sQ",
        "outputId": "7aaa7c66-1ca8-4ea3-b14d-19a21f8f62d7"
      },
      "outputs": [
        {
          "output_type": "stream",
          "name": "stdout",
          "text": [
            "\n",
            "Categorical Columns: ['ProductCD', 'card4', 'card6', 'P_emaildomain', 'M6']\n"
          ]
        }
      ],
      "source": [
        "##encoding them!\n",
        "print(\"\\nCategorical Columns:\", cat_cols.tolist())\n"
      ]
    },
    {
      "cell_type": "code",
      "execution_count": 26,
      "metadata": {
        "colab": {
          "base_uri": "https://localhost:8080/"
        },
        "id": "5HLjczgP5imP",
        "outputId": "f0ecb845-d96a-4088-f32d-c9f932f756f0"
      },
      "outputs": [
        {
          "output_type": "stream",
          "name": "stdout",
          "text": [
            "  ProductCD       card4   card6 P_emaildomain M6\n",
            "0         W    discover  credit     gmail.com  T\n",
            "1         W  mastercard  credit     gmail.com  T\n",
            "2         W        visa   debit   outlook.com  F\n",
            "3         W  mastercard   debit     yahoo.com  F\n",
            "4         H  mastercard  credit     gmail.com  F\n"
          ]
        }
      ],
      "source": [
        "print(train_data_cleaned[['ProductCD', 'card4', 'card6', 'P_emaildomain', 'M6']].head())\n"
      ]
    },
    {
      "cell_type": "code",
      "source": [
        "train_data_cleaned['ProductCD'].unique()"
      ],
      "metadata": {
        "colab": {
          "base_uri": "https://localhost:8080/"
        },
        "id": "NyUFIRGRMsCx",
        "outputId": "2862f017-b259-4e88-e2fc-9aee4396f167"
      },
      "execution_count": 27,
      "outputs": [
        {
          "output_type": "execute_result",
          "data": {
            "text/plain": [
              "array(['W', 'H', 'C', 'S', 'R'], dtype=object)"
            ]
          },
          "metadata": {},
          "execution_count": 27
        }
      ]
    },
    {
      "cell_type": "code",
      "source": [
        "train_data_cleaned['ProductCD'].value_counts()"
      ],
      "metadata": {
        "colab": {
          "base_uri": "https://localhost:8080/",
          "height": 272
        },
        "id": "-ecP6ZXgVE41",
        "outputId": "9f598d05-78a6-44ac-d967-aa7f0c6778a4"
      },
      "execution_count": 28,
      "outputs": [
        {
          "output_type": "execute_result",
          "data": {
            "text/plain": [
              "ProductCD\n",
              "W    439670\n",
              "C     68519\n",
              "R     37699\n",
              "H     33024\n",
              "S     11628\n",
              "Name: count, dtype: int64"
            ],
            "text/html": [
              "<div>\n",
              "<style scoped>\n",
              "    .dataframe tbody tr th:only-of-type {\n",
              "        vertical-align: middle;\n",
              "    }\n",
              "\n",
              "    .dataframe tbody tr th {\n",
              "        vertical-align: top;\n",
              "    }\n",
              "\n",
              "    .dataframe thead th {\n",
              "        text-align: right;\n",
              "    }\n",
              "</style>\n",
              "<table border=\"1\" class=\"dataframe\">\n",
              "  <thead>\n",
              "    <tr style=\"text-align: right;\">\n",
              "      <th></th>\n",
              "      <th>count</th>\n",
              "    </tr>\n",
              "    <tr>\n",
              "      <th>ProductCD</th>\n",
              "      <th></th>\n",
              "    </tr>\n",
              "  </thead>\n",
              "  <tbody>\n",
              "    <tr>\n",
              "      <th>W</th>\n",
              "      <td>439670</td>\n",
              "    </tr>\n",
              "    <tr>\n",
              "      <th>C</th>\n",
              "      <td>68519</td>\n",
              "    </tr>\n",
              "    <tr>\n",
              "      <th>R</th>\n",
              "      <td>37699</td>\n",
              "    </tr>\n",
              "    <tr>\n",
              "      <th>H</th>\n",
              "      <td>33024</td>\n",
              "    </tr>\n",
              "    <tr>\n",
              "      <th>S</th>\n",
              "      <td>11628</td>\n",
              "    </tr>\n",
              "  </tbody>\n",
              "</table>\n",
              "</div><br><label><b>dtype:</b> int64</label>"
            ]
          },
          "metadata": {},
          "execution_count": 28
        }
      ]
    },
    {
      "cell_type": "code",
      "source": [
        "## I will encode it\n",
        "# Mapping based on frequency: W > C > R > H > S\n",
        "productcd_mapping = {\n",
        "    'W': 1,\n",
        "    'C': 2,\n",
        "    'R': 3,\n",
        "    'H': 4,\n",
        "    'S': 5\n",
        "}\n",
        "\n",
        "train_data_cleaned['ProductCD_encoded'] = train_data_cleaned['ProductCD'].map(productcd_mapping)\n",
        "train_data_cleaned.drop(columns=['ProductCD'], inplace=True)"
      ],
      "metadata": {
        "id": "5kSlVoqbVM6G"
      },
      "execution_count": 29,
      "outputs": []
    },
    {
      "cell_type": "code",
      "source": [
        "train_data_cleaned['card4'].unique()"
      ],
      "metadata": {
        "colab": {
          "base_uri": "https://localhost:8080/"
        },
        "id": "vo8y6Qj6Qy1c",
        "outputId": "c4e7d5ef-ff2a-46c0-c4fc-ceeb16ea138a"
      },
      "execution_count": 30,
      "outputs": [
        {
          "output_type": "execute_result",
          "data": {
            "text/plain": [
              "array(['discover', 'mastercard', 'visa', 'american express'], dtype=object)"
            ]
          },
          "metadata": {},
          "execution_count": 30
        }
      ]
    },
    {
      "cell_type": "code",
      "source": [
        "train_data_cleaned['card4'].value_counts()"
      ],
      "metadata": {
        "colab": {
          "base_uri": "https://localhost:8080/",
          "height": 241
        },
        "id": "8bH2LcOLVWs5",
        "outputId": "d50caac0-84bb-4f33-8043-fa44ad58bdd4"
      },
      "execution_count": 31,
      "outputs": [
        {
          "output_type": "execute_result",
          "data": {
            "text/plain": [
              "card4\n",
              "visa                386344\n",
              "mastercard          189217\n",
              "american express      8328\n",
              "discover              6651\n",
              "Name: count, dtype: int64"
            ],
            "text/html": [
              "<div>\n",
              "<style scoped>\n",
              "    .dataframe tbody tr th:only-of-type {\n",
              "        vertical-align: middle;\n",
              "    }\n",
              "\n",
              "    .dataframe tbody tr th {\n",
              "        vertical-align: top;\n",
              "    }\n",
              "\n",
              "    .dataframe thead th {\n",
              "        text-align: right;\n",
              "    }\n",
              "</style>\n",
              "<table border=\"1\" class=\"dataframe\">\n",
              "  <thead>\n",
              "    <tr style=\"text-align: right;\">\n",
              "      <th></th>\n",
              "      <th>count</th>\n",
              "    </tr>\n",
              "    <tr>\n",
              "      <th>card4</th>\n",
              "      <th></th>\n",
              "    </tr>\n",
              "  </thead>\n",
              "  <tbody>\n",
              "    <tr>\n",
              "      <th>visa</th>\n",
              "      <td>386344</td>\n",
              "    </tr>\n",
              "    <tr>\n",
              "      <th>mastercard</th>\n",
              "      <td>189217</td>\n",
              "    </tr>\n",
              "    <tr>\n",
              "      <th>american express</th>\n",
              "      <td>8328</td>\n",
              "    </tr>\n",
              "    <tr>\n",
              "      <th>discover</th>\n",
              "      <td>6651</td>\n",
              "    </tr>\n",
              "  </tbody>\n",
              "</table>\n",
              "</div><br><label><b>dtype:</b> int64</label>"
            ]
          },
          "metadata": {},
          "execution_count": 31
        }
      ]
    },
    {
      "cell_type": "code",
      "source": [
        "# Mapping based on frequency: W > C > R > H > S\n",
        "card4_mapping = {\n",
        "    'visa': 1,\n",
        "    'mastercard': 2,\n",
        "    'american express': 3,\n",
        "    'discover': 4,\n",
        "}\n",
        "\n",
        "train_data_cleaned['card4_encoded'] = train_data_cleaned['card4'].map(card4_mapping)\n",
        "train_data_cleaned.drop(columns=['card4'], inplace=True)"
      ],
      "metadata": {
        "id": "W_XWl-m8Va_Y"
      },
      "execution_count": 32,
      "outputs": []
    },
    {
      "cell_type": "code",
      "source": [
        "train_data_cleaned['card6'].unique()"
      ],
      "metadata": {
        "colab": {
          "base_uri": "https://localhost:8080/"
        },
        "id": "1c3kTer6Q8_H",
        "outputId": "12c3f1a5-33d7-4222-d344-65e0e75e0543"
      },
      "execution_count": 33,
      "outputs": [
        {
          "output_type": "execute_result",
          "data": {
            "text/plain": [
              "array(['credit', 'debit', 'debit or credit', 'charge card'], dtype=object)"
            ]
          },
          "metadata": {},
          "execution_count": 33
        }
      ]
    },
    {
      "cell_type": "code",
      "source": [
        "train_data_cleaned['card6'].value_counts()"
      ],
      "metadata": {
        "colab": {
          "base_uri": "https://localhost:8080/",
          "height": 241
        },
        "id": "W-ZMpd81Vr56",
        "outputId": "ecad4e30-03a5-474e-cbcc-46e0435803ad"
      },
      "execution_count": 34,
      "outputs": [
        {
          "output_type": "execute_result",
          "data": {
            "text/plain": [
              "card6\n",
              "debit              441509\n",
              "credit             148986\n",
              "debit or credit        30\n",
              "charge card            15\n",
              "Name: count, dtype: int64"
            ],
            "text/html": [
              "<div>\n",
              "<style scoped>\n",
              "    .dataframe tbody tr th:only-of-type {\n",
              "        vertical-align: middle;\n",
              "    }\n",
              "\n",
              "    .dataframe tbody tr th {\n",
              "        vertical-align: top;\n",
              "    }\n",
              "\n",
              "    .dataframe thead th {\n",
              "        text-align: right;\n",
              "    }\n",
              "</style>\n",
              "<table border=\"1\" class=\"dataframe\">\n",
              "  <thead>\n",
              "    <tr style=\"text-align: right;\">\n",
              "      <th></th>\n",
              "      <th>count</th>\n",
              "    </tr>\n",
              "    <tr>\n",
              "      <th>card6</th>\n",
              "      <th></th>\n",
              "    </tr>\n",
              "  </thead>\n",
              "  <tbody>\n",
              "    <tr>\n",
              "      <th>debit</th>\n",
              "      <td>441509</td>\n",
              "    </tr>\n",
              "    <tr>\n",
              "      <th>credit</th>\n",
              "      <td>148986</td>\n",
              "    </tr>\n",
              "    <tr>\n",
              "      <th>debit or credit</th>\n",
              "      <td>30</td>\n",
              "    </tr>\n",
              "    <tr>\n",
              "      <th>charge card</th>\n",
              "      <td>15</td>\n",
              "    </tr>\n",
              "  </tbody>\n",
              "</table>\n",
              "</div><br><label><b>dtype:</b> int64</label>"
            ]
          },
          "metadata": {},
          "execution_count": 34
        }
      ]
    },
    {
      "cell_type": "code",
      "source": [
        "card6_mapping = {\n",
        "    'credit': 1,\n",
        "    'debit': 2,\n",
        "    'charge card': 4,\n",
        "    'debit or credit': 3,\n",
        "}\n",
        "train_data_cleaned['card6_encoded'] = train_data_cleaned['card6'].map(card6_mapping)\n",
        "train_data_cleaned.drop(columns=['card6'], inplace=True)"
      ],
      "metadata": {
        "id": "6ACEYf6ZVx2W"
      },
      "execution_count": 35,
      "outputs": []
    },
    {
      "cell_type": "code",
      "source": [
        "train_data_cleaned['P_emaildomain'].unique()"
      ],
      "metadata": {
        "colab": {
          "base_uri": "https://localhost:8080/"
        },
        "id": "EpEaODP4RIOX",
        "outputId": "858759d6-b9bb-4765-c239-40c9457ff05a"
      },
      "execution_count": 36,
      "outputs": [
        {
          "output_type": "execute_result",
          "data": {
            "text/plain": [
              "array(['gmail.com', 'outlook.com', 'yahoo.com', 'mail.com',\n",
              "       'anonymous.com', 'hotmail.com', 'verizon.net', 'aol.com', 'me.com',\n",
              "       'comcast.net', 'optonline.net', 'cox.net', 'charter.net',\n",
              "       'rocketmail.com', 'prodigy.net.mx', 'embarqmail.com', 'icloud.com',\n",
              "       'live.com.mx', 'gmail', 'live.com', 'att.net', 'juno.com',\n",
              "       'ymail.com', 'sbcglobal.net', 'bellsouth.net', 'msn.com', 'q.com',\n",
              "       'yahoo.com.mx', 'centurylink.net', 'servicios-ta.com',\n",
              "       'earthlink.net', 'hotmail.es', 'cfl.rr.com', 'roadrunner.com',\n",
              "       'netzero.net', 'gmx.de', 'suddenlink.net', 'frontiernet.net',\n",
              "       'windstream.net', 'frontier.com', 'outlook.es', 'mac.com',\n",
              "       'netzero.com', 'aim.com', 'web.de', 'twc.com', 'cableone.net',\n",
              "       'yahoo.fr', 'yahoo.de', 'yahoo.es', 'sc.rr.com', 'ptd.net',\n",
              "       'live.fr', 'yahoo.co.uk', 'hotmail.fr', 'hotmail.de',\n",
              "       'hotmail.co.uk', 'protonmail.com', 'yahoo.co.jp'], dtype=object)"
            ]
          },
          "metadata": {},
          "execution_count": 36
        }
      ]
    },
    {
      "cell_type": "code",
      "source": [
        "train_data_cleaned['M6'].unique()\n",
        "train_data_cleaned['M6'] = train_data_cleaned['M6'].map({'F': 0, 'T': 1}) ##creating dummies"
      ],
      "metadata": {
        "id": "1k8oxSfqRT_Q"
      },
      "execution_count": 37,
      "outputs": []
    },
    {
      "cell_type": "code",
      "source": [
        "train_data_cleaned.isna().sum()"
      ],
      "metadata": {
        "colab": {
          "base_uri": "https://localhost:8080/",
          "height": 458
        },
        "id": "fR9UoP98R-wJ",
        "outputId": "54189b08-853d-47aa-8049-a24643aba63b"
      },
      "execution_count": 38,
      "outputs": [
        {
          "output_type": "execute_result",
          "data": {
            "text/plain": [
              "TransactionID        0\n",
              "isFraud              0\n",
              "TransactionDT        0\n",
              "TransactionAmt       0\n",
              "card1                0\n",
              "                    ..\n",
              "V320                 0\n",
              "V321                 0\n",
              "ProductCD_encoded    0\n",
              "card4_encoded        0\n",
              "card6_encoded        0\n",
              "Length: 202, dtype: int64"
            ],
            "text/html": [
              "<div>\n",
              "<style scoped>\n",
              "    .dataframe tbody tr th:only-of-type {\n",
              "        vertical-align: middle;\n",
              "    }\n",
              "\n",
              "    .dataframe tbody tr th {\n",
              "        vertical-align: top;\n",
              "    }\n",
              "\n",
              "    .dataframe thead th {\n",
              "        text-align: right;\n",
              "    }\n",
              "</style>\n",
              "<table border=\"1\" class=\"dataframe\">\n",
              "  <thead>\n",
              "    <tr style=\"text-align: right;\">\n",
              "      <th></th>\n",
              "      <th>0</th>\n",
              "    </tr>\n",
              "  </thead>\n",
              "  <tbody>\n",
              "    <tr>\n",
              "      <th>TransactionID</th>\n",
              "      <td>0</td>\n",
              "    </tr>\n",
              "    <tr>\n",
              "      <th>isFraud</th>\n",
              "      <td>0</td>\n",
              "    </tr>\n",
              "    <tr>\n",
              "      <th>TransactionDT</th>\n",
              "      <td>0</td>\n",
              "    </tr>\n",
              "    <tr>\n",
              "      <th>TransactionAmt</th>\n",
              "      <td>0</td>\n",
              "    </tr>\n",
              "    <tr>\n",
              "      <th>card1</th>\n",
              "      <td>0</td>\n",
              "    </tr>\n",
              "    <tr>\n",
              "      <th>...</th>\n",
              "      <td>...</td>\n",
              "    </tr>\n",
              "    <tr>\n",
              "      <th>V320</th>\n",
              "      <td>0</td>\n",
              "    </tr>\n",
              "    <tr>\n",
              "      <th>V321</th>\n",
              "      <td>0</td>\n",
              "    </tr>\n",
              "    <tr>\n",
              "      <th>ProductCD_encoded</th>\n",
              "      <td>0</td>\n",
              "    </tr>\n",
              "    <tr>\n",
              "      <th>card4_encoded</th>\n",
              "      <td>0</td>\n",
              "    </tr>\n",
              "    <tr>\n",
              "      <th>card6_encoded</th>\n",
              "      <td>0</td>\n",
              "    </tr>\n",
              "  </tbody>\n",
              "</table>\n",
              "<p>202 rows × 1 columns</p>\n",
              "</div><br><label><b>dtype:</b> int64</label>"
            ]
          },
          "metadata": {},
          "execution_count": 38
        }
      ]
    },
    {
      "cell_type": "code",
      "source": [
        "common_domains = ['gmail.com', 'yahoo.com', 'outlook.com']\n",
        "train_data_cleaned['P_email_common'] = train_data_cleaned['P_emaildomain'].isin(common_domains).astype(int) ##if email is common, 1, otherwise, 0\n",
        "train_data_cleaned.drop(columns=['P_emaildomain'], inplace=True)"
      ],
      "metadata": {
        "id": "KzexUns-Up4w"
      },
      "execution_count": 39,
      "outputs": []
    },
    {
      "cell_type": "code",
      "source": [
        "## checking to see of there are any values\n",
        "non_numeric_cols = train_data_cleaned.select_dtypes(exclude=['number']).columns\n",
        "print(\"Non-numeric columns:\", non_numeric_cols.tolist())"
      ],
      "metadata": {
        "colab": {
          "base_uri": "https://localhost:8080/"
        },
        "id": "gR67kJrTWBbx",
        "outputId": "eb816ac6-7e11-4fc7-b8a6-a3caf2885599"
      },
      "execution_count": 40,
      "outputs": [
        {
          "output_type": "stream",
          "name": "stdout",
          "text": [
            "Non-numeric columns: []\n"
          ]
        }
      ]
    },
    {
      "cell_type": "markdown",
      "source": [
        "awesome! there arent any! now we can do PCA\n",
        "\n",
        "\n",
        "## Now: PCA"
      ],
      "metadata": {
        "id": "Qkz5N4tkWFZo"
      }
    },
    {
      "cell_type": "code",
      "source": [
        "# Separate target if it exists\n",
        "X = train_data_cleaned.drop(columns=['isFraud'])\n",
        "y = train_data_cleaned['isFraud']"
      ],
      "metadata": {
        "id": "ZkXAn76DWQ-w"
      },
      "execution_count": 41,
      "outputs": []
    },
    {
      "cell_type": "code",
      "source": [
        "X.isnull().sum().sort_values(ascending=False).head()"
      ],
      "metadata": {
        "colab": {
          "base_uri": "https://localhost:8080/",
          "height": 241
        },
        "id": "nbgNXLkvWZ7a",
        "outputId": "3da08efd-a7a4-40ec-d121-dae4a0209d8e"
      },
      "execution_count": 42,
      "outputs": [
        {
          "output_type": "execute_result",
          "data": {
            "text/plain": [
              "TransactionID     0\n",
              "TransactionDT     0\n",
              "TransactionAmt    0\n",
              "card1             0\n",
              "card2             0\n",
              "dtype: int64"
            ],
            "text/html": [
              "<div>\n",
              "<style scoped>\n",
              "    .dataframe tbody tr th:only-of-type {\n",
              "        vertical-align: middle;\n",
              "    }\n",
              "\n",
              "    .dataframe tbody tr th {\n",
              "        vertical-align: top;\n",
              "    }\n",
              "\n",
              "    .dataframe thead th {\n",
              "        text-align: right;\n",
              "    }\n",
              "</style>\n",
              "<table border=\"1\" class=\"dataframe\">\n",
              "  <thead>\n",
              "    <tr style=\"text-align: right;\">\n",
              "      <th></th>\n",
              "      <th>0</th>\n",
              "    </tr>\n",
              "  </thead>\n",
              "  <tbody>\n",
              "    <tr>\n",
              "      <th>TransactionID</th>\n",
              "      <td>0</td>\n",
              "    </tr>\n",
              "    <tr>\n",
              "      <th>TransactionDT</th>\n",
              "      <td>0</td>\n",
              "    </tr>\n",
              "    <tr>\n",
              "      <th>TransactionAmt</th>\n",
              "      <td>0</td>\n",
              "    </tr>\n",
              "    <tr>\n",
              "      <th>card1</th>\n",
              "      <td>0</td>\n",
              "    </tr>\n",
              "    <tr>\n",
              "      <th>card2</th>\n",
              "      <td>0</td>\n",
              "    </tr>\n",
              "  </tbody>\n",
              "</table>\n",
              "</div><br><label><b>dtype:</b> int64</label>"
            ]
          },
          "metadata": {},
          "execution_count": 42
        }
      ]
    },
    {
      "cell_type": "code",
      "source": [
        "scaler = StandardScaler()\n",
        "X_scaled = scaler.fit_transform(X)"
      ],
      "metadata": {
        "id": "EbI9HmlHZ92E"
      },
      "execution_count": 43,
      "outputs": []
    },
    {
      "cell_type": "code",
      "source": [
        "pca = PCA(n_components=0.95)  # Keep enough components to explain 95% variance\n",
        "X_pca = pca.fit_transform(X_scaled)"
      ],
      "metadata": {
        "id": "0hLD7U7PaKhP"
      },
      "execution_count": 44,
      "outputs": []
    },
    {
      "cell_type": "code",
      "source": [
        "plt.figure(figsize=(10,5))\n",
        "plt.plot(np.cumsum(pca.explained_variance_ratio_))\n",
        "plt.xlabel('Number of Components')\n",
        "plt.ylabel('Cumulative Explained Variance')\n",
        "plt.title('Explained Variance by PCA Components')\n",
        "plt.grid(True)\n",
        "plt.show()"
      ],
      "metadata": {
        "colab": {
          "base_uri": "https://localhost:8080/",
          "height": 487
        },
        "id": "RT4HkCaqaRLT",
        "outputId": "706280a2-c213-410f-f777-377d51996ec5"
      },
      "execution_count": 45,
      "outputs": [
        {
          "output_type": "display_data",
          "data": {
            "text/plain": [
              "<Figure size 1000x500 with 1 Axes>"
            ],
            "image/png": "[encoded data removed]"
          },
          "metadata": {}
        }
      ]
    },
    {
      "cell_type": "code",
      "source": [
        "plt.figure(figsize=(10, 6))\n",
        "plt.plot(range(1, len(pca.explained_variance_ratio_) + 1),\n",
        "         pca.explained_variance_ratio_.cumsum(), marker='o')\n",
        "plt.title('Cumulative Explained Variance')\n",
        "plt.xlabel('Number of Principal Components')\n",
        "plt.ylabel('Cumulative Explained Variance')\n",
        "plt.grid(True)\n",
        "plt.show()"
      ],
      "metadata": {
        "colab": {
          "base_uri": "https://localhost:8080/",
          "height": 564
        },
        "id": "7alUy9I_afyu",
        "outputId": "ec5b10b5-523d-49b8-835b-0b59a5472f05"
      },
      "execution_count": 46,
      "outputs": [
        {
          "output_type": "display_data",
          "data": {
            "text/plain": [
              "<Figure size 1000x600 with 1 Axes>"
            ],
            "image/png": "[encoded data removed]"
          },
          "metadata": {}
        }
      ]
    },
    {
      "cell_type": "code",
      "source": [
        "\n",
        "\n",
        "# Number of components\n",
        "n_components = len(pca.explained_variance_ratio_)\n",
        "\n",
        "# Plot\n",
        "plt.figure(figsize=(12, 6))\n",
        "plt.plot(range(1, n_components + 1), pca.explained_variance_ratio_, marker='o', linestyle='--')\n",
        "plt.title('Explained Variance by Each Principal Component')\n",
        "plt.xlabel('Principal Component')\n",
        "plt.ylabel('Explained Variance Ratio')\n",
        "\n",
        "# Set x-ticks to show all component numbers\n",
        "plt.xticks(np.arange(0, n_components + 5, 5), rotation=90)\n",
        "\n",
        "plt.grid(True)\n",
        "plt.show()\n",
        "plt.tight_layout()\n",
        "plt.show()"
      ],
      "metadata": {
        "colab": {
          "base_uri": "https://localhost:8080/",
          "height": 586
        },
        "id": "mrjCo1lfanNd",
        "outputId": "382a4f59-8aee-426d-e6bd-3b02379b1ce7"
      },
      "execution_count": 47,
      "outputs": [
        {
          "output_type": "display_data",
          "data": {
            "text/plain": [
              "<Figure size 1200x600 with 1 Axes>"
            ],
            "image/png": "[encoded data removed]"
          },
          "metadata": {}
        },
        {
          "output_type": "display_data",
          "data": {
            "text/plain": [
              "<Figure size 640x480 with 0 Axes>"
            ]
          },
          "metadata": {}
        }
      ]
    },
    {
      "cell_type": "code",
      "source": [
        "# Assuming `pca` is your fitted PCA object\n",
        "explained_variance_ratio = pca.explained_variance_ratio_\n",
        "# Cumulative variance\n",
        "cumulative_variance = np.cumsum(explained_variance_ratio)\n",
        "\n",
        "# Print cumulative variance explained by first 6 PCs\n",
        "print(f\"Cumulative variance explained by first 6 PCs: {cumulative_variance[5]:.4f}\")\n"
      ],
      "metadata": {
        "colab": {
          "base_uri": "https://localhost:8080/"
        },
        "id": "gJ5-Pz3cc3Gu",
        "outputId": "da79754c-bce4-493e-b478-7716ccb50799"
      },
      "execution_count": 48,
      "outputs": [
        {
          "output_type": "stream",
          "name": "stdout",
          "text": [
            "Cumulative variance explained by first 6 PCs: 0.4882\n"
          ]
        }
      ]
    },
    {
      "cell_type": "code",
      "source": [
        "##I want to see loadings\n",
        "pc_loadings = pd.DataFrame(\n",
        "    pca.components_[:6],  # First 6 components\n",
        "    columns=X.columns,\n",
        "    index=[f'PC{i+1}' for i in range(6)]\n",
        ")\n",
        "\n",
        "# Display all loadings (not truncated)\n",
        "pd.set_option('display.max_columns', None)\n",
        "print(pc_loadings)"
      ],
      "metadata": {
        "colab": {
          "base_uri": "https://localhost:8080/"
        },
        "collapsed": true,
        "id": "yEOo1blscCRh",
        "outputId": "6fe61cd3-b95b-48e7-912b-1a8987368af0"
      },
      "execution_count": 49,
      "outputs": [
        {
          "output_type": "stream",
          "name": "stdout",
          "text": [
            "     TransactionID  TransactionDT  TransactionAmt     card1     card2  \\\n",
            "PC1      -0.005592      -0.005460       -0.022498  0.002951  0.014064   \n",
            "PC2       0.015936       0.016411        0.011370  0.009066  0.002384   \n",
            "PC3      -0.018589      -0.017341       -0.003782  0.001965 -0.000366   \n",
            "PC4       0.018270       0.018049        0.017863 -0.002762 -0.006049   \n",
            "PC5      -0.008795      -0.008698       -0.023678  0.000535 -0.001068   \n",
            "PC6       0.021563       0.020902        0.032163 -0.001011 -0.003479   \n",
            "\n",
            "        card3     card5     addr1     addr2        C1        C2        C3  \\\n",
            "PC1  0.113658 -0.032024  0.002079 -0.027980  0.014122  0.016894  0.002436   \n",
            "PC2 -0.041357 -0.009231  0.002089  0.010065 -0.005334 -0.006289  0.001113   \n",
            "PC3  0.007614  0.000483  0.000776  0.002202  0.306834  0.305623 -0.001915   \n",
            "PC4 -0.010494 -0.002179 -0.004732 -0.005514  0.001250  0.002419  0.000061   \n",
            "PC5  0.012109  0.001635  0.007261 -0.006425 -0.040531 -0.043269 -0.003909   \n",
            "PC6  0.000328  0.008890  0.001700  0.003368 -0.031682 -0.035951  0.011624   \n",
            "\n",
            "           C4        C5        C6        C7        C8        C9       C10  \\\n",
            "PC1  0.018452 -0.020207  0.011523  0.019091  0.019523 -0.023745  0.019620   \n",
            "PC2 -0.006222  0.004359 -0.004829 -0.006994 -0.006362  0.005760 -0.006651   \n",
            "PC3  0.292765  0.075377  0.303030  0.286744  0.296555  0.076428  0.295361   \n",
            "PC4  0.001125 -0.014945 -0.001618  0.001578  0.001983 -0.009879  0.000905   \n",
            "PC5 -0.052213  0.059612 -0.036491 -0.051794 -0.052786  0.052818 -0.053337   \n",
            "PC6 -0.054141  0.121067 -0.021703 -0.053328 -0.055024  0.116277 -0.054477   \n",
            "\n",
            "          C11       C12       C13       C14        D1        D4       D10  \\\n",
            "PC1  0.014139  0.019119 -0.004261  0.006621 -0.029759 -0.031280 -0.038378   \n",
            "PC2 -0.005201 -0.006989  0.004332 -0.002805  0.009175  0.011356  0.021086   \n",
            "PC3  0.306874  0.286773  0.256765  0.297490  0.023437  0.021595  0.030126   \n",
            "PC4 -0.000330  0.002579 -0.007194 -0.005070 -0.032945 -0.024587 -0.021457   \n",
            "PC5 -0.040947 -0.051485  0.004941 -0.023952  0.089643  0.080314  0.082060   \n",
            "PC6 -0.031265 -0.053290  0.059724 -0.000047  0.075641  0.075616  0.076450   \n",
            "\n",
            "          D15        M6       V12       V13       V14       V15       V16  \\\n",
            "PC1 -0.039324 -0.052863 -0.075910 -0.077286  0.000402  0.148582  0.145996   \n",
            "PC2  0.015305  0.011887  0.015565  0.016953  0.000072 -0.052941 -0.051993   \n",
            "PC3  0.023921  0.004252  0.001562  0.001960  0.000635 -0.026697 -0.025295   \n",
            "PC4 -0.023589  0.013703  0.058490  0.066057  0.014926 -0.017401 -0.015784   \n",
            "PC5  0.091272  0.008663 -0.098407 -0.105993 -0.003904  0.010455  0.010322   \n",
            "PC6  0.076207  0.032590 -0.043810 -0.037668  0.020996  0.017841  0.017844   \n",
            "\n",
            "          V17       V18       V19       V20       V21       V22       V23  \\\n",
            "PC1  0.148075  0.146835  0.018232  0.014583  0.151205  0.145531  0.017307   \n",
            "PC2 -0.026167 -0.026097 -0.025561 -0.022375 -0.025854 -0.024824 -0.004283   \n",
            "PC3 -0.024759 -0.023736 -0.010397 -0.008733 -0.026400 -0.024448  0.003536   \n",
            "PC4 -0.000235  0.000568  0.031998  0.040915 -0.020749 -0.018688  0.162754   \n",
            "PC5  0.030153  0.029393 -0.058363 -0.066519  0.019703  0.017093  0.075186   \n",
            "PC6  0.015357  0.016017  0.019343  0.022709  0.015928  0.018309 -0.012265   \n",
            "\n",
            "          V24       V25       V26       V27       V28       V29       V30  \\\n",
            "PC1  0.012531  0.005497  0.005903  0.004777  0.004704 -0.060624 -0.058878   \n",
            "PC2 -0.002256 -0.000364 -0.000277  0.001887  0.002148  0.008403  0.008577   \n",
            "PC3  0.004877  0.002300  0.003339 -0.002196 -0.002204  0.055487  0.056954   \n",
            "PC4  0.159120  0.027525  0.034666  0.000427  0.001233 -0.065644 -0.061797   \n",
            "PC5  0.060576 -0.022180 -0.028006 -0.006032 -0.007267  0.170360  0.166441   \n",
            "PC6 -0.007337  0.050100  0.048720  0.021404  0.022990  0.244027  0.247428   \n",
            "\n",
            "          V31       V32       V33       V34       V35       V36       V37  \\\n",
            "PC1  0.153766  0.150725  0.144946  0.139456 -0.075957 -0.077020  0.051574   \n",
            "PC2 -0.028399 -0.028078 -0.051589 -0.049172  0.026151  0.027740 -0.015431   \n",
            "PC3 -0.026759 -0.025389 -0.027700 -0.026971 -0.015534 -0.015574 -0.003258   \n",
            "PC4 -0.021333 -0.019382 -0.011005 -0.003600  0.056576  0.063827  0.057547   \n",
            "PC5  0.014235  0.013673 -0.002212 -0.010778 -0.092226 -0.099566 -0.018443   \n",
            "PC6  0.015928  0.016482  0.015023  0.013298 -0.050935 -0.043791  0.077413   \n",
            "\n",
            "          V38       V39       V40       V41       V42       V43       V44  \\\n",
            "PC1  0.055636  0.136267  0.132062  0.001030  0.145645  0.141453  0.032660   \n",
            "PC2 -0.016360 -0.043721 -0.042181 -0.000312 -0.047269 -0.045769 -0.009442   \n",
            "PC3 -0.002856  0.005900  0.005971  0.000949  0.004495  0.005376  0.004910   \n",
            "PC4  0.062012  0.003794  0.010767  0.015853 -0.016342 -0.009830  0.104266   \n",
            "PC5 -0.021680  0.020161  0.021384 -0.005062  0.014362  0.013341  0.036038   \n",
            "PC6  0.078724  0.022869  0.025732  0.024615  0.016995  0.021780  0.036713   \n",
            "\n",
            "          V45       V46       V47       V48       V49       V50       V51  \\\n",
            "PC1  0.034509  0.022611  0.026598 -0.062154 -0.060694  0.148870  0.144295   \n",
            "PC2 -0.009609 -0.005929 -0.006576  0.016545  0.016367 -0.048840 -0.047434   \n",
            "PC3  0.005733  0.003278  0.004272  0.041573  0.042632  0.005528  0.005055   \n",
            "PC4  0.114751  0.049016  0.054721 -0.060047 -0.057449 -0.023626 -0.003083   \n",
            "PC5  0.037741 -0.003294 -0.007642  0.161170  0.158288  0.013711  0.003574   \n",
            "PC6  0.038401  0.045531  0.044319  0.230953  0.233374  0.005534  0.015147   \n",
            "\n",
            "          V52       V53       V54       V55       V56       V57       V58  \\\n",
            "PC1  0.138888 -0.076974 -0.078226  0.049774  0.049292  0.148279  0.146000   \n",
            "PC2 -0.045187  0.017013  0.018576 -0.015496 -0.014801 -0.053231 -0.052081   \n",
            "PC3  0.005051 -0.013169 -0.013138 -0.012440 -0.010986  0.005083  0.004356   \n",
            "PC4  0.006233  0.061777  0.070123  0.036450  0.036453 -0.016576 -0.012543   \n",
            "PC5 -0.000168 -0.099736 -0.112756 -0.071051 -0.074278 -0.000926 -0.004964   \n",
            "PC6  0.016577 -0.028284 -0.019482  0.082463  0.080529  0.017026  0.023517   \n",
            "\n",
            "          V59       V60       V61       V62       V63       V64       V65  \\\n",
            "PC1  0.148451  0.145376  0.021484  0.021299  0.151313  0.145915  0.000529   \n",
            "PC2 -0.027647 -0.028378 -0.024661 -0.022006 -0.027390 -0.028072 -0.000050   \n",
            "PC3  0.003411  0.003038 -0.004098 -0.005196  0.002522  0.001652  0.001054   \n",
            "PC4 -0.016942 -0.013563  0.039875  0.050325 -0.020320 -0.016180  0.012025   \n",
            "PC5  0.003177 -0.000560 -0.074803 -0.091070  0.004994 -0.000576 -0.005668   \n",
            "PC6  0.024958  0.030849  0.034384  0.043812  0.020612  0.028537  0.020378   \n",
            "\n",
            "          V66       V67       V68       V69       V70       V71       V72  \\\n",
            "PC1  0.017566  0.022579  0.004289 -0.060303 -0.058728  0.154123  0.151391   \n",
            "PC2 -0.004187 -0.005402  0.002302  0.008696  0.008907 -0.030008 -0.030254   \n",
            "PC3  0.004588  0.004263 -0.001991  0.045946  0.047557  0.003953  0.003266   \n",
            "PC4  0.030927  0.040527  0.001616 -0.064377 -0.061262 -0.020499 -0.016194   \n",
            "PC5 -0.040309 -0.055807 -0.008782  0.170310  0.165141  0.002143 -0.002276   \n",
            "PC6  0.064859  0.067358  0.023649  0.247883  0.251962  0.016056  0.022845   \n",
            "\n",
            "          V73       V74       V75       V76       V77       V78       V79  \\\n",
            "PC1  0.143705  0.139530 -0.072818 -0.074378  0.054886  0.056286  0.146304   \n",
            "PC2 -0.051315 -0.049298  0.023889  0.025615 -0.016792 -0.015893 -0.048945   \n",
            "PC3  0.003713  0.003318 -0.016795 -0.016697 -0.007987 -0.007669  0.004519   \n",
            "PC4 -0.007261  0.000160  0.059467  0.066999  0.052237  0.053808 -0.010645   \n",
            "PC5 -0.017078 -0.026831 -0.102715 -0.110885 -0.031130 -0.038202  0.000989   \n",
            "PC6  0.018335  0.020588 -0.058898 -0.051127  0.074173  0.075532  0.018931   \n",
            "\n",
            "          V80       V81       V82       V83       V84       V85       V86  \\\n",
            "PC1  0.141001  0.138002  0.026549  0.025208  0.147459  0.141944  0.037334   \n",
            "PC2 -0.043672 -0.042549 -0.012009 -0.009992 -0.045940 -0.043853 -0.011206   \n",
            "PC3  0.003906  0.002906 -0.006161 -0.006498  0.002319  0.001610  0.001512   \n",
            "PC4  0.000976  0.004687  0.029333  0.040341 -0.016816 -0.010971  0.111843   \n",
            "PC5  0.015328  0.012973 -0.058377 -0.070053  0.008634  0.003458  0.034161   \n",
            "PC6  0.021587  0.026871  0.008780  0.018795  0.018493  0.027522  0.030197   \n",
            "\n",
            "          V87       V88       V89       V90       V91       V92       V93  \\\n",
            "PC1  0.035647  0.000398  0.004824 -0.061550 -0.059544  0.150017  0.146812   \n",
            "PC2 -0.010113 -0.000178  0.002237  0.015027  0.014884 -0.047475 -0.046274   \n",
            "PC3  0.001966  0.001143 -0.002406  0.045666  0.047127  0.003605  0.002698   \n",
            "PC4  0.116596  0.015829  0.001120 -0.069055 -0.065301 -0.016837 -0.012802   \n",
            "PC5  0.031640 -0.005009 -0.007837  0.177251  0.172494  0.006691  0.002532   \n",
            "PC6  0.031885  0.024208  0.023466  0.243502  0.246720  0.012615  0.019551   \n",
            "\n",
            "          V94       V95       V96       V97       V98       V99      V100  \\\n",
            "PC1  0.147758  0.044723  0.045217  0.046641 -0.002786  0.003230  0.008490   \n",
            "PC2 -0.049439  0.163551  0.171124  0.171032  0.029241  0.090465  0.092772   \n",
            "PC3  0.003910  0.001270  0.001377  0.001065  0.002285  0.004684  0.000548   \n",
            "PC4 -0.013540 -0.024739 -0.018084 -0.018423  0.079217  0.055004  0.074393   \n",
            "PC5 -0.005694  0.025717  0.017335  0.018852 -0.111867 -0.060655 -0.095661   \n",
            "PC6  0.004887 -0.030095 -0.019297 -0.021110  0.109580  0.081702  0.084511   \n",
            "\n",
            "         V101      V102      V103      V104      V105      V106      V107  \\\n",
            "PC1  0.044545  0.046178  0.046894  0.037763  0.044875  0.043418  0.002564   \n",
            "PC2  0.162433  0.169290  0.169913  0.136525  0.165184  0.156364 -0.000260   \n",
            "PC3  0.001231  0.001097  0.001075  0.000854  0.000915  0.000662  0.003903   \n",
            "PC4 -0.026801 -0.023679 -0.022553  0.013047 -0.008006 -0.000980  0.079570   \n",
            "PC5  0.027420  0.022620  0.022938  0.013076  0.014855  0.013001  0.051312   \n",
            "PC6 -0.032031 -0.026625 -0.025265 -0.007706 -0.012599 -0.008729 -0.019743   \n",
            "\n",
            "         V108      V109      V110      V111      V112      V113      V114  \\\n",
            "PC1  0.012771  0.003205  0.009113  0.018747  0.013852  0.017460  0.014634   \n",
            "PC2 -0.001234  0.002601  0.000897 -0.003901 -0.001896 -0.003046 -0.000916   \n",
            "PC3  0.013593  0.012208  0.012970  0.015971  0.014818  0.015732  0.013503   \n",
            "PC4  0.227443  0.194779  0.226725  0.215828  0.196030  0.216338  0.237084   \n",
            "PC5  0.126932  0.095209  0.117229  0.128045  0.112019  0.125589  0.129926   \n",
            "PC6 -0.035333 -0.018922 -0.032111 -0.032529 -0.023594 -0.031151 -0.034005   \n",
            "\n",
            "         V115      V116      V117      V118      V119      V120      V121  \\\n",
            "PC1  0.001180  0.009680  0.009159  0.006195  0.008456  0.003371 -0.001116   \n",
            "PC2  0.004923  0.002162 -0.001692 -0.000737 -0.001332  0.000485  0.002200   \n",
            "PC3  0.013100  0.013143  0.008419  0.007181  0.008331  0.007662  0.007375   \n",
            "PC4  0.204170  0.238159  0.150565  0.126969  0.150602  0.141177  0.112644   \n",
            "PC5  0.093928  0.118239  0.091943  0.072089  0.089608  0.083351  0.060985   \n",
            "PC6 -0.010794 -0.029083 -0.030865 -0.022591 -0.029940 -0.028727 -0.013866   \n",
            "\n",
            "         V122      V123      V124      V125      V126      V127      V128  \\\n",
            "PC1  0.002053  0.019825  0.018157  0.025785  0.044297  0.044755  0.046209   \n",
            "PC2  0.001489  0.008369  0.063731  0.052079  0.164442  0.171825  0.172074   \n",
            "PC3  0.007856  0.012103  0.012076  0.011698  0.000812  0.000986  0.000649   \n",
            "PC4  0.141385  0.207385  0.175053  0.201382 -0.019882 -0.013628 -0.013804   \n",
            "PC5  0.079571  0.105379  0.081312  0.094990  0.017460  0.010263  0.010914   \n",
            "PC6 -0.025173 -0.026187 -0.009387 -0.022235 -0.018733 -0.010786 -0.011044   \n",
            "\n",
            "         V129      V130      V131      V132      V133      V134      V135  \\\n",
            "PC1 -0.000591 -0.000824  0.004488  0.044303  0.045783  0.046544  0.011908   \n",
            "PC2  0.016434  0.074995  0.064162  0.162797  0.169231  0.170147  0.049811   \n",
            "PC3 -0.001761  0.000518 -0.002854  0.001085  0.001137  0.001007 -0.001157   \n",
            "PC4  0.067434  0.078793  0.088784 -0.025916 -0.022450 -0.021603  0.014731   \n",
            "PC5 -0.113190 -0.103990 -0.133664  0.024974  0.020300  0.020422 -0.009262   \n",
            "PC6  0.155507  0.132201  0.153764 -0.030207 -0.024517 -0.023438  0.022630   \n",
            "\n",
            "         V136      V137      V279      V280      V281      V282      V283  \\\n",
            "PC1  0.035334  0.026240  0.045844  0.048272  0.023398  0.041186  0.028844   \n",
            "PC2  0.136148  0.101097  0.163383  0.170306 -0.002904 -0.005193 -0.001140   \n",
            "PC3 -0.000552 -0.000980  0.001047  0.001334 -0.009620 -0.016834 -0.014768   \n",
            "PC4  0.004822  0.010699 -0.026405 -0.019835  0.065097  0.064599  0.074076   \n",
            "PC5 -0.000194 -0.005045  0.021889  0.012886 -0.131752 -0.136910 -0.148701   \n",
            "PC6  0.009843  0.017467 -0.027505 -0.017009  0.104751  0.033295  0.053070   \n",
            "\n",
            "         V284      V285      V286      V287      V288      V289      V290  \\\n",
            "PC1  0.013629  0.002466  0.017041  0.012618  0.006496  0.002112  0.033783   \n",
            "PC2  0.019815  0.075685 -0.002367  0.077898  0.020050  0.017757  0.000155   \n",
            "PC3 -0.004327  0.003241  0.001148 -0.002667 -0.010769 -0.010712 -0.001508   \n",
            "PC4  0.072988  0.048703  0.031119  0.069790  0.071655  0.075775  0.018643   \n",
            "PC5 -0.140741 -0.081615 -0.075477 -0.125637 -0.150879 -0.155443 -0.053740   \n",
            "PC6  0.132721  0.093426  0.109786  0.102549  0.109460  0.107246  0.052618   \n",
            "\n",
            "         V291      V292      V293      V294      V295      V296      V297  \\\n",
            "PC1  0.010901  0.015947  0.045343  0.046189  0.048278  0.043994  0.039431   \n",
            "PC2  0.007790  0.006455  0.162376  0.157174  0.169059  0.159802  0.135276   \n",
            "PC3  0.004486  0.003059  0.001133  0.002665  0.001524  0.002328  0.000048   \n",
            "PC4 -0.003443  0.002368 -0.028086 -0.023992 -0.023706 -0.009570 -0.002736   \n",
            "PC5 -0.011101 -0.022360  0.024742  0.014819  0.018711  0.005833 -0.001486   \n",
            "PC6  0.011750  0.021016 -0.030259 -0.019640 -0.022161 -0.007086 -0.001480   \n",
            "\n",
            "         V298      V299      V300      V301      V302      V303      V304  \\\n",
            "PC1  0.044994  0.044351  0.008338  0.007422  0.124457  0.121350  0.126159   \n",
            "PC2  0.162973  0.156723  0.007587  0.008251 -0.009408  0.025050  0.008538   \n",
            "PC3  0.001753  0.000219 -0.001887 -0.002588  0.001505  0.002102  0.001748   \n",
            "PC4 -0.010653 -0.007257  0.023338  0.027919 -0.023486 -0.021687 -0.022059   \n",
            "PC5  0.007479  0.005522 -0.039429 -0.046809  0.012487  0.009580  0.010286   \n",
            "PC6 -0.008568 -0.005834  0.016826  0.019705 -0.002583  0.005011  0.002414   \n",
            "\n",
            "         V305      V306      V307      V308      V309      V310      V311  \\\n",
            "PC1 -0.000163  0.044647  0.045059  0.046776  0.000789 -0.004226  0.001108   \n",
            "PC2  0.000030  0.164504  0.167786  0.172027  0.015723  0.068479  0.007726   \n",
            "PC3 -0.000162  0.000587  0.001931  0.000700 -0.003458 -0.000831 -0.001302   \n",
            "PC4 -0.000216 -0.021289 -0.014329 -0.014582  0.067467  0.074958  0.047033   \n",
            "PC5 -0.000090  0.012927  0.000916  0.003793 -0.129408 -0.127393 -0.094047   \n",
            "PC6 -0.001424 -0.015877 -0.004437 -0.006746  0.165597  0.142973  0.143045   \n",
            "\n",
            "         V312      V313      V314      V315      V316      V317      V318  \\\n",
            "PC1  0.003377 -0.005435 -0.001408 -0.006569  0.044550  0.046254  0.047154   \n",
            "PC2  0.059091  0.018078  0.044930  0.018042  0.162702  0.164140  0.169865   \n",
            "PC3 -0.005194 -0.008937 -0.008817 -0.009787  0.000964  0.002238  0.001253   \n",
            "PC4  0.087628  0.073131  0.072956  0.079639 -0.026653 -0.022719 -0.022015   \n",
            "PC5 -0.160109 -0.143685 -0.142760 -0.155560  0.022192  0.013472  0.015858   \n",
            "PC6  0.164993  0.128213  0.116390  0.130440 -0.028614 -0.019524 -0.020695   \n",
            "\n",
            "         V319      V320      V321  ProductCD_encoded  card4_encoded  \\\n",
            "PC1  0.010495  0.031869  0.023170           0.073033       0.008907   \n",
            "PC2  0.044298  0.124296  0.090518           0.008567       0.006679   \n",
            "PC3 -0.001216 -0.000234 -0.001211          -0.005622      -0.001740   \n",
            "PC4  0.007776  0.001481  0.005286          -0.030296       0.001056   \n",
            "PC5 -0.014815 -0.008655 -0.012449           0.020117      -0.001290   \n",
            "PC6  0.024803  0.014390  0.021184          -0.028812      -0.008052   \n",
            "\n",
            "     card6_encoded  P_email_common  \n",
            "PC1      -0.037983       -0.033602  \n",
            "PC2      -0.004761        0.015743  \n",
            "PC3       0.004938        0.000967  \n",
            "PC4      -0.013381        0.001135  \n",
            "PC5      -0.001038        0.013523  \n",
            "PC6       0.016016        0.004642  \n"
          ]
        }
      ]
    },
    {
      "cell_type": "code",
      "source": [
        "# Top contributing features per PC\n",
        "for i in range(6):\n",
        "    print(f\"\\nTop features in PC{i+1}:\")\n",
        "    print(pc_loadings.iloc[i].abs().sort_values(ascending=False).head(10))"
      ],
      "metadata": {
        "colab": {
          "base_uri": "https://localhost:8080/"
        },
        "collapsed": true,
        "id": "BdVmW6MbcOBD",
        "outputId": "44dd4704-a0ae-4724-c470-b1444593aa40"
      },
      "execution_count": 50,
      "outputs": [
        {
          "output_type": "stream",
          "name": "stdout",
          "text": [
            "\n",
            "Top features in PC1:\n",
            "V71    0.154123\n",
            "V31    0.153766\n",
            "V72    0.151391\n",
            "V63    0.151313\n",
            "V21    0.151205\n",
            "V32    0.150725\n",
            "V92    0.150017\n",
            "V50    0.148870\n",
            "V15    0.148582\n",
            "V59    0.148451\n",
            "Name: PC1, dtype: float64\n",
            "\n",
            "Top features in PC2:\n",
            "V128    0.172074\n",
            "V308    0.172027\n",
            "V127    0.171825\n",
            "V96     0.171124\n",
            "V97     0.171032\n",
            "V280    0.170306\n",
            "V134    0.170147\n",
            "V103    0.169913\n",
            "V318    0.169865\n",
            "V102    0.169290\n",
            "Name: PC2, dtype: float64\n",
            "\n",
            "Top features in PC3:\n",
            "C11    0.306874\n",
            "C1     0.306834\n",
            "C2     0.305623\n",
            "C6     0.303030\n",
            "C14    0.297490\n",
            "C8     0.296555\n",
            "C10    0.295361\n",
            "C4     0.292765\n",
            "C12    0.286773\n",
            "C7     0.286744\n",
            "Name: PC3, dtype: float64\n",
            "\n",
            "Top features in PC4:\n",
            "V116    0.238159\n",
            "V114    0.237084\n",
            "V108    0.227443\n",
            "V110    0.226725\n",
            "V113    0.216338\n",
            "V111    0.215828\n",
            "V123    0.207385\n",
            "V115    0.204170\n",
            "V125    0.201382\n",
            "V112    0.196030\n",
            "Name: PC4, dtype: float64\n",
            "\n",
            "Top features in PC5:\n",
            "V90     0.177251\n",
            "V91     0.172494\n",
            "V29     0.170360\n",
            "V69     0.170310\n",
            "V30     0.166441\n",
            "V70     0.165141\n",
            "V48     0.161170\n",
            "V312    0.160109\n",
            "V49     0.158288\n",
            "V315    0.155560\n",
            "Name: PC5, dtype: float64\n",
            "\n",
            "Top features in PC6:\n",
            "V70     0.251962\n",
            "V69     0.247883\n",
            "V30     0.247428\n",
            "V91     0.246720\n",
            "V29     0.244027\n",
            "V90     0.243502\n",
            "V49     0.233374\n",
            "V48     0.230953\n",
            "V309    0.165597\n",
            "V312    0.164993\n",
            "Name: PC6, dtype: float64\n"
          ]
        }
      ]
    },
    {
      "cell_type": "code",
      "source": [
        "# Threshold: how high a loading must be to count as \"important\"\n",
        "threshold = 0.1  # Adjust as needed\n",
        "# For each PC, get the features with loadings above the threshold\n",
        "important_features_per_pc = []\n",
        "for i in range(6):\n",
        "    important = pc_loadings.iloc[i][pc_loadings.iloc[i] > threshold].index.tolist()\n",
        "    important_features_per_pc.append(set(important))\n",
        "\n",
        "# Find common features across all top 6 PCs\n",
        "common_features = set.intersection(*important_features_per_pc)\n",
        "\n",
        "print(\"Common important features across the top 6 PCs:\")\n",
        "print(common_features if common_features else \"No common features found.\")"
      ],
      "metadata": {
        "colab": {
          "base_uri": "https://localhost:8080/"
        },
        "id": "ha5hpW9WcgOq",
        "outputId": "c3f9c80b-008b-445d-f70a-e31b63ee93ad"
      },
      "execution_count": 51,
      "outputs": [
        {
          "output_type": "stream",
          "name": "stdout",
          "text": [
            "Common important features across the top 6 PCs:\n",
            "No common features found.\n"
          ]
        }
      ]
    },
    {
      "cell_type": "markdown",
      "source": [
        "There are no common features across top 6 PCs."
      ],
      "metadata": {
        "id": "0cFk6zhWcruD"
      }
    },
    {
      "cell_type": "code",
      "source": [
        "print(train_data_cleaned[['ProductCD', 'card4', 'card6', 'P_emaildomain', 'M6']].head())"
      ],
      "metadata": {
        "id": "FNIeSK3P-ezx",
        "outputId": "a25b11fe-5e98-4789-c433-57739fc79a4e",
        "colab": {
          "base_uri": "https://localhost:8080/",
          "height": 293
        }
      },
      "execution_count": 52,
      "outputs": [
        {
          "output_type": "error",
          "ename": "KeyError",
          "evalue": "\"['ProductCD', 'card4', 'card6', 'P_emaildomain'] not in index\"",
          "traceback": [
            "\u001b[0;31m---------------------------------------------------------------------------\u001b[0m",
            "\u001b[0;31mKeyError\u001b[0m                                  Traceback (most recent call last)",
            "\u001b[0;32m<ipython-input-52-605bb8e3c69a>\u001b[0m in \u001b[0;36m<cell line: 0>\u001b[0;34m()\u001b[0m\n\u001b[0;32m----> 1\u001b[0;31m \u001b[0mprint\u001b[0m\u001b[0;34m(\u001b[0m\u001b[0mtrain_data_cleaned\u001b[0m\u001b[0;34m[\u001b[0m\u001b[0;34m[\u001b[0m\u001b[0;34m'ProductCD'\u001b[0m\u001b[0;34m,\u001b[0m \u001b[0;34m'card4'\u001b[0m\u001b[0;34m,\u001b[0m \u001b[0;34m'card6'\u001b[0m\u001b[0;34m,\u001b[0m \u001b[0;34m'P_emaildomain'\u001b[0m\u001b[0;34m,\u001b[0m \u001b[0;34m'M6'\u001b[0m\u001b[0;34m]\u001b[0m\u001b[0;34m]\u001b[0m\u001b[0;34m.\u001b[0m\u001b[0mhead\u001b[0m\u001b[0;34m(\u001b[0m\u001b[0;34m)\u001b[0m\u001b[0;34m)\u001b[0m\u001b[0;34m\u001b[0m\u001b[0;34m\u001b[0m\u001b[0m\n\u001b[0m",
            "\u001b[0;32m/usr/local/lib/python3.11/dist-packages/pandas/core/frame.py\u001b[0m in \u001b[0;36m__getitem__\u001b[0;34m(self, key)\u001b[0m\n\u001b[1;32m   4106\u001b[0m             \u001b[0;32mif\u001b[0m \u001b[0mis_iterator\u001b[0m\u001b[0;34m(\u001b[0m\u001b[0mkey\u001b[0m\u001b[0;34m)\u001b[0m\u001b[0;34m:\u001b[0m\u001b[0;34m\u001b[0m\u001b[0;34m\u001b[0m\u001b[0m\n\u001b[1;32m   4107\u001b[0m                 \u001b[0mkey\u001b[0m \u001b[0;34m=\u001b[0m \u001b[0mlist\u001b[0m\u001b[0;34m(\u001b[0m\u001b[0mkey\u001b[0m\u001b[0;34m)\u001b[0m\u001b[0;34m\u001b[0m\u001b[0;34m\u001b[0m\u001b[0m\n\u001b[0;32m-> 4108\u001b[0;31m             \u001b[0mindexer\u001b[0m \u001b[0;34m=\u001b[0m \u001b[0mself\u001b[0m\u001b[0;34m.\u001b[0m\u001b[0mcolumns\u001b[0m\u001b[0;34m.\u001b[0m\u001b[0m_get_indexer_strict\u001b[0m\u001b[0;34m(\u001b[0m\u001b[0mkey\u001b[0m\u001b[0;34m,\u001b[0m \u001b[0;34m\"columns\"\u001b[0m\u001b[0;34m)\u001b[0m\u001b[0;34m[\u001b[0m\u001b[0;36m1\u001b[0m\u001b[0;34m]\u001b[0m\u001b[0;34m\u001b[0m\u001b[0;34m\u001b[0m\u001b[0m\n\u001b[0m\u001b[1;32m   4109\u001b[0m \u001b[0;34m\u001b[0m\u001b[0m\n\u001b[1;32m   4110\u001b[0m         \u001b[0;31m# take() does not accept boolean indexers\u001b[0m\u001b[0;34m\u001b[0m\u001b[0;34m\u001b[0m\u001b[0m\n",
            "\u001b[0;32m/usr/local/lib/python3.11/dist-packages/pandas/core/indexes/base.py\u001b[0m in \u001b[0;36m_get_indexer_strict\u001b[0;34m(self, key, axis_name)\u001b[0m\n\u001b[1;32m   6198\u001b[0m             \u001b[0mkeyarr\u001b[0m\u001b[0;34m,\u001b[0m \u001b[0mindexer\u001b[0m\u001b[0;34m,\u001b[0m \u001b[0mnew_indexer\u001b[0m \u001b[0;34m=\u001b[0m \u001b[0mself\u001b[0m\u001b[0;34m.\u001b[0m\u001b[0m_reindex_non_unique\u001b[0m\u001b[0;34m(\u001b[0m\u001b[0mkeyarr\u001b[0m\u001b[0;34m)\u001b[0m\u001b[0;34m\u001b[0m\u001b[0;34m\u001b[0m\u001b[0m\n\u001b[1;32m   6199\u001b[0m \u001b[0;34m\u001b[0m\u001b[0m\n\u001b[0;32m-> 6200\u001b[0;31m         \u001b[0mself\u001b[0m\u001b[0;34m.\u001b[0m\u001b[0m_raise_if_missing\u001b[0m\u001b[0;34m(\u001b[0m\u001b[0mkeyarr\u001b[0m\u001b[0;34m,\u001b[0m \u001b[0mindexer\u001b[0m\u001b[0;34m,\u001b[0m \u001b[0maxis_name\u001b[0m\u001b[0;34m)\u001b[0m\u001b[0;34m\u001b[0m\u001b[0;34m\u001b[0m\u001b[0m\n\u001b[0m\u001b[1;32m   6201\u001b[0m \u001b[0;34m\u001b[0m\u001b[0m\n\u001b[1;32m   6202\u001b[0m         \u001b[0mkeyarr\u001b[0m \u001b[0;34m=\u001b[0m \u001b[0mself\u001b[0m\u001b[0;34m.\u001b[0m\u001b[0mtake\u001b[0m\u001b[0;34m(\u001b[0m\u001b[0mindexer\u001b[0m\u001b[0;34m)\u001b[0m\u001b[0;34m\u001b[0m\u001b[0;34m\u001b[0m\u001b[0m\n",
            "\u001b[0;32m/usr/local/lib/python3.11/dist-packages/pandas/core/indexes/base.py\u001b[0m in \u001b[0;36m_raise_if_missing\u001b[0;34m(self, key, indexer, axis_name)\u001b[0m\n\u001b[1;32m   6250\u001b[0m \u001b[0;34m\u001b[0m\u001b[0m\n\u001b[1;32m   6251\u001b[0m             \u001b[0mnot_found\u001b[0m \u001b[0;34m=\u001b[0m \u001b[0mlist\u001b[0m\u001b[0;34m(\u001b[0m\u001b[0mensure_index\u001b[0m\u001b[0;34m(\u001b[0m\u001b[0mkey\u001b[0m\u001b[0;34m)\u001b[0m\u001b[0;34m[\u001b[0m\u001b[0mmissing_mask\u001b[0m\u001b[0;34m.\u001b[0m\u001b[0mnonzero\u001b[0m\u001b[0;34m(\u001b[0m\u001b[0;34m)\u001b[0m\u001b[0;34m[\u001b[0m\u001b[0;36m0\u001b[0m\u001b[0;34m]\u001b[0m\u001b[0;34m]\u001b[0m\u001b[0;34m.\u001b[0m\u001b[0munique\u001b[0m\u001b[0;34m(\u001b[0m\u001b[0;34m)\u001b[0m\u001b[0;34m)\u001b[0m\u001b[0;34m\u001b[0m\u001b[0;34m\u001b[0m\u001b[0m\n\u001b[0;32m-> 6252\u001b[0;31m             \u001b[0;32mraise\u001b[0m \u001b[0mKeyError\u001b[0m\u001b[0;34m(\u001b[0m\u001b[0;34mf\"{not_found} not in index\"\u001b[0m\u001b[0;34m)\u001b[0m\u001b[0;34m\u001b[0m\u001b[0;34m\u001b[0m\u001b[0m\n\u001b[0m\u001b[1;32m   6253\u001b[0m \u001b[0;34m\u001b[0m\u001b[0m\n\u001b[1;32m   6254\u001b[0m     \u001b[0;34m@\u001b[0m\u001b[0moverload\u001b[0m\u001b[0;34m\u001b[0m\u001b[0;34m\u001b[0m\u001b[0m\n",
            "\u001b[0;31mKeyError\u001b[0m: \"['ProductCD', 'card4', 'card6', 'P_emaildomain'] not in index\""
          ]
        }
      ]
    }
  ],
  "metadata": {
    "colab": {
      "provenance": [],
      "gpuType": "V28",
      "mount_file_id": "11F13qzwV0nmo5bYuBkRs-edIkyObGGhR",
      "authorship_tag": "ABX9TyODd19CZzY+LWxmaPD38zjN",
      "include_colab_link": true
    },
    "kernelspec": {
      "display_name": "Python 3",
      "name": "python3"
    },
    "language_info": {
      "name": "python"
    },
    "accelerator": "TPU"
  },
  "nbformat": 4,
  "nbformat_minor": 0
}