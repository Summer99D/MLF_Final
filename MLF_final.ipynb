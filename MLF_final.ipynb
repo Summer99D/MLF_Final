{
  "nbformat": 4,
  "nbformat_minor": 0,
  "metadata": {
    "colab": {
      "provenance": [],
      "mount_file_id": "11F13qzwV0nmo5bYuBkRs-edIkyObGGhR",
      "authorship_tag": "ABX9TyOMYarNwJtrbGB/5HDVh6fY",
      "include_colab_link": true
    },
    "kernelspec": {
      "name": "python3",
      "display_name": "Python 3"
    },
    "language_info": {
      "name": "python"
    }
  },
  "cells": [
    {
      "cell_type": "markdown",
      "metadata": {
        "id": "view-in-github",
        "colab_type": "text"
      },
      "source": [
        "<a href=\"https://colab.research.google.com/github/Summer99D/MLF_Final/blob/main/MLF_final.ipynb\" target=\"_parent\"><img src=\"https://colab.research.google.com/assets/colab-badge.svg\" alt=\"Open In Colab\"/></a>"
      ]
    },
    {
      "cell_type": "code",
      "execution_count": 2,
      "metadata": {
        "id": "Kxws0VqPUfaI"
      },
      "outputs": [],
      "source": [
        "import pandas as pd\n",
        "import numpy as np\n",
        "import matplotlib.pyplot as plt\n",
        "import seaborn as sns\n",
        "import missingno as msno\n",
        "from sklearn.impute import SimpleImputer\n",
        "from sklearn.preprocessing import StandardScaler\n",
        "from sklearn.decomposition import PCA\n",
        "from category_encoders import TargetEncoder\n",
        "from sklearn.linear_model import LogisticRegression\n",
        "from sklearn.metrics import roc_auc_score"
      ]
    },
    {
      "cell_type": "code",
      "source": [
        "!pip install category_encoders"
      ],
      "metadata": {
        "colab": {
          "base_uri": "https://localhost:8080/"
        },
        "id": "VsTExSn9dO6D",
        "outputId": "d1bad92e-d614-4609-8502-58e5a092e875"
      },
      "execution_count": 38,
      "outputs": [
        {
          "output_type": "stream",
          "name": "stdout",
          "text": [
            "Collecting category_encoders\n",
            "  Downloading category_encoders-2.8.1-py3-none-any.whl.metadata (7.9 kB)\n",
            "Requirement already satisfied: numpy>=1.14.0 in /usr/local/lib/python3.11/dist-packages (from category_encoders) (2.0.2)\n",
            "Requirement already satisfied: pandas>=1.0.5 in /usr/local/lib/python3.11/dist-packages (from category_encoders) (2.2.2)\n",
            "Requirement already satisfied: patsy>=0.5.1 in /usr/local/lib/python3.11/dist-packages (from category_encoders) (1.0.1)\n",
            "Requirement already satisfied: scikit-learn>=1.6.0 in /usr/local/lib/python3.11/dist-packages (from category_encoders) (1.6.1)\n",
            "Requirement already satisfied: scipy>=1.0.0 in /usr/local/lib/python3.11/dist-packages (from category_encoders) (1.15.3)\n",
            "Requirement already satisfied: statsmodels>=0.9.0 in /usr/local/lib/python3.11/dist-packages (from category_encoders) (0.14.4)\n",
            "Requirement already satisfied: python-dateutil>=2.8.2 in /usr/local/lib/python3.11/dist-packages (from pandas>=1.0.5->category_encoders) (2.9.0.post0)\n",
            "Requirement already satisfied: pytz>=2020.1 in /usr/local/lib/python3.11/dist-packages (from pandas>=1.0.5->category_encoders) (2025.2)\n",
            "Requirement already satisfied: tzdata>=2022.7 in /usr/local/lib/python3.11/dist-packages (from pandas>=1.0.5->category_encoders) (2025.2)\n",
            "Requirement already satisfied: joblib>=1.2.0 in /usr/local/lib/python3.11/dist-packages (from scikit-learn>=1.6.0->category_encoders) (1.5.0)\n",
            "Requirement already satisfied: threadpoolctl>=3.1.0 in /usr/local/lib/python3.11/dist-packages (from scikit-learn>=1.6.0->category_encoders) (3.6.0)\n",
            "Requirement already satisfied: packaging>=21.3 in /usr/local/lib/python3.11/dist-packages (from statsmodels>=0.9.0->category_encoders) (24.2)\n",
            "Requirement already satisfied: six>=1.5 in /usr/local/lib/python3.11/dist-packages (from python-dateutil>=2.8.2->pandas>=1.0.5->category_encoders) (1.17.0)\n",
            "Downloading category_encoders-2.8.1-py3-none-any.whl (85 kB)\n",
            "\u001b[2K   \u001b[90m━━━━━━━━━━━━━━━━━━━━━━━━━━━━━━━━━━━━━━━━\u001b[0m \u001b[32m85.7/85.7 kB\u001b[0m \u001b[31m4.3 MB/s\u001b[0m eta \u001b[36m0:00:00\u001b[0m\n",
            "\u001b[?25hInstalling collected packages: category_encoders\n",
            "Successfully installed category_encoders-2.8.1\n"
          ]
        }
      ]
    },
    {
      "cell_type": "code",
      "source": [
        "from google.colab import drive\n",
        "drive.mount('/content/drive')"
      ],
      "metadata": {
        "colab": {
          "base_uri": "https://localhost:8080/"
        },
        "id": "GDq0oJBPVz44",
        "outputId": "ddb6a9b1-4b4c-4502-e3a6-39cc65fa286b"
      },
      "execution_count": 3,
      "outputs": [
        {
          "output_type": "stream",
          "name": "stdout",
          "text": [
            "Drive already mounted at /content/drive; to attempt to forcibly remount, call drive.mount(\"/content/drive\", force_remount=True).\n"
          ]
        }
      ]
    },
    {
      "cell_type": "code",
      "source": [
        "test_trns_df= pd.read_csv('/content/drive/MyDrive/MLF/test_transaction.csv')\n",
        "test_id_df= pd.read_csv('/content/drive/MyDrive/MLF/test_identity.csv')\n",
        "train_trns_df= pd.read_csv('/content/drive/MyDrive/MLF/train_transaction.csv')\n",
        "train_id_df= pd.read_csv('/content/drive/MyDrive/MLF/train_identity.csv')\n"
      ],
      "metadata": {
        "id": "VK3bLxK6UmtS"
      },
      "execution_count": 4,
      "outputs": []
    },
    {
      "cell_type": "code",
      "source": [
        "print(test_trns_df.describe)"
      ],
      "metadata": {
        "colab": {
          "base_uri": "https://localhost:8080/"
        },
        "id": "WFR9HD5KWue4",
        "outputId": "ef911f17-d10e-441d-cf2f-c9a32d374434"
      },
      "execution_count": 5,
      "outputs": [
        {
          "output_type": "stream",
          "name": "stdout",
          "text": [
            "<bound method NDFrame.describe of         TransactionID  TransactionDT  TransactionAmt ProductCD  card1  card2  \\\n",
            "0             3663549       18403224          31.950         W  10409  111.0   \n",
            "1             3663550       18403263          49.000         W   4272  111.0   \n",
            "2             3663551       18403310         171.000         W   4476  574.0   \n",
            "3             3663552       18403310         284.950         W  10989  360.0   \n",
            "4             3663553       18403317          67.950         W  18018  452.0   \n",
            "...               ...            ...             ...       ...    ...    ...   \n",
            "506686        4170235       34214279          94.679         C  13832  375.0   \n",
            "506687        4170236       34214287          12.173         C   3154  408.0   \n",
            "506688        4170237       34214326          49.000         W  16661  490.0   \n",
            "506689        4170238       34214337         202.000         W  16621  516.0   \n",
            "506690        4170239       34214345          24.346         C   5713  168.0   \n",
            "\n",
            "        card3       card4  card5   card6  ...  V330  V331  V332  V333 V334  \\\n",
            "0       150.0        visa  226.0   debit  ...   NaN   NaN   NaN   NaN  NaN   \n",
            "1       150.0        visa  226.0   debit  ...   NaN   NaN   NaN   NaN  NaN   \n",
            "2       150.0        visa  226.0   debit  ...   NaN   NaN   NaN   NaN  NaN   \n",
            "3       150.0        visa  166.0   debit  ...   NaN   NaN   NaN   NaN  NaN   \n",
            "4       150.0  mastercard  117.0   debit  ...   NaN   NaN   NaN   NaN  NaN   \n",
            "...       ...         ...    ...     ...  ...   ...   ...   ...   ...  ...   \n",
            "506686  185.0  mastercard  224.0   debit  ...   NaN   NaN   NaN   NaN  NaN   \n",
            "506687  185.0  mastercard  224.0   debit  ...   NaN   NaN   NaN   NaN  NaN   \n",
            "506688  150.0        visa  226.0   debit  ...   NaN   NaN   NaN   NaN  NaN   \n",
            "506689  150.0  mastercard  224.0   debit  ...   NaN   NaN   NaN   NaN  NaN   \n",
            "506690  144.0        visa  147.0  credit  ...   NaN   NaN   NaN   NaN  NaN   \n",
            "\n",
            "       V335  V336  V337  V338  V339  \n",
            "0       NaN   NaN   NaN   NaN   NaN  \n",
            "1       NaN   NaN   NaN   NaN   NaN  \n",
            "2       NaN   NaN   NaN   NaN   NaN  \n",
            "3       NaN   NaN   NaN   NaN   NaN  \n",
            "4       NaN   NaN   NaN   NaN   NaN  \n",
            "...     ...   ...   ...   ...   ...  \n",
            "506686  NaN   NaN   NaN   NaN   NaN  \n",
            "506687  NaN   NaN   NaN   NaN   NaN  \n",
            "506688  NaN   NaN   NaN   NaN   NaN  \n",
            "506689  NaN   NaN   NaN   NaN   NaN  \n",
            "506690  NaN   NaN   NaN   NaN   NaN  \n",
            "\n",
            "[506691 rows x 393 columns]>\n"
          ]
        }
      ]
    },
    {
      "cell_type": "code",
      "source": [
        "print(test_id_df.describe)"
      ],
      "metadata": {
        "colab": {
          "base_uri": "https://localhost:8080/"
        },
        "id": "5Nt7PjijXJsA",
        "outputId": "92e35843-120a-4320-8ede-d55f9fe2fda8"
      },
      "execution_count": 6,
      "outputs": [
        {
          "output_type": "stream",
          "name": "stdout",
          "text": [
            "<bound method NDFrame.describe of         TransactionID  id-01     id-02  id-03  id-04  id-05  id-06  id-07  \\\n",
            "0             3663586  -45.0  280290.0    NaN    NaN    0.0    0.0    NaN   \n",
            "1             3663588    0.0    3579.0    0.0    0.0    0.0    0.0    NaN   \n",
            "2             3663597   -5.0  185210.0    NaN    NaN    1.0    0.0    NaN   \n",
            "3             3663601  -45.0  252944.0    0.0    0.0    0.0    0.0    NaN   \n",
            "4             3663602  -95.0  328680.0    NaN    NaN    7.0  -33.0    NaN   \n",
            "...               ...    ...       ...    ...    ...    ...    ...    ...   \n",
            "141902        4170230  -20.0  473365.0    NaN    NaN    0.0    0.0    NaN   \n",
            "141903        4170233   -5.0  489917.0    0.0    0.0   -4.0  -32.0    NaN   \n",
            "141904        4170234   -5.0  110081.0    NaN    NaN   22.0  -31.0    NaN   \n",
            "141905        4170236  -45.0  266704.0    NaN    NaN   -3.0  -10.0    NaN   \n",
            "141906        4170239  -10.0  692090.0    0.0    0.0    0.0    0.0    NaN   \n",
            "\n",
            "        id-08  id-09  ...                    id-31  id-32     id-33  \\\n",
            "0         NaN    NaN  ...  chrome 67.0 for android    NaN       NaN   \n",
            "1         NaN    0.0  ...  chrome 67.0 for android   24.0  1280x720   \n",
            "2         NaN    NaN  ...       ie 11.0 for tablet    NaN       NaN   \n",
            "3         NaN    0.0  ...  chrome 67.0 for android    NaN       NaN   \n",
            "4         NaN    NaN  ...  chrome 67.0 for android    NaN       NaN   \n",
            "...       ...    ...  ...                      ...    ...       ...   \n",
            "141902    NaN    NaN  ...  chrome 71.0 for android    NaN       NaN   \n",
            "141903    NaN    0.0  ...  chrome 71.0 for android    NaN       NaN   \n",
            "141904    NaN    NaN  ...       mobile safari 10.0   32.0  1334x750   \n",
            "141905    NaN    NaN  ...  chrome 43.0 for android    NaN       NaN   \n",
            "141906    NaN    0.0  ...      samsung browser 8.2    NaN       NaN   \n",
            "\n",
            "                 id-34  id-35 id-36 id-37  id-38  DeviceType  \\\n",
            "0                  NaN      F     F     T      F      mobile   \n",
            "1       match_status:2      T     F     T      T      mobile   \n",
            "2                  NaN      F     T     T      F     desktop   \n",
            "3                  NaN      F     F     T      F      mobile   \n",
            "4                  NaN      F     F     T      F      mobile   \n",
            "...                ...    ...   ...   ...    ...         ...   \n",
            "141902             NaN      F     F     T      F      mobile   \n",
            "141903             NaN      F     F     T      F      mobile   \n",
            "141904  match_status:2      T     F     F      T      mobile   \n",
            "141905             NaN      F     F     T      F      mobile   \n",
            "141906             NaN      F     F     T      F      mobile   \n",
            "\n",
            "                         DeviceInfo  \n",
            "0       MYA-L13 Build/HUAWEIMYA-L13  \n",
            "1              LGLS676 Build/MXB48T  \n",
            "2                       Trident/7.0  \n",
            "3       MYA-L13 Build/HUAWEIMYA-L13  \n",
            "4              SM-G9650 Build/R16NW  \n",
            "...                             ...  \n",
            "141902                     SM-J700M  \n",
            "141903                     SM-J320M  \n",
            "141904                   iOS Device  \n",
            "141905  ALE-L23 Build/HuaweiALE-L23  \n",
            "141906                      SAMSUNG  \n",
            "\n",
            "[141907 rows x 41 columns]>\n"
          ]
        }
      ]
    },
    {
      "cell_type": "code",
      "source": [
        "print(train_id_df.describe)\n",
        "print(train_id_df.columns)"
      ],
      "metadata": {
        "colab": {
          "base_uri": "https://localhost:8080/"
        },
        "id": "jEFA0_GAXSyB",
        "outputId": "1f7a1a54-1e46-47b0-a072-f0fc61ff58d6"
      },
      "execution_count": 7,
      "outputs": [
        {
          "output_type": "stream",
          "name": "stdout",
          "text": [
            "<bound method NDFrame.describe of         TransactionID  id_01     id_02  id_03  id_04  id_05  id_06  id_07  \\\n",
            "0             2987004    0.0   70787.0    NaN    NaN    NaN    NaN    NaN   \n",
            "1             2987008   -5.0   98945.0    NaN    NaN    0.0   -5.0    NaN   \n",
            "2             2987010   -5.0  191631.0    0.0    0.0    0.0    0.0    NaN   \n",
            "3             2987011   -5.0  221832.0    NaN    NaN    0.0   -6.0    NaN   \n",
            "4             2987016    0.0    7460.0    0.0    0.0    1.0    0.0    NaN   \n",
            "...               ...    ...       ...    ...    ...    ...    ...    ...   \n",
            "144228        3577521  -15.0  145955.0    0.0    0.0    0.0    0.0    NaN   \n",
            "144229        3577526   -5.0  172059.0    NaN    NaN    1.0   -5.0    NaN   \n",
            "144230        3577529  -20.0  632381.0    NaN    NaN   -1.0  -36.0    NaN   \n",
            "144231        3577531   -5.0   55528.0    0.0    0.0    0.0   -7.0    NaN   \n",
            "144232        3577534  -45.0  339406.0    NaN    NaN  -10.0 -100.0    NaN   \n",
            "\n",
            "        id_08  id_09  ...                    id_31  id_32      id_33  \\\n",
            "0         NaN    NaN  ...      samsung browser 6.2   32.0  2220x1080   \n",
            "1         NaN    NaN  ...       mobile safari 11.0   32.0   1334x750   \n",
            "2         NaN    0.0  ...              chrome 62.0    NaN        NaN   \n",
            "3         NaN    NaN  ...              chrome 62.0    NaN        NaN   \n",
            "4         NaN    0.0  ...              chrome 62.0   24.0   1280x800   \n",
            "...       ...    ...  ...                      ...    ...        ...   \n",
            "144228    NaN    0.0  ...  chrome 66.0 for android    NaN        NaN   \n",
            "144229    NaN    NaN  ...  chrome 55.0 for android   32.0    855x480   \n",
            "144230    NaN    NaN  ...  chrome 65.0 for android    NaN        NaN   \n",
            "144231    NaN    0.0  ...              chrome 66.0   24.0  2560x1600   \n",
            "144232    NaN    NaN  ...  chrome 66.0 for android    NaN        NaN   \n",
            "\n",
            "                 id_34  id_35 id_36 id_37  id_38  DeviceType  \\\n",
            "0       match_status:2      T     F     T      T      mobile   \n",
            "1       match_status:1      T     F     F      T      mobile   \n",
            "2                  NaN      F     F     T      T     desktop   \n",
            "3                  NaN      F     F     T      T     desktop   \n",
            "4       match_status:2      T     F     T      T     desktop   \n",
            "...                ...    ...   ...   ...    ...         ...   \n",
            "144228             NaN      F     F     T      F      mobile   \n",
            "144229  match_status:2      T     F     T      F      mobile   \n",
            "144230             NaN      F     F     T      F      mobile   \n",
            "144231  match_status:2      T     F     T      F     desktop   \n",
            "144232             NaN      F     F     T      F      mobile   \n",
            "\n",
            "                                DeviceInfo  \n",
            "0            SAMSUNG SM-G892A Build/NRD90M  \n",
            "1                               iOS Device  \n",
            "2                                  Windows  \n",
            "3                                      NaN  \n",
            "4                                    MacOS  \n",
            "...                                    ...  \n",
            "144228             F3111 Build/33.3.A.1.97  \n",
            "144229                 A574BL Build/NMF26F  \n",
            "144230  Moto E (4) Plus Build/NMA26.42-152  \n",
            "144231                               MacOS  \n",
            "144232         RNE-L03 Build/HUAWEIRNE-L03  \n",
            "\n",
            "[144233 rows x 41 columns]>\n",
            "Index(['TransactionID', 'id_01', 'id_02', 'id_03', 'id_04', 'id_05', 'id_06',\n",
            "       'id_07', 'id_08', 'id_09', 'id_10', 'id_11', 'id_12', 'id_13', 'id_14',\n",
            "       'id_15', 'id_16', 'id_17', 'id_18', 'id_19', 'id_20', 'id_21', 'id_22',\n",
            "       'id_23', 'id_24', 'id_25', 'id_26', 'id_27', 'id_28', 'id_29', 'id_30',\n",
            "       'id_31', 'id_32', 'id_33', 'id_34', 'id_35', 'id_36', 'id_37', 'id_38',\n",
            "       'DeviceType', 'DeviceInfo'],\n",
            "      dtype='object')\n"
          ]
        }
      ]
    },
    {
      "cell_type": "code",
      "source": [
        "print(train_trns_df.describe)\n",
        "print(train_trns_df.columns)"
      ],
      "metadata": {
        "colab": {
          "base_uri": "https://localhost:8080/"
        },
        "id": "qiZfHMaFXXao",
        "outputId": "4023f5b2-8311-4b5e-9561-5d9c9892f533"
      },
      "execution_count": 8,
      "outputs": [
        {
          "output_type": "stream",
          "name": "stdout",
          "text": [
            "<bound method NDFrame.describe of         TransactionID  isFraud  TransactionDT  TransactionAmt ProductCD  \\\n",
            "0             2987000        0          86400           68.50         W   \n",
            "1             2987001        0          86401           29.00         W   \n",
            "2             2987002        0          86469           59.00         W   \n",
            "3             2987003        0          86499           50.00         W   \n",
            "4             2987004        0          86506           50.00         H   \n",
            "...               ...      ...            ...             ...       ...   \n",
            "590535        3577535        0       15811047           49.00         W   \n",
            "590536        3577536        0       15811049           39.50         W   \n",
            "590537        3577537        0       15811079           30.95         W   \n",
            "590538        3577538        0       15811088          117.00         W   \n",
            "590539        3577539        0       15811131          279.95         W   \n",
            "\n",
            "        card1  card2  card3       card4  card5  ... V330  V331  V332  V333  \\\n",
            "0       13926    NaN  150.0    discover  142.0  ...  NaN   NaN   NaN   NaN   \n",
            "1        2755  404.0  150.0  mastercard  102.0  ...  NaN   NaN   NaN   NaN   \n",
            "2        4663  490.0  150.0        visa  166.0  ...  NaN   NaN   NaN   NaN   \n",
            "3       18132  567.0  150.0  mastercard  117.0  ...  NaN   NaN   NaN   NaN   \n",
            "4        4497  514.0  150.0  mastercard  102.0  ...  0.0   0.0   0.0   0.0   \n",
            "...       ...    ...    ...         ...    ...  ...  ...   ...   ...   ...   \n",
            "590535   6550    NaN  150.0        visa  226.0  ...  NaN   NaN   NaN   NaN   \n",
            "590536  10444  225.0  150.0  mastercard  224.0  ...  NaN   NaN   NaN   NaN   \n",
            "590537  12037  595.0  150.0  mastercard  224.0  ...  NaN   NaN   NaN   NaN   \n",
            "590538   7826  481.0  150.0  mastercard  224.0  ...  NaN   NaN   NaN   NaN   \n",
            "590539  15066  170.0  150.0  mastercard  102.0  ...  NaN   NaN   NaN   NaN   \n",
            "\n",
            "        V334 V335 V336  V337  V338  V339  \n",
            "0        NaN  NaN  NaN   NaN   NaN   NaN  \n",
            "1        NaN  NaN  NaN   NaN   NaN   NaN  \n",
            "2        NaN  NaN  NaN   NaN   NaN   NaN  \n",
            "3        NaN  NaN  NaN   NaN   NaN   NaN  \n",
            "4        0.0  0.0  0.0   0.0   0.0   0.0  \n",
            "...      ...  ...  ...   ...   ...   ...  \n",
            "590535   NaN  NaN  NaN   NaN   NaN   NaN  \n",
            "590536   NaN  NaN  NaN   NaN   NaN   NaN  \n",
            "590537   NaN  NaN  NaN   NaN   NaN   NaN  \n",
            "590538   NaN  NaN  NaN   NaN   NaN   NaN  \n",
            "590539   NaN  NaN  NaN   NaN   NaN   NaN  \n",
            "\n",
            "[590540 rows x 394 columns]>\n",
            "Index(['TransactionID', 'isFraud', 'TransactionDT', 'TransactionAmt',\n",
            "       'ProductCD', 'card1', 'card2', 'card3', 'card4', 'card5',\n",
            "       ...\n",
            "       'V330', 'V331', 'V332', 'V333', 'V334', 'V335', 'V336', 'V337', 'V338',\n",
            "       'V339'],\n",
            "      dtype='object', length=394)\n"
          ]
        }
      ]
    },
    {
      "cell_type": "code",
      "source": [
        "## I will be merging on \"transaction id\"\n",
        "train_merged= pd.merge(train_trns_df, train_id_df, on='TransactionID', how='left')\n",
        "test_merged= pd.merge(test_trns_df, test_id_df, on='TransactionID', how='left')"
      ],
      "metadata": {
        "id": "EdNeh9zwXb-C"
      },
      "execution_count": 9,
      "outputs": []
    },
    {
      "cell_type": "code",
      "source": [
        "print(train_merged.shape)## we have 434 variables\n",
        "print(test_merged.shape)"
      ],
      "metadata": {
        "colab": {
          "base_uri": "https://localhost:8080/"
        },
        "id": "pxsID0SKaRCj",
        "outputId": "c0ce2c0c-cb2d-4cc5-963b-0c58bf1bb379"
      },
      "execution_count": 10,
      "outputs": [
        {
          "output_type": "stream",
          "name": "stdout",
          "text": [
            "(590540, 434)\n",
            "(506691, 433)\n"
          ]
        }
      ]
    },
    {
      "cell_type": "markdown",
      "source": [
        "### Inspecting NaNs"
      ],
      "metadata": {
        "id": "Xv7aIDlBZux2"
      }
    },
    {
      "cell_type": "markdown",
      "source": [
        "Training data"
      ],
      "metadata": {
        "id": "VKIMUAPHab5V"
      }
    },
    {
      "cell_type": "code",
      "source": [
        "# Step 1: Calculate NaN statistics\n",
        "nan_percentage_train = train_merged.isnull().mean() * 100\n",
        "nan_percentage_train = nan_percentage_train.sort_values(ascending=False)\n",
        "\n",
        "# Step 2: Summary statistics\n",
        "print(\"NaN Distribution Across Columns:\")\n",
        "print(f\"Total rows: {train_merged.shape[0]}\")\n",
        "print(f\"Total columns: {train_merged.shape[1]}\")\n",
        "print(f\"Columns with >30% missing values: {(nan_percentage_train > 30).sum()}\") ##removing columns with more than 30% missing vlaues\n",
        "print(\"\\nTop 10 columns with highest missing values:\")\n",
        "print(nan_percentage_train.head(10))\n"
      ],
      "metadata": {
        "colab": {
          "base_uri": "https://localhost:8080/"
        },
        "id": "6R-1f7HXZyIu",
        "outputId": "f2887a1a-92f2-413d-f50b-bb006d3c0c14"
      },
      "execution_count": 11,
      "outputs": [
        {
          "output_type": "stream",
          "name": "stdout",
          "text": [
            "NaN Distribution Across Columns:\n",
            "Total rows: 590540\n",
            "Total columns: 434\n",
            "Columns with >30% missing values: 232\n",
            "\n",
            "Top 10 columns with highest missing values:\n",
            "id_24    99.196159\n",
            "id_25    99.130965\n",
            "id_07    99.127070\n",
            "id_08    99.127070\n",
            "id_21    99.126393\n",
            "id_26    99.125715\n",
            "id_27    99.124699\n",
            "id_23    99.124699\n",
            "id_22    99.124699\n",
            "dist2    93.628374\n",
            "dtype: float64\n"
          ]
        }
      ]
    },
    {
      "cell_type": "code",
      "source": [
        "# Plot 1: Bar plot of NaN percentages (top 50 columns)\n",
        "plt.figure(figsize=(15, 8))\n",
        "nan_percentage_train.head(50).plot(kind='bar')\n",
        "plt.title('NaN % Before Preprocessing (Top 50 Columns)')\n",
        "plt.xlabel('Column name')\n",
        "plt.ylabel('Missing Value %')\n",
        "plt.xticks(rotation=45, ha='right')\n",
        "plt.tight_layout()\n",
        "plt.savefig('/content/drive/MyDrive/nan_bar_plot_before.png')\n",
        "plt.show()"
      ],
      "metadata": {
        "colab": {
          "base_uri": "https://localhost:8080/",
          "height": 545
        },
        "id": "iRgK6Lhqcqta",
        "outputId": "7fb0dd86-dd68-4ecc-c26a-2654dcf0dd78"
      },
      "execution_count": 12,
      "outputs": [
        {
          "output_type": "display_data",
          "data": {
            "text/plain": [
              "<Figure size 1500x800 with 1 Axes>"
            ],
            "image/png": "[encoded data removed]"
          },
          "metadata": {}
        }
      ]
    },
    {
      "cell_type": "code",
      "source": [
        "# Plot 2: Heatmap of missing value correlations\n",
        "plt.figure(figsize=(12, 8))\n",
        "high_nan_cols = nan_percentage_train[nan_percentage_train > 20].index\n",
        "msno.heatmap(train_merged[high_nan_cols], cmap='RdYlBu')\n",
        "plt.title('Missing Value Correlation Heatmap (Columns with >20% NaN)')\n",
        "plt.savefig('/content/drive/MyDrive/nan_heatmap.png')\n",
        "plt.show()"
      ],
      "metadata": {
        "id": "IGGYlDgdc91K"
      },
      "execution_count": null,
      "outputs": []
    },
    {
      "cell_type": "code",
      "source": [
        "print(nan_percentage_train.describe)"
      ],
      "metadata": {
        "colab": {
          "base_uri": "https://localhost:8080/"
        },
        "id": "hd6A-Sgxa6Kn",
        "outputId": "16afcd47-752b-4621-969e-2362b17aab45"
      },
      "execution_count": 28,
      "outputs": [
        {
          "output_type": "stream",
          "name": "stdout",
          "text": [
            "<bound method NDFrame.describe of id_24            99.196159\n",
            "id_25            99.130965\n",
            "id_07            99.127070\n",
            "id_08            99.127070\n",
            "id_21            99.126393\n",
            "                   ...    \n",
            "C11               0.000000\n",
            "C14               0.000000\n",
            "C13               0.000000\n",
            "C12               0.000000\n",
            "TransactionID     0.000000\n",
            "Length: 434, dtype: float64>\n"
          ]
        }
      ]
    },
    {
      "cell_type": "code",
      "source": [
        "# Remove columns with >30% missing values\n",
        "columns_to_drop = nan_percentage_train[nan_percentage_train > 30].index\n",
        "print(f\"Removing {len(columns_to_drop)} columns with >30% missing values:\")\n",
        "print(columns_to_drop.tolist())\n",
        "train_data_cleaned = train_merged.drop(columns=columns_to_drop)"
      ],
      "metadata": {
        "colab": {
          "base_uri": "https://localhost:8080/"
        },
        "id": "hICFRJvNcRwQ",
        "outputId": "79d6f3ae-3f92-408d-850f-b14235821bf4"
      },
      "execution_count": 30,
      "outputs": [
        {
          "output_type": "stream",
          "name": "stdout",
          "text": [
            "Removing 232 columns with >30% missing values:\n",
            "['id_24', 'id_25', 'id_07', 'id_08', 'id_21', 'id_26', 'id_27', 'id_23', 'id_22', 'dist2', 'D7', 'id_18', 'D13', 'D14', 'D12', 'id_04', 'id_03', 'D6', 'id_33', 'id_09', 'D8', 'id_10', 'D9', 'id_30', 'id_32', 'id_34', 'id_14', 'V138', 'V139', 'V148', 'V154', 'V162', 'V141', 'V157', 'V146', 'V163', 'V155', 'V142', 'V161', 'V158', 'V156', 'V140', 'V149', 'V147', 'V153', 'V159', 'V160', 'V166', 'V164', 'V165', 'V152', 'V145', 'V143', 'V144', 'V150', 'V151', 'V330', 'V329', 'V336', 'V333', 'V334', 'V331', 'V326', 'V325', 'V324', 'V327', 'V323', 'V322', 'V338', 'V339', 'V335', 'V337', 'V328', 'V332', 'DeviceInfo', 'id_13', 'id_16', 'V249', 'V277', 'V278', 'V248', 'V275', 'V276', 'V252', 'V247', 'V246', 'V232', 'V237', 'V244', 'V243', 'V241', 'V242', 'V240', 'V236', 'V263', 'V262', 'V261', 'V264', 'V267', 'V266', 'V269', 'V265', 'V268', 'V273', 'V274', 'V254', 'V260', 'V253', 'V257', 'V258', 'V218', 'V217', 'V219', 'V223', 'V226', 'V225', 'V224', 'V231', 'V228', 'V229', 'V233', 'V235', 'V230', 'id_05', 'id_06', 'R_emaildomain', 'id_20', 'id_19', 'id_17', 'V213', 'V215', 'V214', 'V206', 'V183', 'V168', 'V173', 'V181', 'V212', 'V211', 'V205', 'V207', 'V216', 'V167', 'V182', 'V193', 'V192', 'V187', 'V204', 'V202', 'V203', 'V199', 'V196', 'V186', 'V179', 'V177', 'V178', 'V176', 'V172', 'V191', 'V190', 'V175', 'V209', 'V208', 'V169', 'V180', 'V174', 'V184', 'V185', 'V189', 'V171', 'V170', 'V200', 'V201', 'V210', 'V197', 'V198', 'V194', 'V188', 'V195', 'id_31', 'DeviceType', 'id_02', 'id_28', 'id_11', 'id_29', 'id_15', 'id_38', 'id_36', 'id_35', 'id_37', 'V251', 'V250', 'V255', 'V256', 'V259', 'V272', 'V271', 'V270', 'V234', 'V239', 'V238', 'V245', 'V227', 'V220', 'V222', 'V221', 'id_12', 'id_01', 'dist1', 'M5', 'M7', 'M9', 'M8', 'D5', 'M4', 'D2', 'V11', 'V3', 'V4', 'V6', 'V5', 'V10', 'V1', 'V9', 'V8', 'V2', 'V7', 'D11', 'M1', 'M3', 'M2', 'D3']\n"
          ]
        }
      ]
    }
  ]
}