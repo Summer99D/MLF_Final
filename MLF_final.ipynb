{
  "cells": [
    {
      "cell_type": "markdown",
      "metadata": {
        "id": "view-in-github",
        "colab_type": "text"
      },
      "source": [
        "<a href=\"https://colab.research.google.com/github/Summer99D/MLF_Final/blob/main/MLF_final.ipynb\" target=\"_parent\"><img src=\"https://colab.research.google.com/assets/colab-badge.svg\" alt=\"Open In Colab\"/></a>"
      ]
    },
    {
      "cell_type": "code",
      "execution_count": 73,
      "metadata": {
        "colab": {
          "base_uri": "https://localhost:8080/"
        },
        "id": "r9BjcqI08jUV",
        "outputId": "bcb68394-922c-49bb-971d-b9d213fd2ce2"
      },
      "outputs": [
        {
          "output_type": "stream",
          "name": "stdout",
          "text": [
            "Requirement already satisfied: category_encoders in /usr/local/lib/python3.11/dist-packages (2.8.1)\n",
            "Requirement already satisfied: pandas in /usr/local/lib/python3.11/dist-packages (2.2.2)\n",
            "Requirement already satisfied: numpy in /usr/local/lib/python3.11/dist-packages (2.0.2)\n",
            "Requirement already satisfied: seaborn in /usr/local/lib/python3.11/dist-packages (0.13.2)\n",
            "Requirement already satisfied: missingno in /usr/local/lib/python3.11/dist-packages (0.5.2)\n",
            "Requirement already satisfied: scikit-learn in /usr/local/lib/python3.11/dist-packages (1.6.1)\n",
            "Requirement already satisfied: matplotlib in /usr/local/lib/python3.11/dist-packages (3.10.0)\n",
            "Requirement already satisfied: patsy>=0.5.1 in /usr/local/lib/python3.11/dist-packages (from category_encoders) (1.0.1)\n",
            "Requirement already satisfied: scipy>=1.0.0 in /usr/local/lib/python3.11/dist-packages (from category_encoders) (1.15.3)\n",
            "Requirement already satisfied: statsmodels>=0.9.0 in /usr/local/lib/python3.11/dist-packages (from category_encoders) (0.14.4)\n",
            "Requirement already satisfied: python-dateutil>=2.8.2 in /usr/local/lib/python3.11/dist-packages (from pandas) (2.9.0.post0)\n",
            "Requirement already satisfied: pytz>=2020.1 in /usr/local/lib/python3.11/dist-packages (from pandas) (2025.2)\n",
            "Requirement already satisfied: tzdata>=2022.7 in /usr/local/lib/python3.11/dist-packages (from pandas) (2025.2)\n",
            "Requirement already satisfied: joblib>=1.2.0 in /usr/local/lib/python3.11/dist-packages (from scikit-learn) (1.5.0)\n",
            "Requirement already satisfied: threadpoolctl>=3.1.0 in /usr/local/lib/python3.11/dist-packages (from scikit-learn) (3.6.0)\n",
            "Requirement already satisfied: contourpy>=1.0.1 in /usr/local/lib/python3.11/dist-packages (from matplotlib) (1.3.2)\n",
            "Requirement already satisfied: cycler>=0.10 in /usr/local/lib/python3.11/dist-packages (from matplotlib) (0.12.1)\n",
            "Requirement already satisfied: fonttools>=4.22.0 in /usr/local/lib/python3.11/dist-packages (from matplotlib) (4.58.0)\n",
            "Requirement already satisfied: kiwisolver>=1.3.1 in /usr/local/lib/python3.11/dist-packages (from matplotlib) (1.4.8)\n",
            "Requirement already satisfied: packaging>=20.0 in /usr/local/lib/python3.11/dist-packages (from matplotlib) (25.0)\n",
            "Requirement already satisfied: pillow>=8 in /usr/local/lib/python3.11/dist-packages (from matplotlib) (11.2.1)\n",
            "Requirement already satisfied: pyparsing>=2.3.1 in /usr/local/lib/python3.11/dist-packages (from matplotlib) (3.2.3)\n",
            "Requirement already satisfied: six>=1.5 in /usr/local/lib/python3.11/dist-packages (from python-dateutil>=2.8.2->pandas) (1.17.0)\n"
          ]
        }
      ],
      "source": [
        "!pip install category_encoders pandas numpy seaborn missingno scikit-learn matplotlib"
      ]
    },
    {
      "cell_type": "code",
      "execution_count": 74,
      "metadata": {
        "id": "van3eBCT9vwW"
      },
      "outputs": [],
      "source": [
        "import warnings\n",
        "warnings.filterwarnings('ignore')\n"
      ]
    },
    {
      "cell_type": "code",
      "execution_count": 75,
      "metadata": {
        "id": "Kxws0VqPUfaI"
      },
      "outputs": [],
      "source": [
        "import pandas as pd\n",
        "import numpy as np\n",
        "import matplotlib.pyplot as plt\n",
        "import seaborn as sns\n",
        "import missingno as msno\n",
        "from sklearn.impute import SimpleImputer\n",
        "from sklearn.preprocessing import StandardScaler\n",
        "from sklearn.decomposition import PCA\n",
        "from category_encoders import TargetEncoder\n",
        "from sklearn.linear_model import LogisticRegression\n",
        "from sklearn.metrics import roc_auc_score"
      ]
    },
    {
      "cell_type": "code",
      "execution_count": 76,
      "metadata": {
        "colab": {
          "base_uri": "https://localhost:8080/"
        },
        "id": "GDq0oJBPVz44",
        "outputId": "fed3f33c-69f4-422e-b44a-bd34b49ac090"
      },
      "outputs": [
        {
          "output_type": "stream",
          "name": "stdout",
          "text": [
            "Drive already mounted at /content/drive; to attempt to forcibly remount, call drive.mount(\"/content/drive\", force_remount=True).\n"
          ]
        }
      ],
      "source": [
        "from google.colab import drive\n",
        "drive.mount('/content/drive')"
      ]
    },
    {
      "cell_type": "code",
      "execution_count": 77,
      "metadata": {
        "id": "VK3bLxK6UmtS"
      },
      "outputs": [],
      "source": [
        "test_trns_df= pd.read_csv('/content/drive/MyDrive/MLF/test_transaction.csv')\n",
        "test_id_df= pd.read_csv('/content/drive/MyDrive/MLF/test_identity.csv')\n",
        "train_trns_df= pd.read_csv('/content/drive/MyDrive/MLF/train_transaction.csv')\n",
        "train_id_df= pd.read_csv('/content/drive/MyDrive/MLF/train_identity.csv')\n"
      ]
    },
    {
      "cell_type": "code",
      "execution_count": 78,
      "metadata": {
        "colab": {
          "base_uri": "https://localhost:8080/"
        },
        "id": "WFR9HD5KWue4",
        "outputId": "8668482f-2f17-48d1-ee0c-64bf8b8da6b2"
      },
      "outputs": [
        {
          "output_type": "stream",
          "name": "stdout",
          "text": [
            "<bound method NDFrame.describe of         TransactionID  TransactionDT  TransactionAmt ProductCD  card1  card2  \\\n",
            "0             3663549       18403224          31.950         W  10409  111.0   \n",
            "1             3663550       18403263          49.000         W   4272  111.0   \n",
            "2             3663551       18403310         171.000         W   4476  574.0   \n",
            "3             3663552       18403310         284.950         W  10989  360.0   \n",
            "4             3663553       18403317          67.950         W  18018  452.0   \n",
            "...               ...            ...             ...       ...    ...    ...   \n",
            "506686        4170235       34214279          94.679         C  13832  375.0   \n",
            "506687        4170236       34214287          12.173         C   3154  408.0   \n",
            "506688        4170237       34214326          49.000         W  16661  490.0   \n",
            "506689        4170238       34214337         202.000         W  16621  516.0   \n",
            "506690        4170239       34214345          24.346         C   5713  168.0   \n",
            "\n",
            "        card3       card4  card5   card6  ...  V330  V331  V332  V333 V334  \\\n",
            "0       150.0        visa  226.0   debit  ...   NaN   NaN   NaN   NaN  NaN   \n",
            "1       150.0        visa  226.0   debit  ...   NaN   NaN   NaN   NaN  NaN   \n",
            "2       150.0        visa  226.0   debit  ...   NaN   NaN   NaN   NaN  NaN   \n",
            "3       150.0        visa  166.0   debit  ...   NaN   NaN   NaN   NaN  NaN   \n",
            "4       150.0  mastercard  117.0   debit  ...   NaN   NaN   NaN   NaN  NaN   \n",
            "...       ...         ...    ...     ...  ...   ...   ...   ...   ...  ...   \n",
            "506686  185.0  mastercard  224.0   debit  ...   NaN   NaN   NaN   NaN  NaN   \n",
            "506687  185.0  mastercard  224.0   debit  ...   NaN   NaN   NaN   NaN  NaN   \n",
            "506688  150.0        visa  226.0   debit  ...   NaN   NaN   NaN   NaN  NaN   \n",
            "506689  150.0  mastercard  224.0   debit  ...   NaN   NaN   NaN   NaN  NaN   \n",
            "506690  144.0        visa  147.0  credit  ...   NaN   NaN   NaN   NaN  NaN   \n",
            "\n",
            "       V335  V336  V337  V338  V339  \n",
            "0       NaN   NaN   NaN   NaN   NaN  \n",
            "1       NaN   NaN   NaN   NaN   NaN  \n",
            "2       NaN   NaN   NaN   NaN   NaN  \n",
            "3       NaN   NaN   NaN   NaN   NaN  \n",
            "4       NaN   NaN   NaN   NaN   NaN  \n",
            "...     ...   ...   ...   ...   ...  \n",
            "506686  NaN   NaN   NaN   NaN   NaN  \n",
            "506687  NaN   NaN   NaN   NaN   NaN  \n",
            "506688  NaN   NaN   NaN   NaN   NaN  \n",
            "506689  NaN   NaN   NaN   NaN   NaN  \n",
            "506690  NaN   NaN   NaN   NaN   NaN  \n",
            "\n",
            "[506691 rows x 393 columns]>\n"
          ]
        }
      ],
      "source": [
        "print(test_trns_df.describe)"
      ]
    },
    {
      "cell_type": "code",
      "execution_count": 79,
      "metadata": {
        "colab": {
          "base_uri": "https://localhost:8080/"
        },
        "id": "5Nt7PjijXJsA",
        "outputId": "e4150599-00c8-40d2-b4c7-bcbc61a6037d"
      },
      "outputs": [
        {
          "output_type": "stream",
          "name": "stdout",
          "text": [
            "<bound method NDFrame.describe of         TransactionID  id-01     id-02  id-03  id-04  id-05  id-06  id-07  \\\n",
            "0             3663586  -45.0  280290.0    NaN    NaN    0.0    0.0    NaN   \n",
            "1             3663588    0.0    3579.0    0.0    0.0    0.0    0.0    NaN   \n",
            "2             3663597   -5.0  185210.0    NaN    NaN    1.0    0.0    NaN   \n",
            "3             3663601  -45.0  252944.0    0.0    0.0    0.0    0.0    NaN   \n",
            "4             3663602  -95.0  328680.0    NaN    NaN    7.0  -33.0    NaN   \n",
            "...               ...    ...       ...    ...    ...    ...    ...    ...   \n",
            "141902        4170230  -20.0  473365.0    NaN    NaN    0.0    0.0    NaN   \n",
            "141903        4170233   -5.0  489917.0    0.0    0.0   -4.0  -32.0    NaN   \n",
            "141904        4170234   -5.0  110081.0    NaN    NaN   22.0  -31.0    NaN   \n",
            "141905        4170236  -45.0  266704.0    NaN    NaN   -3.0  -10.0    NaN   \n",
            "141906        4170239  -10.0  692090.0    0.0    0.0    0.0    0.0    NaN   \n",
            "\n",
            "        id-08  id-09  ...                    id-31  id-32     id-33  \\\n",
            "0         NaN    NaN  ...  chrome 67.0 for android    NaN       NaN   \n",
            "1         NaN    0.0  ...  chrome 67.0 for android   24.0  1280x720   \n",
            "2         NaN    NaN  ...       ie 11.0 for tablet    NaN       NaN   \n",
            "3         NaN    0.0  ...  chrome 67.0 for android    NaN       NaN   \n",
            "4         NaN    NaN  ...  chrome 67.0 for android    NaN       NaN   \n",
            "...       ...    ...  ...                      ...    ...       ...   \n",
            "141902    NaN    NaN  ...  chrome 71.0 for android    NaN       NaN   \n",
            "141903    NaN    0.0  ...  chrome 71.0 for android    NaN       NaN   \n",
            "141904    NaN    NaN  ...       mobile safari 10.0   32.0  1334x750   \n",
            "141905    NaN    NaN  ...  chrome 43.0 for android    NaN       NaN   \n",
            "141906    NaN    0.0  ...      samsung browser 8.2    NaN       NaN   \n",
            "\n",
            "                 id-34  id-35 id-36 id-37  id-38  DeviceType  \\\n",
            "0                  NaN      F     F     T      F      mobile   \n",
            "1       match_status:2      T     F     T      T      mobile   \n",
            "2                  NaN      F     T     T      F     desktop   \n",
            "3                  NaN      F     F     T      F      mobile   \n",
            "4                  NaN      F     F     T      F      mobile   \n",
            "...                ...    ...   ...   ...    ...         ...   \n",
            "141902             NaN      F     F     T      F      mobile   \n",
            "141903             NaN      F     F     T      F      mobile   \n",
            "141904  match_status:2      T     F     F      T      mobile   \n",
            "141905             NaN      F     F     T      F      mobile   \n",
            "141906             NaN      F     F     T      F      mobile   \n",
            "\n",
            "                         DeviceInfo  \n",
            "0       MYA-L13 Build/HUAWEIMYA-L13  \n",
            "1              LGLS676 Build/MXB48T  \n",
            "2                       Trident/7.0  \n",
            "3       MYA-L13 Build/HUAWEIMYA-L13  \n",
            "4              SM-G9650 Build/R16NW  \n",
            "...                             ...  \n",
            "141902                     SM-J700M  \n",
            "141903                     SM-J320M  \n",
            "141904                   iOS Device  \n",
            "141905  ALE-L23 Build/HuaweiALE-L23  \n",
            "141906                      SAMSUNG  \n",
            "\n",
            "[141907 rows x 41 columns]>\n"
          ]
        }
      ],
      "source": [
        "print(test_id_df.describe)"
      ]
    },
    {
      "cell_type": "code",
      "execution_count": 80,
      "metadata": {
        "colab": {
          "base_uri": "https://localhost:8080/"
        },
        "id": "jEFA0_GAXSyB",
        "outputId": "a83ff4db-cafb-4835-8dab-983cb75cf6ad"
      },
      "outputs": [
        {
          "output_type": "stream",
          "name": "stdout",
          "text": [
            "<bound method NDFrame.describe of         TransactionID  id_01     id_02  id_03  id_04  id_05  id_06  id_07  \\\n",
            "0             2987004    0.0   70787.0    NaN    NaN    NaN    NaN    NaN   \n",
            "1             2987008   -5.0   98945.0    NaN    NaN    0.0   -5.0    NaN   \n",
            "2             2987010   -5.0  191631.0    0.0    0.0    0.0    0.0    NaN   \n",
            "3             2987011   -5.0  221832.0    NaN    NaN    0.0   -6.0    NaN   \n",
            "4             2987016    0.0    7460.0    0.0    0.0    1.0    0.0    NaN   \n",
            "...               ...    ...       ...    ...    ...    ...    ...    ...   \n",
            "144228        3577521  -15.0  145955.0    0.0    0.0    0.0    0.0    NaN   \n",
            "144229        3577526   -5.0  172059.0    NaN    NaN    1.0   -5.0    NaN   \n",
            "144230        3577529  -20.0  632381.0    NaN    NaN   -1.0  -36.0    NaN   \n",
            "144231        3577531   -5.0   55528.0    0.0    0.0    0.0   -7.0    NaN   \n",
            "144232        3577534  -45.0  339406.0    NaN    NaN  -10.0 -100.0    NaN   \n",
            "\n",
            "        id_08  id_09  ...                    id_31  id_32      id_33  \\\n",
            "0         NaN    NaN  ...      samsung browser 6.2   32.0  2220x1080   \n",
            "1         NaN    NaN  ...       mobile safari 11.0   32.0   1334x750   \n",
            "2         NaN    0.0  ...              chrome 62.0    NaN        NaN   \n",
            "3         NaN    NaN  ...              chrome 62.0    NaN        NaN   \n",
            "4         NaN    0.0  ...              chrome 62.0   24.0   1280x800   \n",
            "...       ...    ...  ...                      ...    ...        ...   \n",
            "144228    NaN    0.0  ...  chrome 66.0 for android    NaN        NaN   \n",
            "144229    NaN    NaN  ...  chrome 55.0 for android   32.0    855x480   \n",
            "144230    NaN    NaN  ...  chrome 65.0 for android    NaN        NaN   \n",
            "144231    NaN    0.0  ...              chrome 66.0   24.0  2560x1600   \n",
            "144232    NaN    NaN  ...  chrome 66.0 for android    NaN        NaN   \n",
            "\n",
            "                 id_34  id_35 id_36 id_37  id_38  DeviceType  \\\n",
            "0       match_status:2      T     F     T      T      mobile   \n",
            "1       match_status:1      T     F     F      T      mobile   \n",
            "2                  NaN      F     F     T      T     desktop   \n",
            "3                  NaN      F     F     T      T     desktop   \n",
            "4       match_status:2      T     F     T      T     desktop   \n",
            "...                ...    ...   ...   ...    ...         ...   \n",
            "144228             NaN      F     F     T      F      mobile   \n",
            "144229  match_status:2      T     F     T      F      mobile   \n",
            "144230             NaN      F     F     T      F      mobile   \n",
            "144231  match_status:2      T     F     T      F     desktop   \n",
            "144232             NaN      F     F     T      F      mobile   \n",
            "\n",
            "                                DeviceInfo  \n",
            "0            SAMSUNG SM-G892A Build/NRD90M  \n",
            "1                               iOS Device  \n",
            "2                                  Windows  \n",
            "3                                      NaN  \n",
            "4                                    MacOS  \n",
            "...                                    ...  \n",
            "144228             F3111 Build/33.3.A.1.97  \n",
            "144229                 A574BL Build/NMF26F  \n",
            "144230  Moto E (4) Plus Build/NMA26.42-152  \n",
            "144231                               MacOS  \n",
            "144232         RNE-L03 Build/HUAWEIRNE-L03  \n",
            "\n",
            "[144233 rows x 41 columns]>\n",
            "Index(['TransactionID', 'id_01', 'id_02', 'id_03', 'id_04', 'id_05', 'id_06',\n",
            "       'id_07', 'id_08', 'id_09', 'id_10', 'id_11', 'id_12', 'id_13', 'id_14',\n",
            "       'id_15', 'id_16', 'id_17', 'id_18', 'id_19', 'id_20', 'id_21', 'id_22',\n",
            "       'id_23', 'id_24', 'id_25', 'id_26', 'id_27', 'id_28', 'id_29', 'id_30',\n",
            "       'id_31', 'id_32', 'id_33', 'id_34', 'id_35', 'id_36', 'id_37', 'id_38',\n",
            "       'DeviceType', 'DeviceInfo'],\n",
            "      dtype='object')\n"
          ]
        }
      ],
      "source": [
        "print(train_id_df.describe)\n",
        "print(train_id_df.columns)"
      ]
    },
    {
      "cell_type": "code",
      "execution_count": 81,
      "metadata": {
        "colab": {
          "base_uri": "https://localhost:8080/"
        },
        "id": "qiZfHMaFXXao",
        "outputId": "5542bda4-9179-4ca8-df09-1f003152a254"
      },
      "outputs": [
        {
          "output_type": "stream",
          "name": "stdout",
          "text": [
            "<bound method NDFrame.describe of         TransactionID  isFraud  TransactionDT  TransactionAmt ProductCD  \\\n",
            "0             2987000        0          86400           68.50         W   \n",
            "1             2987001        0          86401           29.00         W   \n",
            "2             2987002        0          86469           59.00         W   \n",
            "3             2987003        0          86499           50.00         W   \n",
            "4             2987004        0          86506           50.00         H   \n",
            "...               ...      ...            ...             ...       ...   \n",
            "590535        3577535        0       15811047           49.00         W   \n",
            "590536        3577536        0       15811049           39.50         W   \n",
            "590537        3577537        0       15811079           30.95         W   \n",
            "590538        3577538        0       15811088          117.00         W   \n",
            "590539        3577539        0       15811131          279.95         W   \n",
            "\n",
            "        card1  card2  card3       card4  card5  ... V330  V331  V332  V333  \\\n",
            "0       13926    NaN  150.0    discover  142.0  ...  NaN   NaN   NaN   NaN   \n",
            "1        2755  404.0  150.0  mastercard  102.0  ...  NaN   NaN   NaN   NaN   \n",
            "2        4663  490.0  150.0        visa  166.0  ...  NaN   NaN   NaN   NaN   \n",
            "3       18132  567.0  150.0  mastercard  117.0  ...  NaN   NaN   NaN   NaN   \n",
            "4        4497  514.0  150.0  mastercard  102.0  ...  0.0   0.0   0.0   0.0   \n",
            "...       ...    ...    ...         ...    ...  ...  ...   ...   ...   ...   \n",
            "590535   6550    NaN  150.0        visa  226.0  ...  NaN   NaN   NaN   NaN   \n",
            "590536  10444  225.0  150.0  mastercard  224.0  ...  NaN   NaN   NaN   NaN   \n",
            "590537  12037  595.0  150.0  mastercard  224.0  ...  NaN   NaN   NaN   NaN   \n",
            "590538   7826  481.0  150.0  mastercard  224.0  ...  NaN   NaN   NaN   NaN   \n",
            "590539  15066  170.0  150.0  mastercard  102.0  ...  NaN   NaN   NaN   NaN   \n",
            "\n",
            "        V334 V335 V336  V337  V338  V339  \n",
            "0        NaN  NaN  NaN   NaN   NaN   NaN  \n",
            "1        NaN  NaN  NaN   NaN   NaN   NaN  \n",
            "2        NaN  NaN  NaN   NaN   NaN   NaN  \n",
            "3        NaN  NaN  NaN   NaN   NaN   NaN  \n",
            "4        0.0  0.0  0.0   0.0   0.0   0.0  \n",
            "...      ...  ...  ...   ...   ...   ...  \n",
            "590535   NaN  NaN  NaN   NaN   NaN   NaN  \n",
            "590536   NaN  NaN  NaN   NaN   NaN   NaN  \n",
            "590537   NaN  NaN  NaN   NaN   NaN   NaN  \n",
            "590538   NaN  NaN  NaN   NaN   NaN   NaN  \n",
            "590539   NaN  NaN  NaN   NaN   NaN   NaN  \n",
            "\n",
            "[590540 rows x 394 columns]>\n",
            "Index(['TransactionID', 'isFraud', 'TransactionDT', 'TransactionAmt',\n",
            "       'ProductCD', 'card1', 'card2', 'card3', 'card4', 'card5',\n",
            "       ...\n",
            "       'V330', 'V331', 'V332', 'V333', 'V334', 'V335', 'V336', 'V337', 'V338',\n",
            "       'V339'],\n",
            "      dtype='object', length=394)\n"
          ]
        }
      ],
      "source": [
        "print(train_trns_df.describe)\n",
        "print(train_trns_df.columns)"
      ]
    },
    {
      "cell_type": "code",
      "execution_count": 82,
      "metadata": {
        "id": "EdNeh9zwXb-C"
      },
      "outputs": [],
      "source": [
        "## I will be merging on \"transaction id\"\n",
        "train_merged= pd.merge(train_trns_df, train_id_df, on='TransactionID', how='left')\n",
        "test_merged= pd.merge(test_trns_df, test_id_df, on='TransactionID', how='left')"
      ]
    },
    {
      "cell_type": "code",
      "execution_count": 83,
      "metadata": {
        "colab": {
          "base_uri": "https://localhost:8080/"
        },
        "id": "pxsID0SKaRCj",
        "outputId": "758e834c-1823-4ffd-cc37-eaea54e1f8e2"
      },
      "outputs": [
        {
          "output_type": "stream",
          "name": "stdout",
          "text": [
            "(590540, 434)\n",
            "(506691, 433)\n"
          ]
        }
      ],
      "source": [
        "print(train_merged.shape)## we have 434 variables\n",
        "print(test_merged.shape)"
      ]
    },
    {
      "cell_type": "markdown",
      "metadata": {
        "id": "Xv7aIDlBZux2"
      },
      "source": [
        "### Inspecting NaNs"
      ]
    },
    {
      "cell_type": "markdown",
      "metadata": {
        "id": "VKIMUAPHab5V"
      },
      "source": [
        "Training data"
      ]
    },
    {
      "cell_type": "code",
      "execution_count": 84,
      "metadata": {
        "colab": {
          "base_uri": "https://localhost:8080/"
        },
        "id": "6R-1f7HXZyIu",
        "outputId": "d9a6e653-4472-4f9c-bb4e-4e8f802c412d"
      },
      "outputs": [
        {
          "output_type": "stream",
          "name": "stdout",
          "text": [
            "NaN Distribution Across Columns:\n",
            "Total rows: 590540\n",
            "Total columns: 434\n",
            "Columns with >90% missing values: 12\n",
            "\n",
            "Top 10 columns with highest missing values:\n",
            "id_24    99.196159\n",
            "id_25    99.130965\n",
            "id_07    99.127070\n",
            "id_08    99.127070\n",
            "id_21    99.126393\n",
            "id_26    99.125715\n",
            "id_22    99.124699\n",
            "id_27    99.124699\n",
            "id_23    99.124699\n",
            "dist2    93.628374\n",
            "dtype: float64\n"
          ]
        }
      ],
      "source": [
        "# Step 1: Calculate NaN statistics\n",
        "nan_percentage_train = train_merged.isnull().mean() * 100\n",
        "nan_percentage_train = nan_percentage_train.sort_values(ascending=False)\n",
        "\n",
        "# Step 2: Summary statistics\n",
        "print(\"NaN Distribution Across Columns:\")\n",
        "print(f\"Total rows: {train_merged.shape[0]}\")\n",
        "print(f\"Total columns: {train_merged.shape[1]}\")\n",
        "print(f\"Columns with >90% missing values: {(nan_percentage_train > 90).sum()}\") ##removing columns with more than 90% missing vlaues\n",
        "print(\"\\nTop 10 columns with highest missing values:\")\n",
        "print(nan_percentage_train.head(10))\n"
      ]
    },
    {
      "cell_type": "code",
      "execution_count": 85,
      "metadata": {
        "colab": {
          "base_uri": "https://localhost:8080/",
          "height": 715
        },
        "id": "iRgK6Lhqcqta",
        "outputId": "1c41bd37-e5cd-45d7-dde9-a72d50325497"
      },
      "outputs": [
        {
          "output_type": "display_data",
          "data": {
            "text/plain": [
              "<Figure size 1500x800 with 1 Axes>"
            ],
            "image/png": "[encoded data removed]"
          },
          "metadata": {}
        }
      ],
      "source": [
        "# Plot 1: Bar plot of NaN percentages (top 50 columns)\n",
        "plt.figure(figsize=(15, 8))\n",
        "nan_percentage_train.head(50).plot(kind='bar')\n",
        "plt.title('NaN % Before Preprocessing (Top 50 Columns)')\n",
        "plt.xlabel('Column name')\n",
        "plt.ylabel('Missing Value %')\n",
        "plt.xticks(rotation=45, ha='right')\n",
        "plt.tight_layout()\n",
        "plt.savefig('/content/drive/MyDrive/nan_bar_plot_before.png')\n",
        "plt.show()"
      ]
    },
    {
      "cell_type": "code",
      "execution_count": 86,
      "metadata": {
        "colab": {
          "base_uri": "https://localhost:8080/"
        },
        "id": "hd6A-Sgxa6Kn",
        "outputId": "22905db2-f2c6-4202-a08e-88e999a9a8f5"
      },
      "outputs": [
        {
          "output_type": "stream",
          "name": "stdout",
          "text": [
            "<bound method NDFrame.describe of id_24             99.196159\n",
            "id_25             99.130965\n",
            "id_07             99.127070\n",
            "id_08             99.127070\n",
            "id_21             99.126393\n",
            "                    ...    \n",
            "ProductCD          0.000000\n",
            "TransactionAmt     0.000000\n",
            "TransactionDT      0.000000\n",
            "isFraud            0.000000\n",
            "TransactionID      0.000000\n",
            "Length: 434, dtype: float64>\n"
          ]
        }
      ],
      "source": [
        "print(nan_percentage_train.describe)"
      ]
    },
    {
      "cell_type": "code",
      "execution_count": 87,
      "metadata": {
        "colab": {
          "base_uri": "https://localhost:8080/"
        },
        "id": "hICFRJvNcRwQ",
        "outputId": "0db87a85-1247-4e25-fbc4-52d01124cec8"
      },
      "outputs": [
        {
          "output_type": "stream",
          "name": "stdout",
          "text": [
            "Removing 12 columns with >90% missing values:\n",
            "['id_24', 'id_25', 'id_07', 'id_08', 'id_21', 'id_26', 'id_22', 'id_27', 'id_23', 'dist2', 'D7', 'id_18']\n"
          ]
        }
      ],
      "source": [
        "# Remove columns with >90% missing values\n",
        "columns_to_drop = nan_percentage_train[nan_percentage_train > 90].index\n",
        "print(f\"Removing {len(columns_to_drop)} columns with >90% missing values:\")\n",
        "print(columns_to_drop.tolist())\n",
        "train_data_cleaned = train_merged.drop(columns=columns_to_drop)"
      ]
    },
    {
      "cell_type": "code",
      "execution_count": 88,
      "metadata": {
        "colab": {
          "base_uri": "https://localhost:8080/",
          "height": 458
        },
        "id": "qLIGkSdsfOPb",
        "outputId": "75c836a7-5906-4c03-9e6d-841c367174a8"
      },
      "outputs": [
        {
          "output_type": "execute_result",
          "data": {
            "text/plain": [
              "TransactionID       int64\n",
              "isFraud             int64\n",
              "TransactionDT       int64\n",
              "TransactionAmt    float64\n",
              "ProductCD          object\n",
              "                   ...   \n",
              "id_36              object\n",
              "id_37              object\n",
              "id_38              object\n",
              "DeviceType         object\n",
              "DeviceInfo         object\n",
              "Length: 422, dtype: object"
            ],
            "text/html": [
              "<div>\n",
              "<style scoped>\n",
              "    .dataframe tbody tr th:only-of-type {\n",
              "        vertical-align: middle;\n",
              "    }\n",
              "\n",
              "    .dataframe tbody tr th {\n",
              "        vertical-align: top;\n",
              "    }\n",
              "\n",
              "    .dataframe thead th {\n",
              "        text-align: right;\n",
              "    }\n",
              "</style>\n",
              "<table border=\"1\" class=\"dataframe\">\n",
              "  <thead>\n",
              "    <tr style=\"text-align: right;\">\n",
              "      <th></th>\n",
              "      <th>0</th>\n",
              "    </tr>\n",
              "  </thead>\n",
              "  <tbody>\n",
              "    <tr>\n",
              "      <th>TransactionID</th>\n",
              "      <td>int64</td>\n",
              "    </tr>\n",
              "    <tr>\n",
              "      <th>isFraud</th>\n",
              "      <td>int64</td>\n",
              "    </tr>\n",
              "    <tr>\n",
              "      <th>TransactionDT</th>\n",
              "      <td>int64</td>\n",
              "    </tr>\n",
              "    <tr>\n",
              "      <th>TransactionAmt</th>\n",
              "      <td>float64</td>\n",
              "    </tr>\n",
              "    <tr>\n",
              "      <th>ProductCD</th>\n",
              "      <td>object</td>\n",
              "    </tr>\n",
              "    <tr>\n",
              "      <th>...</th>\n",
              "      <td>...</td>\n",
              "    </tr>\n",
              "    <tr>\n",
              "      <th>id_36</th>\n",
              "      <td>object</td>\n",
              "    </tr>\n",
              "    <tr>\n",
              "      <th>id_37</th>\n",
              "      <td>object</td>\n",
              "    </tr>\n",
              "    <tr>\n",
              "      <th>id_38</th>\n",
              "      <td>object</td>\n",
              "    </tr>\n",
              "    <tr>\n",
              "      <th>DeviceType</th>\n",
              "      <td>object</td>\n",
              "    </tr>\n",
              "    <tr>\n",
              "      <th>DeviceInfo</th>\n",
              "      <td>object</td>\n",
              "    </tr>\n",
              "  </tbody>\n",
              "</table>\n",
              "<p>422 rows × 1 columns</p>\n",
              "</div><br><label><b>dtype:</b> object</label>"
            ]
          },
          "metadata": {},
          "execution_count": 88
        }
      ],
      "source": [
        "## I wanna check data types\n",
        "train_data_cleaned.dtypes"
      ]
    },
    {
      "cell_type": "code",
      "execution_count": 89,
      "metadata": {
        "id": "Gesh_r-EoHVA"
      },
      "outputs": [],
      "source": [
        "# Impute NaNs in all columns with the mean (for numeric columns only)\n",
        "train_data_cleaned = train_data_cleaned.fillna(train_data_cleaned.mean(numeric_only=True))"
      ]
    },
    {
      "cell_type": "code",
      "execution_count": 90,
      "metadata": {
        "id": "2jK3X0VBx7Xg"
      },
      "outputs": [],
      "source": [
        "from sklearn.impute import SimpleImputer\n",
        "\n",
        "# Identify column types\n",
        "num_cols = train_data_cleaned.select_dtypes(include=['float64', 'int64']).columns\n",
        "cat_cols = train_data_cleaned.select_dtypes(include=['object', 'category']).columns\n",
        "\n",
        "num_imputer = SimpleImputer(strategy='median')\n",
        "train_data_cleaned[num_cols] = num_imputer.fit_transform(train_data_cleaned[num_cols])\n",
        "\n",
        "\n",
        "cat_imputer = SimpleImputer(strategy='most_frequent')\n",
        "train_data_cleaned[cat_cols] = cat_imputer.fit_transform(train_data_cleaned[cat_cols])\n"
      ]
    },
    {
      "cell_type": "code",
      "execution_count": 91,
      "metadata": {
        "colab": {
          "base_uri": "https://localhost:8080/"
        },
        "id": "foDN7ovX1jT7",
        "outputId": "86d81236-5b3d-4940-cf0e-72f3531f4d69"
      },
      "outputs": [
        {
          "output_type": "stream",
          "name": "stdout",
          "text": [
            "\n",
            "NaN percentages after imputation (should be 0%):\n",
            "Series([], dtype: float64)\n"
          ]
        }
      ],
      "source": [
        "# Verify no NaNs\n",
        "nan_percentage_cleaned = train_data_cleaned.isnull().mean() * 100\n",
        "print(\"\\nNaN percentages after imputation (should be 0%):\")\n",
        "print(nan_percentage_cleaned[nan_percentage_cleaned > 0])"
      ]
    },
    {
      "cell_type": "markdown",
      "metadata": {
        "id": "OzsGhZbYkZVz"
      },
      "source": [
        "Test Data"
      ]
    },
    {
      "cell_type": "code",
      "execution_count": 92,
      "metadata": {
        "colab": {
          "base_uri": "https://localhost:8080/"
        },
        "id": "kk2c9qixkam_",
        "outputId": "5d46a2ae-1d15-42e2-9cfa-d2ea650526dc"
      },
      "outputs": [
        {
          "output_type": "stream",
          "name": "stdout",
          "text": [
            "NaN Distribution Across Columns:\n",
            "Total rows: 506691\n",
            "Total columns: 433\n",
            "Columns with >90% missing values: 10\n",
            "\n",
            "Top 10 columns with highest missing values:\n",
            "id-24    99.064519\n",
            "id-25    99.005508\n",
            "id-26    99.003929\n",
            "id-21    99.001561\n",
            "id-08    99.001561\n",
            "id-07    99.001561\n",
            "id-27    99.000969\n",
            "id-23    99.000969\n",
            "id-22    99.000969\n",
            "dist2    92.809030\n",
            "dtype: float64\n"
          ]
        }
      ],
      "source": [
        "# Step 1: Calculate NaN statistics\n",
        "nan_percentage_test = test_merged.isnull().mean() * 100\n",
        "nan_percentage_test = nan_percentage_test.sort_values(ascending=False)\n",
        "\n",
        "# Step 2: Summary statistics\n",
        "print(\"NaN Distribution Across Columns:\")\n",
        "print(f\"Total rows: {test_merged.shape[0]}\")\n",
        "print(f\"Total columns: {test_merged.shape[1]}\")\n",
        "print(f\"Columns with >90% missing values: {(nan_percentage_test > 90).sum()}\") ##removing columns with more than 90% missing vlaues\n",
        "print(\"\\nTop 10 columns with highest missing values:\")\n",
        "print(nan_percentage_test.head(10))"
      ]
    },
    {
      "cell_type": "code",
      "execution_count": 93,
      "metadata": {
        "colab": {
          "base_uri": "https://localhost:8080/",
          "height": 715
        },
        "id": "it_S48IIksdw",
        "outputId": "042bdbfd-0cce-4833-fbf4-19c1a59265f1"
      },
      "outputs": [
        {
          "output_type": "display_data",
          "data": {
            "text/plain": [
              "<Figure size 1500x800 with 1 Axes>"
            ],
            "image/png": "[encoded data removed]"
          },
          "metadata": {}
        }
      ],
      "source": [
        "# Bar plot: Top 50 columns\n",
        "plt.figure(figsize=(15, 8))\n",
        "nan_percentage_test.head(50).plot(kind='bar')\n",
        "plt.title('NaN % Before Preprocessing (Top 50 Columns)')\n",
        "plt.xlabel('Column name')\n",
        "plt.ylabel('Missing Value %')\n",
        "plt.xticks(rotation=45, ha='right')\n",
        "plt.tight_layout()\n",
        "plt.savefig('/content/drive/MyDrive/nan_bar_plot_before.png')\n",
        "plt.show()"
      ]
    },
    {
      "cell_type": "code",
      "execution_count": 94,
      "metadata": {
        "id": "JjcsB9tPk8dt",
        "colab": {
          "base_uri": "https://localhost:8080/"
        },
        "outputId": "475c1366-3570-4a39-b277-468a4acd6b4f"
      },
      "outputs": [
        {
          "output_type": "stream",
          "name": "stdout",
          "text": [
            "Removing 233 columns with >30% missing values:\n",
            "['id-24', 'id-25', 'id-26', 'id-21', 'id-08', 'id-07', 'id-27', 'id-23', 'id-22', 'dist2', 'id-18', 'D7', 'id-04', 'id-03', 'D12', 'id-30', 'id-33', 'id-32', 'id-14', 'id-34', 'D9', 'D8', 'id-09', 'id-10', 'V162', 'V149', 'V153', 'V163', 'V158', 'V156', 'V140', 'V155', 'V154', 'V141', 'V148', 'V157', 'V138', 'V139', 'V146', 'V147', 'V161', 'V142', 'V165', 'V164', 'V151', 'V150', 'V159', 'V144', 'V143', 'V145', 'V152', 'V166', 'V160', 'V327', 'V335', 'V336', 'V326', 'V325', 'V338', 'V339', 'V337', 'V324', 'V328', 'V329', 'V331', 'V330', 'V322', 'V323', 'V334', 'V332', 'V333', 'DeviceInfo', 'D14', 'D13', 'D6', 'id-16', 'V253', 'V229', 'V265', 'V266', 'V267', 'V264', 'V260', 'V263', 'V262', 'V261', 'V273', 'V274', 'V275', 'V269', 'V268', 'V278', 'V277', 'V276', 'V249', 'V236', 'V240', 'V237', 'V246', 'V244', 'V247', 'V248', 'V257', 'V258', 'V254', 'V241', 'V232', 'V242', 'V243', 'V228', 'V252', 'V231', 'V230', 'V233', 'V226', 'V235', 'V223', 'V224', 'V219', 'V225', 'V218', 'V217', 'id-13', 'id-06', 'id-05', 'id-20', 'R_emaildomain', 'id-19', 'id-17', 'V208', 'V197', 'V198', 'V209', 'V201', 'V185', 'V180', 'V174', 'V175', 'V195', 'V188', 'V189', 'V194', 'V171', 'V170', 'V210', 'V169', 'V184', 'V200', 'id-31', 'V167', 'V186', 'V172', 'V190', 'V179', 'V177', 'V187', 'V173', 'V176', 'V202', 'V192', 'V191', 'V204', 'V207', 'V168', 'V178', 'V212', 'V213', 'V205', 'V206', 'V203', 'V193', 'V181', 'V182', 'V183', 'V196', 'V211', 'V199', 'V215', 'V214', 'V216', 'id-11', 'id-28', 'id-29', 'DeviceType', 'id-02', 'id-15', 'id-35', 'id-36', 'id-37', 'id-38', 'V251', 'V250', 'V238', 'V239', 'V256', 'V255', 'V259', 'V245', 'V270', 'V272', 'V271', 'V220', 'V221', 'V234', 'V222', 'V227', 'id-12', 'id-01', 'M5', 'dist1', 'M4', 'M7', 'M8', 'M9', 'D2', 'D5', 'D3', 'M3', 'M2', 'M1', 'D11', 'V5', 'V4', 'V3', 'V6', 'V2', 'V1', 'V7', 'V8', 'V11', 'V9', 'V10', 'M6']\n"
          ]
        }
      ],
      "source": [
        "# Remove columns with >30% missing values\n",
        "columns_to_drop_test = nan_percentage_test[nan_percentage_test > 30].index\n",
        "print(f\"Removing {len(columns_to_drop_test)} columns with >30% missing values:\")\n",
        "print(columns_to_drop_test.tolist())\n",
        "test_data_cleaned = test_merged.drop(columns=columns_to_drop_test)"
      ]
    },
    {
      "cell_type": "markdown",
      "source": [
        "## Removing highly correlated features\n"
      ],
      "metadata": {
        "id": "blXFH8S2xHko"
      }
    },
    {
      "cell_type": "code",
      "source": [
        "# 1. Compute correlation matrix\n",
        "corr_matrix = train_data_cleaned.corr(numeric_only=True).abs()\n",
        "\n",
        "# 2. Create a mask for the upper triangle\n",
        "upper = corr_matrix.where(np.triu(np.ones(corr_matrix.shape), k=1).astype(bool))\n",
        "\n",
        "# 3. Find columns with correlation > 0.95\n",
        "to_drop = [column for column in upper.columns if any(upper[column] > 0.95)]\n",
        "\n",
        "# 4. Drop those columns\n",
        "train_data_cleaned_reduced = train_data_cleaned.drop(columns=to_drop)"
      ],
      "metadata": {
        "id": "Unc50Zk7xKnm"
      },
      "execution_count": 95,
      "outputs": []
    },
    {
      "cell_type": "markdown",
      "metadata": {
        "id": "NZTY_JGloYgP"
      },
      "source": [
        "## Before running PCA: encoding"
      ]
    },
    {
      "cell_type": "code",
      "execution_count": 96,
      "metadata": {
        "id": "JxXUpDqF4zut"
      },
      "outputs": [],
      "source": [
        "# Step 3: Prepare for PCA\n",
        "X = train_data_cleaned_reduced.drop(columns=['isFraud', 'TransactionID'])\n",
        "y = train_data_cleaned_reduced['isFraud']\n"
      ]
    },
    {
      "cell_type": "code",
      "execution_count": 97,
      "metadata": {
        "colab": {
          "base_uri": "https://localhost:8080/"
        },
        "id": "ufSYkGBn41sQ",
        "outputId": "91a544eb-34c8-4423-da0b-eaaf989ffa64"
      },
      "outputs": [
        {
          "output_type": "stream",
          "name": "stdout",
          "text": [
            "\n",
            "Categorical Columns: ['ProductCD', 'card4', 'card6', 'P_emaildomain', 'R_emaildomain', 'M1', 'M2', 'M3', 'M4', 'M5', 'M6', 'M7', 'M8', 'M9', 'id_12', 'id_15', 'id_16', 'id_28', 'id_29', 'id_30', 'id_31', 'id_33', 'id_34', 'id_35', 'id_36', 'id_37', 'id_38', 'DeviceType', 'DeviceInfo']\n"
          ]
        }
      ],
      "source": [
        "##encoding them!\n",
        "print(\"\\nCategorical Columns:\", cat_cols.tolist())\n"
      ]
    },
    {
      "cell_type": "code",
      "source": [
        "print(train_data_cleaned_reduced[['M1', 'M2', 'M3', 'M4', 'M5', 'M6', 'M7', 'M8', 'M9', 'id_12', 'id_15', 'id_16', 'id_28', 'id_29', 'id_30', 'id_31', 'id_33', 'id_34', 'id_35', 'id_36', 'id_37', 'id_38', 'DeviceType', 'DeviceInfo']].head())"
      ],
      "metadata": {
        "id": "V0BuWQvPumOZ",
        "outputId": "8512ecbd-0caa-4f8d-e800-b71a8462b831",
        "colab": {
          "base_uri": "https://localhost:8080/"
        }
      },
      "execution_count": 98,
      "outputs": [
        {
          "output_type": "stream",
          "name": "stdout",
          "text": [
            "  M1 M2 M3  M4 M5 M6 M7 M8 M9     id_12  ...        id_30  \\\n",
            "0  T  T  T  M2  F  T  F  F  T  NotFound  ...   Windows 10   \n",
            "1  T  T  T  M0  T  T  F  F  T  NotFound  ...   Windows 10   \n",
            "2  T  T  T  M0  F  F  F  F  F  NotFound  ...   Windows 10   \n",
            "3  T  T  T  M0  T  F  F  F  T  NotFound  ...   Windows 10   \n",
            "4  T  T  T  M0  F  F  F  F  T  NotFound  ...  Android 7.0   \n",
            "\n",
            "                 id_31      id_33           id_34 id_35 id_36 id_37 id_38  \\\n",
            "0          chrome 63.0  1920x1080  match_status:2     T     F     T     F   \n",
            "1          chrome 63.0  1920x1080  match_status:2     T     F     T     F   \n",
            "2          chrome 63.0  1920x1080  match_status:2     T     F     T     F   \n",
            "3          chrome 63.0  1920x1080  match_status:2     T     F     T     F   \n",
            "4  samsung browser 6.2  2220x1080  match_status:2     T     F     T     T   \n",
            "\n",
            "  DeviceType                     DeviceInfo  \n",
            "0    desktop                        Windows  \n",
            "1    desktop                        Windows  \n",
            "2    desktop                        Windows  \n",
            "3    desktop                        Windows  \n",
            "4     mobile  SAMSUNG SM-G892A Build/NRD90M  \n",
            "\n",
            "[5 rows x 24 columns]\n"
          ]
        }
      ]
    },
    {
      "cell_type": "code",
      "source": [
        "print(train_data_cleaned_reduced['DeviceType'].unique())"
      ],
      "metadata": {
        "id": "j1JrT2gywRm_",
        "outputId": "ff28b267-d54d-4e31-cf1b-dea8aa31ae0b",
        "colab": {
          "base_uri": "https://localhost:8080/"
        }
      },
      "execution_count": 99,
      "outputs": [
        {
          "output_type": "stream",
          "name": "stdout",
          "text": [
            "['desktop' 'mobile']\n"
          ]
        }
      ]
    },
    {
      "cell_type": "code",
      "source": [
        "print(train_data_cleaned_reduced['DeviceInfo'].unique())"
      ],
      "metadata": {
        "id": "AZoTkvyNwe3t",
        "outputId": "011bb455-bdea-44dc-f1d5-c029ea23db69",
        "colab": {
          "base_uri": "https://localhost:8080/"
        }
      },
      "execution_count": 100,
      "outputs": [
        {
          "output_type": "stream",
          "name": "stdout",
          "text": [
            "['Windows' 'SAMSUNG SM-G892A Build/NRD90M' 'iOS Device' ...\n",
            " 'LDN-LX3 Build/HUAWEILDN-LX3' 'Z955A' 'LG-E975']\n"
          ]
        }
      ]
    },
    {
      "cell_type": "code",
      "source": [
        "train_data_cleaned_reduced['DeviceType'] = train_data_cleaned_reduced['DeviceType'].map({'desktop': 1, 'mobile': 0}).fillna(-1).astype(int)"
      ],
      "metadata": {
        "id": "YmYFBr4rwrjV"
      },
      "execution_count": 101,
      "outputs": []
    },
    {
      "cell_type": "code",
      "source": [
        "##if device info windows or iOS 1, else 0\n",
        "train_data_cleaned_reduced['DeviceInfo'] = train_data_cleaned_reduced['DeviceInfo'].str.contains(r'Windows|iOS Device', case=False, na=False).astype(int)"
      ],
      "metadata": {
        "id": "5HAN61L9wxkg"
      },
      "execution_count": 102,
      "outputs": []
    },
    {
      "cell_type": "code",
      "source": [
        "# Replace 'T' with 1 and 'F' with 0 in all string/object columns\n",
        "train_data_cleaned_reduced = train_data_cleaned_reduced.replace({'T': 1, 'F': 0})"
      ],
      "metadata": {
        "id": "ONbYyw95vGBF"
      },
      "execution_count": 103,
      "outputs": []
    },
    {
      "cell_type": "code",
      "source": [
        "print(train_data_cleaned_reduced['M4'].unique())"
      ],
      "metadata": {
        "id": "Np4Gld_xvQPh",
        "outputId": "3144a798-551f-4a6e-8d3b-fc78e1525924",
        "colab": {
          "base_uri": "https://localhost:8080/"
        }
      },
      "execution_count": 104,
      "outputs": [
        {
          "output_type": "stream",
          "name": "stdout",
          "text": [
            "['M2' 'M0' 'M1']\n"
          ]
        }
      ]
    },
    {
      "cell_type": "code",
      "source": [
        "# Define the mapping\n",
        "m4_map = {'M2': 2, 'M0': 0, 'M1': 1}\n",
        "\n",
        "# Apply the mapping\n",
        "train_data_cleaned_reduced['M4'] = train_data_cleaned_reduced['M4'].map(m4_map)"
      ],
      "metadata": {
        "id": "J6UJqNWKvufx"
      },
      "execution_count": 105,
      "outputs": []
    },
    {
      "cell_type": "code",
      "source": [
        "train_data_cleaned_reduced['ProductCD'].unique()"
      ],
      "metadata": {
        "colab": {
          "base_uri": "https://localhost:8080/"
        },
        "id": "NyUFIRGRMsCx",
        "outputId": "17be08ac-950b-4343-9c62-d8626d9312c3"
      },
      "execution_count": 106,
      "outputs": [
        {
          "output_type": "execute_result",
          "data": {
            "text/plain": [
              "array(['W', 'H', 'C', 'S', 'R'], dtype=object)"
            ]
          },
          "metadata": {},
          "execution_count": 106
        }
      ]
    },
    {
      "cell_type": "code",
      "source": [
        "train_data_cleaned_reduced['ProductCD'].value_counts()"
      ],
      "metadata": {
        "colab": {
          "base_uri": "https://localhost:8080/",
          "height": 272
        },
        "id": "-ecP6ZXgVE41",
        "outputId": "83a4b4de-d53b-401e-a16d-1e1f47a3bf88"
      },
      "execution_count": 107,
      "outputs": [
        {
          "output_type": "execute_result",
          "data": {
            "text/plain": [
              "ProductCD\n",
              "W    439670\n",
              "C     68519\n",
              "R     37699\n",
              "H     33024\n",
              "S     11628\n",
              "Name: count, dtype: int64"
            ],
            "text/html": [
              "<div>\n",
              "<style scoped>\n",
              "    .dataframe tbody tr th:only-of-type {\n",
              "        vertical-align: middle;\n",
              "    }\n",
              "\n",
              "    .dataframe tbody tr th {\n",
              "        vertical-align: top;\n",
              "    }\n",
              "\n",
              "    .dataframe thead th {\n",
              "        text-align: right;\n",
              "    }\n",
              "</style>\n",
              "<table border=\"1\" class=\"dataframe\">\n",
              "  <thead>\n",
              "    <tr style=\"text-align: right;\">\n",
              "      <th></th>\n",
              "      <th>count</th>\n",
              "    </tr>\n",
              "    <tr>\n",
              "      <th>ProductCD</th>\n",
              "      <th></th>\n",
              "    </tr>\n",
              "  </thead>\n",
              "  <tbody>\n",
              "    <tr>\n",
              "      <th>W</th>\n",
              "      <td>439670</td>\n",
              "    </tr>\n",
              "    <tr>\n",
              "      <th>C</th>\n",
              "      <td>68519</td>\n",
              "    </tr>\n",
              "    <tr>\n",
              "      <th>R</th>\n",
              "      <td>37699</td>\n",
              "    </tr>\n",
              "    <tr>\n",
              "      <th>H</th>\n",
              "      <td>33024</td>\n",
              "    </tr>\n",
              "    <tr>\n",
              "      <th>S</th>\n",
              "      <td>11628</td>\n",
              "    </tr>\n",
              "  </tbody>\n",
              "</table>\n",
              "</div><br><label><b>dtype:</b> int64</label>"
            ]
          },
          "metadata": {},
          "execution_count": 107
        }
      ]
    },
    {
      "cell_type": "code",
      "source": [
        "## I will encode it\n",
        "# Mapping based on frequency: W > C > R > H > S\n",
        "productcd_mapping = {\n",
        "    'W': 1,\n",
        "    'C': 2,\n",
        "    'R': 3,\n",
        "    'H': 4,\n",
        "    'S': 5\n",
        "}\n",
        "\n",
        "train_data_cleaned_reduced['ProductCD_encoded'] = train_data_cleaned_reduced['ProductCD'].map(productcd_mapping)\n",
        "train_data_cleaned_reduced.drop(columns=['ProductCD'], inplace=True)"
      ],
      "metadata": {
        "id": "5kSlVoqbVM6G"
      },
      "execution_count": 108,
      "outputs": []
    },
    {
      "cell_type": "code",
      "source": [
        "train_data_cleaned_reduced['card4'].unique()"
      ],
      "metadata": {
        "colab": {
          "base_uri": "https://localhost:8080/"
        },
        "id": "vo8y6Qj6Qy1c",
        "outputId": "f397b70d-01ab-4667-dd9d-1564bb0cd6f5"
      },
      "execution_count": 109,
      "outputs": [
        {
          "output_type": "execute_result",
          "data": {
            "text/plain": [
              "array(['discover', 'mastercard', 'visa', 'american express'], dtype=object)"
            ]
          },
          "metadata": {},
          "execution_count": 109
        }
      ]
    },
    {
      "cell_type": "code",
      "source": [
        "train_data_cleaned_reduced['card4'].value_counts()"
      ],
      "metadata": {
        "colab": {
          "base_uri": "https://localhost:8080/",
          "height": 241
        },
        "id": "8bH2LcOLVWs5",
        "outputId": "2d1bbfe6-9518-4233-a0c1-c600877a0990"
      },
      "execution_count": 110,
      "outputs": [
        {
          "output_type": "execute_result",
          "data": {
            "text/plain": [
              "card4\n",
              "visa                386344\n",
              "mastercard          189217\n",
              "american express      8328\n",
              "discover              6651\n",
              "Name: count, dtype: int64"
            ],
            "text/html": [
              "<div>\n",
              "<style scoped>\n",
              "    .dataframe tbody tr th:only-of-type {\n",
              "        vertical-align: middle;\n",
              "    }\n",
              "\n",
              "    .dataframe tbody tr th {\n",
              "        vertical-align: top;\n",
              "    }\n",
              "\n",
              "    .dataframe thead th {\n",
              "        text-align: right;\n",
              "    }\n",
              "</style>\n",
              "<table border=\"1\" class=\"dataframe\">\n",
              "  <thead>\n",
              "    <tr style=\"text-align: right;\">\n",
              "      <th></th>\n",
              "      <th>count</th>\n",
              "    </tr>\n",
              "    <tr>\n",
              "      <th>card4</th>\n",
              "      <th></th>\n",
              "    </tr>\n",
              "  </thead>\n",
              "  <tbody>\n",
              "    <tr>\n",
              "      <th>visa</th>\n",
              "      <td>386344</td>\n",
              "    </tr>\n",
              "    <tr>\n",
              "      <th>mastercard</th>\n",
              "      <td>189217</td>\n",
              "    </tr>\n",
              "    <tr>\n",
              "      <th>american express</th>\n",
              "      <td>8328</td>\n",
              "    </tr>\n",
              "    <tr>\n",
              "      <th>discover</th>\n",
              "      <td>6651</td>\n",
              "    </tr>\n",
              "  </tbody>\n",
              "</table>\n",
              "</div><br><label><b>dtype:</b> int64</label>"
            ]
          },
          "metadata": {},
          "execution_count": 110
        }
      ]
    },
    {
      "cell_type": "code",
      "source": [
        "# Mapping based on frequency: W > C > R > H > S\n",
        "card4_mapping = {\n",
        "    'visa': 1,\n",
        "    'mastercard': 2,\n",
        "    'american express': 3,\n",
        "    'discover': 4,\n",
        "}\n",
        "\n",
        "train_data_cleaned_reduced['card4_encoded'] = train_data_cleaned_reduced['card4'].map(card4_mapping)\n",
        "train_data_cleaned_reduced.drop(columns=['card4'], inplace=True)"
      ],
      "metadata": {
        "id": "W_XWl-m8Va_Y"
      },
      "execution_count": 111,
      "outputs": []
    },
    {
      "cell_type": "code",
      "source": [
        "train_data_cleaned_reduced['card6'].unique()"
      ],
      "metadata": {
        "colab": {
          "base_uri": "https://localhost:8080/"
        },
        "id": "1c3kTer6Q8_H",
        "outputId": "c57602a5-9029-4d98-a018-6fa023c0f973"
      },
      "execution_count": 112,
      "outputs": [
        {
          "output_type": "execute_result",
          "data": {
            "text/plain": [
              "array(['credit', 'debit', 'debit or credit', 'charge card'], dtype=object)"
            ]
          },
          "metadata": {},
          "execution_count": 112
        }
      ]
    },
    {
      "cell_type": "code",
      "source": [
        "train_data_cleaned_reduced['card6'].value_counts()"
      ],
      "metadata": {
        "colab": {
          "base_uri": "https://localhost:8080/",
          "height": 241
        },
        "id": "W-ZMpd81Vr56",
        "outputId": "ea8a8d3c-4b40-40a7-cdea-c03536ba918e"
      },
      "execution_count": 113,
      "outputs": [
        {
          "output_type": "execute_result",
          "data": {
            "text/plain": [
              "card6\n",
              "debit              441509\n",
              "credit             148986\n",
              "debit or credit        30\n",
              "charge card            15\n",
              "Name: count, dtype: int64"
            ],
            "text/html": [
              "<div>\n",
              "<style scoped>\n",
              "    .dataframe tbody tr th:only-of-type {\n",
              "        vertical-align: middle;\n",
              "    }\n",
              "\n",
              "    .dataframe tbody tr th {\n",
              "        vertical-align: top;\n",
              "    }\n",
              "\n",
              "    .dataframe thead th {\n",
              "        text-align: right;\n",
              "    }\n",
              "</style>\n",
              "<table border=\"1\" class=\"dataframe\">\n",
              "  <thead>\n",
              "    <tr style=\"text-align: right;\">\n",
              "      <th></th>\n",
              "      <th>count</th>\n",
              "    </tr>\n",
              "    <tr>\n",
              "      <th>card6</th>\n",
              "      <th></th>\n",
              "    </tr>\n",
              "  </thead>\n",
              "  <tbody>\n",
              "    <tr>\n",
              "      <th>debit</th>\n",
              "      <td>441509</td>\n",
              "    </tr>\n",
              "    <tr>\n",
              "      <th>credit</th>\n",
              "      <td>148986</td>\n",
              "    </tr>\n",
              "    <tr>\n",
              "      <th>debit or credit</th>\n",
              "      <td>30</td>\n",
              "    </tr>\n",
              "    <tr>\n",
              "      <th>charge card</th>\n",
              "      <td>15</td>\n",
              "    </tr>\n",
              "  </tbody>\n",
              "</table>\n",
              "</div><br><label><b>dtype:</b> int64</label>"
            ]
          },
          "metadata": {},
          "execution_count": 113
        }
      ]
    },
    {
      "cell_type": "code",
      "source": [
        "card6_mapping = {\n",
        "    'credit': 1,\n",
        "    'debit': 2,\n",
        "    'charge card': 4,\n",
        "    'debit or credit': 3,\n",
        "}\n",
        "train_data_cleaned_reduced['card6_encoded'] = train_data_cleaned_reduced['card6'].map(card6_mapping)\n",
        "train_data_cleaned_reduced.drop(columns=['card6'], inplace=True)"
      ],
      "metadata": {
        "id": "6ACEYf6ZVx2W"
      },
      "execution_count": 114,
      "outputs": []
    },
    {
      "cell_type": "code",
      "source": [
        "train_data_cleaned_reduced['P_emaildomain'].unique()"
      ],
      "metadata": {
        "colab": {
          "base_uri": "https://localhost:8080/"
        },
        "id": "EpEaODP4RIOX",
        "outputId": "38c6af56-272b-44c2-8b7f-6f72827cd92e"
      },
      "execution_count": 115,
      "outputs": [
        {
          "output_type": "execute_result",
          "data": {
            "text/plain": [
              "array(['gmail.com', 'outlook.com', 'yahoo.com', 'mail.com',\n",
              "       'anonymous.com', 'hotmail.com', 'verizon.net', 'aol.com', 'me.com',\n",
              "       'comcast.net', 'optonline.net', 'cox.net', 'charter.net',\n",
              "       'rocketmail.com', 'prodigy.net.mx', 'embarqmail.com', 'icloud.com',\n",
              "       'live.com.mx', 'gmail', 'live.com', 'att.net', 'juno.com',\n",
              "       'ymail.com', 'sbcglobal.net', 'bellsouth.net', 'msn.com', 'q.com',\n",
              "       'yahoo.com.mx', 'centurylink.net', 'servicios-ta.com',\n",
              "       'earthlink.net', 'hotmail.es', 'cfl.rr.com', 'roadrunner.com',\n",
              "       'netzero.net', 'gmx.de', 'suddenlink.net', 'frontiernet.net',\n",
              "       'windstream.net', 'frontier.com', 'outlook.es', 'mac.com',\n",
              "       'netzero.com', 'aim.com', 'web.de', 'twc.com', 'cableone.net',\n",
              "       'yahoo.fr', 'yahoo.de', 'yahoo.es', 'sc.rr.com', 'ptd.net',\n",
              "       'live.fr', 'yahoo.co.uk', 'hotmail.fr', 'hotmail.de',\n",
              "       'hotmail.co.uk', 'protonmail.com', 'yahoo.co.jp'], dtype=object)"
            ]
          },
          "metadata": {},
          "execution_count": 115
        }
      ]
    },
    {
      "cell_type": "code",
      "source": [
        "train_data_cleaned_reduced['M6'].unique()\n",
        "train_data_cleaned_reduced['M6'] = train_data_cleaned['M6'].map({'F': 0, 'T': 1}) ##creating dummies"
      ],
      "metadata": {
        "id": "1k8oxSfqRT_Q"
      },
      "execution_count": 116,
      "outputs": []
    },
    {
      "cell_type": "code",
      "source": [
        "train_data_cleaned_reduced.isna().sum()"
      ],
      "metadata": {
        "colab": {
          "base_uri": "https://localhost:8080/",
          "height": 458
        },
        "id": "fR9UoP98R-wJ",
        "outputId": "7803fff8-7540-4221-cbb7-9baf84bf605f"
      },
      "execution_count": 117,
      "outputs": [
        {
          "output_type": "execute_result",
          "data": {
            "text/plain": [
              "TransactionID        0\n",
              "isFraud              0\n",
              "TransactionAmt       0\n",
              "card1                0\n",
              "card2                0\n",
              "                    ..\n",
              "DeviceType           0\n",
              "DeviceInfo           0\n",
              "ProductCD_encoded    0\n",
              "card4_encoded        0\n",
              "card6_encoded        0\n",
              "Length: 312, dtype: int64"
            ],
            "text/html": [
              "<div>\n",
              "<style scoped>\n",
              "    .dataframe tbody tr th:only-of-type {\n",
              "        vertical-align: middle;\n",
              "    }\n",
              "\n",
              "    .dataframe tbody tr th {\n",
              "        vertical-align: top;\n",
              "    }\n",
              "\n",
              "    .dataframe thead th {\n",
              "        text-align: right;\n",
              "    }\n",
              "</style>\n",
              "<table border=\"1\" class=\"dataframe\">\n",
              "  <thead>\n",
              "    <tr style=\"text-align: right;\">\n",
              "      <th></th>\n",
              "      <th>0</th>\n",
              "    </tr>\n",
              "  </thead>\n",
              "  <tbody>\n",
              "    <tr>\n",
              "      <th>TransactionID</th>\n",
              "      <td>0</td>\n",
              "    </tr>\n",
              "    <tr>\n",
              "      <th>isFraud</th>\n",
              "      <td>0</td>\n",
              "    </tr>\n",
              "    <tr>\n",
              "      <th>TransactionAmt</th>\n",
              "      <td>0</td>\n",
              "    </tr>\n",
              "    <tr>\n",
              "      <th>card1</th>\n",
              "      <td>0</td>\n",
              "    </tr>\n",
              "    <tr>\n",
              "      <th>card2</th>\n",
              "      <td>0</td>\n",
              "    </tr>\n",
              "    <tr>\n",
              "      <th>...</th>\n",
              "      <td>...</td>\n",
              "    </tr>\n",
              "    <tr>\n",
              "      <th>DeviceType</th>\n",
              "      <td>0</td>\n",
              "    </tr>\n",
              "    <tr>\n",
              "      <th>DeviceInfo</th>\n",
              "      <td>0</td>\n",
              "    </tr>\n",
              "    <tr>\n",
              "      <th>ProductCD_encoded</th>\n",
              "      <td>0</td>\n",
              "    </tr>\n",
              "    <tr>\n",
              "      <th>card4_encoded</th>\n",
              "      <td>0</td>\n",
              "    </tr>\n",
              "    <tr>\n",
              "      <th>card6_encoded</th>\n",
              "      <td>0</td>\n",
              "    </tr>\n",
              "  </tbody>\n",
              "</table>\n",
              "<p>312 rows × 1 columns</p>\n",
              "</div><br><label><b>dtype:</b> int64</label>"
            ]
          },
          "metadata": {},
          "execution_count": 117
        }
      ]
    },
    {
      "cell_type": "code",
      "source": [
        "common_domains = ['gmail.com', 'yahoo.com', 'outlook.com']\n",
        "train_data_cleaned_reduced['R_email_common'] = train_data_cleaned['R_emaildomain'].isin(common_domains).astype(int) ##if email is common, 1, otherwise, 0\n",
        "train_data_cleaned_reduced.drop(columns=['R_emaildomain'], inplace=True)"
      ],
      "metadata": {
        "id": "KzexUns-Up4w"
      },
      "execution_count": 118,
      "outputs": []
    },
    {
      "cell_type": "code",
      "source": [
        "train_data_cleaned_reduced['P_email_common'] = train_data_cleaned['P_emaildomain'].isin(common_domains).astype(int) ##if email is common, 1, otherwise, 0\n",
        "train_data_cleaned_reduced.drop(columns=['P_emaildomain'], inplace=True)"
      ],
      "metadata": {
        "id": "1Sic7IL02Dee"
      },
      "execution_count": 133,
      "outputs": []
    },
    {
      "cell_type": "code",
      "source": [
        "print(train_data_cleaned_reduced['id_12'].unique())\n",
        "train_data_cleaned_reduced['id_12'] = train_data_cleaned_reduced['id_12'].apply(lambda x: 1 if 'Found' else 0)"
      ],
      "metadata": {
        "id": "Hm-fWpjhzFwR",
        "outputId": "ec366e2a-dcb4-41cb-9356-c5593a256f78",
        "colab": {
          "base_uri": "https://localhost:8080/"
        }
      },
      "execution_count": 125,
      "outputs": [
        {
          "output_type": "stream",
          "name": "stdout",
          "text": [
            "['NotFound' 'Found']\n"
          ]
        }
      ]
    },
    {
      "cell_type": "code",
      "source": [
        "print(train_data_cleaned_reduced['id_15'].unique())\n",
        "##imputing them\n",
        "train_data_cleaned_reduced['id_15']= train_data_cleaned_reduced['id_15'].apply(lambda x: 1 if 'Found' else 0)"
      ],
      "metadata": {
        "id": "NBt8SbbIzQva",
        "outputId": "e096f7e7-13ab-4244-c895-ba81a99ee786",
        "colab": {
          "base_uri": "https://localhost:8080/"
        }
      },
      "execution_count": 120,
      "outputs": [
        {
          "output_type": "stream",
          "name": "stdout",
          "text": [
            "['Found' 'New' 'Unknown']\n"
          ]
        }
      ]
    },
    {
      "cell_type": "code",
      "source": [
        "\n",
        "cols_to_check = ['id_16', 'id_28', 'id_29', 'id_30','id_31', 'id_33', 'id_34']  # replace with your actual column names\n",
        "\n",
        "for col in cols_to_check:\n",
        "    train_data_cleaned_reduced[col] = (train_data_cleaned_reduced[col] == 'Found').astype(int)"
      ],
      "metadata": {
        "id": "aHOQH_LhzyQx"
      },
      "execution_count": 131,
      "outputs": []
    },
    {
      "cell_type": "code",
      "source": [
        "non_numeric_cols = train_data_cleaned_reduced.select_dtypes(exclude=['number']).columns\n",
        "print(\"Non-numeric columns:\", non_numeric_cols.tolist())"
      ],
      "metadata": {
        "colab": {
          "base_uri": "https://localhost:8080/"
        },
        "id": "gR67kJrTWBbx",
        "outputId": "589618a2-671d-4362-b183-c2e9dad57a5b"
      },
      "execution_count": 134,
      "outputs": [
        {
          "output_type": "stream",
          "name": "stdout",
          "text": [
            "Non-numeric columns: []\n"
          ]
        }
      ]
    },
    {
      "cell_type": "code",
      "source": [],
      "metadata": {
        "id": "SAdrwvmk2Idq"
      },
      "execution_count": null,
      "outputs": []
    },
    {
      "cell_type": "markdown",
      "source": [
        "awesome! there aren't any! now we can do PCA\n",
        "\n",
        "\n",
        "## Now: PCA"
      ],
      "metadata": {
        "id": "Qkz5N4tkWFZo"
      }
    },
    {
      "cell_type": "code",
      "source": [
        "# Separate target if it exists\n",
        "X = train_data_cleaned_reduced.drop(columns=['isFraud'])\n",
        "y = train_data_cleaned_reduced['isFraud']"
      ],
      "metadata": {
        "id": "ZkXAn76DWQ-w"
      },
      "execution_count": 135,
      "outputs": []
    },
    {
      "cell_type": "code",
      "source": [
        "X.isnull().sum().sort_values(ascending=False).head()"
      ],
      "metadata": {
        "colab": {
          "base_uri": "https://localhost:8080/",
          "height": 241
        },
        "id": "nbgNXLkvWZ7a",
        "outputId": "013beb5b-cfe6-4600-ee35-e50644fa16e4"
      },
      "execution_count": 136,
      "outputs": [
        {
          "output_type": "execute_result",
          "data": {
            "text/plain": [
              "P_email_common    0\n",
              "TransactionID     0\n",
              "TransactionAmt    0\n",
              "card1             0\n",
              "card2             0\n",
              "dtype: int64"
            ],
            "text/html": [
              "<div>\n",
              "<style scoped>\n",
              "    .dataframe tbody tr th:only-of-type {\n",
              "        vertical-align: middle;\n",
              "    }\n",
              "\n",
              "    .dataframe tbody tr th {\n",
              "        vertical-align: top;\n",
              "    }\n",
              "\n",
              "    .dataframe thead th {\n",
              "        text-align: right;\n",
              "    }\n",
              "</style>\n",
              "<table border=\"1\" class=\"dataframe\">\n",
              "  <thead>\n",
              "    <tr style=\"text-align: right;\">\n",
              "      <th></th>\n",
              "      <th>0</th>\n",
              "    </tr>\n",
              "  </thead>\n",
              "  <tbody>\n",
              "    <tr>\n",
              "      <th>P_email_common</th>\n",
              "      <td>0</td>\n",
              "    </tr>\n",
              "    <tr>\n",
              "      <th>TransactionID</th>\n",
              "      <td>0</td>\n",
              "    </tr>\n",
              "    <tr>\n",
              "      <th>TransactionAmt</th>\n",
              "      <td>0</td>\n",
              "    </tr>\n",
              "    <tr>\n",
              "      <th>card1</th>\n",
              "      <td>0</td>\n",
              "    </tr>\n",
              "    <tr>\n",
              "      <th>card2</th>\n",
              "      <td>0</td>\n",
              "    </tr>\n",
              "  </tbody>\n",
              "</table>\n",
              "</div><br><label><b>dtype:</b> int64</label>"
            ]
          },
          "metadata": {},
          "execution_count": 136
        }
      ]
    },
    {
      "cell_type": "code",
      "source": [
        "scaler = StandardScaler()\n",
        "X_scaled = scaler.fit_transform(X)"
      ],
      "metadata": {
        "id": "EbI9HmlHZ92E"
      },
      "execution_count": 137,
      "outputs": []
    },
    {
      "cell_type": "code",
      "source": [
        "pca = PCA(n_components=0.95)  # Keep enough components to explain 95% variance\n",
        "X_pca = pca.fit_transform(X_scaled)"
      ],
      "metadata": {
        "id": "0hLD7U7PaKhP"
      },
      "execution_count": 138,
      "outputs": []
    },
    {
      "cell_type": "code",
      "source": [
        "plt.figure(figsize=(10,5))\n",
        "plt.plot(np.cumsum(pca.explained_variance_ratio_))\n",
        "plt.xlabel('Number of Components')\n",
        "plt.ylabel('Cumulative Explained Variance')\n",
        "plt.title('Explained Variance by PCA Components')\n",
        "plt.grid(True)\n",
        "plt.show()"
      ],
      "metadata": {
        "colab": {
          "base_uri": "https://localhost:8080/",
          "height": 487
        },
        "id": "RT4HkCaqaRLT",
        "outputId": "0526775c-f16b-4346-9ba8-1f78db5abf7a"
      },
      "execution_count": 139,
      "outputs": [
        {
          "output_type": "display_data",
          "data": {
            "text/plain": [
              "<Figure size 1000x500 with 1 Axes>"
            ],
            "image/png": "[encoded data removed]"
          },
          "metadata": {}
        }
      ]
    },
    {
      "cell_type": "code",
      "source": [
        "plt.figure(figsize=(10, 6))\n",
        "plt.plot(range(1, len(pca.explained_variance_ratio_) + 1),\n",
        "         pca.explained_variance_ratio_.cumsum(), marker='o')\n",
        "plt.title('Cumulative Explained Variance')\n",
        "plt.xlabel('Number of Principal Components')\n",
        "plt.ylabel('Cumulative Explained Variance')\n",
        "plt.grid(True)\n",
        "plt.show()"
      ],
      "metadata": {
        "colab": {
          "base_uri": "https://localhost:8080/",
          "height": 564
        },
        "id": "7alUy9I_afyu",
        "outputId": "042308ed-cc83-4e13-c439-5ef547fcceb0"
      },
      "execution_count": 140,
      "outputs": [
        {
          "output_type": "display_data",
          "data": {
            "text/plain": [
              "<Figure size 1000x600 with 1 Axes>"
            ],
            "image/png": "[encoded data removed]"
          },
          "metadata": {}
        }
      ]
    },
    {
      "cell_type": "code",
      "source": [
        "\n",
        "\n",
        "# Number of components\n",
        "n_components = len(pca.explained_variance_ratio_)\n",
        "\n",
        "# Plot\n",
        "plt.figure(figsize=(12, 6))\n",
        "plt.plot(range(1, n_components + 1), pca.explained_variance_ratio_, marker='o', linestyle='--')\n",
        "plt.title('Explained Variance by Each Principal Component')\n",
        "plt.xlabel('Principal Component')\n",
        "plt.ylabel('Explained Variance Ratio')\n",
        "\n",
        "# Set x-ticks to show all component numbers\n",
        "plt.xticks(np.arange(0, n_components + 5, 5), rotation=90)\n",
        "\n",
        "plt.grid(True)\n",
        "plt.show()\n",
        "plt.tight_layout()\n",
        "plt.show()"
      ],
      "metadata": {
        "colab": {
          "base_uri": "https://localhost:8080/",
          "height": 595
        },
        "id": "mrjCo1lfanNd",
        "outputId": "9d1084e3-1799-46ff-b761-08143e0a92cc"
      },
      "execution_count": 141,
      "outputs": [
        {
          "output_type": "display_data",
          "data": {
            "text/plain": [
              "<Figure size 1200x600 with 1 Axes>"
            ],
            "image/png": "[encoded data removed]"
          },
          "metadata": {}
        },
        {
          "output_type": "display_data",
          "data": {
            "text/plain": [
              "<Figure size 640x480 with 0 Axes>"
            ]
          },
          "metadata": {}
        }
      ]
    },
    {
      "cell_type": "code",
      "source": [
        "# Assuming `pca` is your fitted PCA object\n",
        "explained_variance_ratio = pca.explained_variance_ratio_\n",
        "# Cumulative variance\n",
        "cumulative_variance = np.cumsum(explained_variance_ratio)\n",
        "\n",
        "# Print cumulative variance explained by first 6 PCs\n",
        "print(f\"Cumulative variance explained by first 6 PCs: {cumulative_variance[5]:.4f}\")\n"
      ],
      "metadata": {
        "colab": {
          "base_uri": "https://localhost:8080/"
        },
        "id": "gJ5-Pz3cc3Gu",
        "outputId": "e992bf4e-574f-4e52-c1e3-c2594305dea4"
      },
      "execution_count": 142,
      "outputs": [
        {
          "output_type": "stream",
          "name": "stdout",
          "text": [
            "Cumulative variance explained by first 6 PCs: 0.2998\n"
          ]
        }
      ]
    },
    {
      "cell_type": "code",
      "source": [
        "##I want to see loadings\n",
        "pc_loadings = pd.DataFrame(\n",
        "    pca.components_[:6],  # First 6 components\n",
        "    columns=X.columns,\n",
        "    index=[f'PC{i+1}' for i in range(6)]\n",
        ")\n",
        "\n",
        "# Display all loadings (not truncated)\n",
        "pd.set_option('display.max_columns', None)\n",
        "print(pc_loadings)"
      ],
      "metadata": {
        "colab": {
          "base_uri": "https://localhost:8080/"
        },
        "collapsed": true,
        "id": "yEOo1blscCRh",
        "outputId": "0a3bc6d7-865e-4c35-c0ae-37f74e2c1c15"
      },
      "execution_count": 143,
      "outputs": [
        {
          "output_type": "stream",
          "name": "stdout",
          "text": [
            "     TransactionID  TransactionAmt     card1     card2     card3     card5  \\\n",
            "PC1      -0.011925       -0.027368  0.001631  0.015797  0.138952 -0.035466   \n",
            "PC2       0.018563        0.013226  0.009020  0.003470 -0.024777 -0.015674   \n",
            "PC3       0.003485        0.009526 -0.005784 -0.010321 -0.016442  0.011971   \n",
            "PC4      -0.020588       -0.005833 -0.001612  0.004952  0.009069  0.003116   \n",
            "PC5      -0.002328        0.006905 -0.004477 -0.001256  0.005009  0.003536   \n",
            "PC6      -0.005902        0.031602 -0.000934  0.005548 -0.005739 -0.001110   \n",
            "\n",
            "        addr1     addr2     dist1        C1        C3        C5        C7  \\\n",
            "PC1  0.002015 -0.031855  0.000320  0.016577  0.002754 -0.023903  0.021907   \n",
            "PC2  0.002378  0.005623  0.000709  0.003526  0.005316  0.002698 -0.003587   \n",
            "PC3 -0.001698  0.004124  0.000832  0.000869 -0.007272  0.006661 -0.003653   \n",
            "PC4  0.004110  0.000039 -0.006268 -0.012606  0.017091 -0.002505 -0.001361   \n",
            "PC5 -0.002121  0.000420  0.002962  0.002891  0.017761 -0.002623  0.001767   \n",
            "PC6 -0.000993  0.000664  0.008612 -0.008188  0.001027 -0.029751 -0.004922   \n",
            "\n",
            "           C9       C13        D1        D2        D3        D4        D5  \\\n",
            "PC1 -0.028598 -0.006703 -0.037466 -0.017410  0.000511 -0.037894 -0.004156   \n",
            "PC2  0.003826  0.008790  0.005736 -0.014220 -0.015958  0.005973 -0.011914   \n",
            "PC3  0.008050 -0.001896 -0.004557 -0.007118 -0.001786 -0.005102 -0.015353   \n",
            "PC4 -0.005870 -0.011649  0.016009  0.049414  0.033602  0.016109  0.039730   \n",
            "PC5 -0.001156  0.004999 -0.000967 -0.034146 -0.024687 -0.005040 -0.014444   \n",
            "PC6 -0.030404 -0.031598 -0.094804 -0.090955 -0.035898 -0.070708 -0.019297   \n",
            "\n",
            "           D6        D8        D9       D10       D11       D12       D13  \\\n",
            "PC1 -0.015809 -0.025588 -0.010356 -0.047629 -0.001506 -0.004880 -0.011780   \n",
            "PC2  0.031847 -0.014282  0.004683  0.015082  0.001435  0.000100  0.002459   \n",
            "PC3 -0.037775 -0.025103 -0.001439 -0.005177 -0.006397 -0.013286 -0.027064   \n",
            "PC4  0.010829  0.021963  0.006095  0.010836  0.015545  0.011514  0.016763   \n",
            "PC5  0.005328  0.017120  0.002583 -0.008210 -0.005887  0.006199  0.022283   \n",
            "PC6 -0.053015 -0.015412  0.004380 -0.076359 -0.064908 -0.024628 -0.036673   \n",
            "\n",
            "          D14       D15        M1        M2        M3        M4        M5  \\\n",
            "PC1 -0.006397 -0.047792  0.000710  0.024735  0.035768  0.137094 -0.037970   \n",
            "PC2  0.030977  0.009112  0.000034 -0.003914 -0.004812 -0.023226  0.008230   \n",
            "PC3 -0.026016 -0.004289 -0.000348 -0.009447 -0.012872 -0.017554  0.012878   \n",
            "PC4  0.004448  0.015725  0.000040  0.017006  0.018365 -0.003090 -0.034089   \n",
            "PC5  0.001005 -0.006939  0.000242 -0.004252 -0.003894  0.016267  0.020506   \n",
            "PC6 -0.041722 -0.085818 -0.000042 -0.006391 -0.003754  0.006822  0.018527   \n",
            "\n",
            "           M6        M7        M8        M9        V1        V2        V3  \\\n",
            "PC1 -0.064102 -0.024622 -0.042508  0.025725 -0.000027  0.002406  0.003131   \n",
            "PC2  0.008131  0.002967  0.003748 -0.002737  0.000181  0.002244  0.003389   \n",
            "PC3  0.018884  0.007820  0.013850 -0.010426  0.000580  0.005977  0.006324   \n",
            "PC4 -0.015995 -0.006371 -0.007774  0.014623 -0.001852 -0.024559 -0.030135   \n",
            "PC5  0.002702  0.000519 -0.002049 -0.002428  0.000320  0.006725  0.010425   \n",
            "PC6 -0.022707 -0.006785 -0.009329 -0.009266  0.000784  0.021808  0.023115   \n",
            "\n",
            "           V4        V5        V6        V7        V8        V9       V10  \\\n",
            "PC1  0.000861  0.001447  0.002250  0.002777  0.000739  0.001169 -0.008295   \n",
            "PC2 -0.000739  0.000509  0.003165  0.003964  0.001621  0.002396 -0.003469   \n",
            "PC3  0.005820  0.006135  0.007996  0.008811  0.003819  0.004160  0.001329   \n",
            "PC4 -0.020700 -0.026361 -0.028174 -0.032837 -0.019493 -0.023401  0.025861   \n",
            "PC5  0.009623  0.012690 -0.002232 -0.001983  0.004333  0.006525 -0.021069   \n",
            "PC6  0.042795  0.043830 -0.001301 -0.005073  0.015069  0.016081 -0.030288   \n",
            "\n",
            "          V12       V13       V14       V15       V17       V19       V20  \\\n",
            "PC1 -0.094295 -0.096162  0.000511  0.178828  0.174347  0.026049  0.020706   \n",
            "PC2  0.006023  0.007528  0.002703 -0.031818 -0.004701 -0.023143 -0.020134   \n",
            "PC3  0.029323  0.029745  0.007558 -0.022142 -0.038201  0.015557  0.015979   \n",
            "PC4 -0.035211 -0.040688 -0.011478  0.011192  0.008227 -0.017400 -0.023424   \n",
            "PC5  0.006508  0.009875 -0.000613  0.009418  0.003898  0.013732  0.016660   \n",
            "PC6  0.046041  0.046240  0.002740  0.012795 -0.014046  0.057649  0.056650   \n",
            "\n",
            "          V23       V24       V25       V26       V27       V29       V31  \\\n",
            "PC1  0.026742  0.019294  0.004016  0.003539  0.004598 -0.066496  0.178929   \n",
            "PC2  0.008911  0.009442  0.002645  0.003074  0.009014 -0.001885 -0.005245   \n",
            "PC3  0.047435  0.042508  0.006566  0.006884 -0.009580  0.015741 -0.042041   \n",
            "PC4 -0.068455 -0.068847 -0.016866 -0.021008  0.020169  0.022634  0.013822   \n",
            "PC5 -0.036034 -0.029239  0.006144  0.008036  0.024433 -0.025410  0.010064   \n",
            "PC6 -0.085023 -0.077037  0.012474  0.012995  0.005478 -0.031880  0.000050   \n",
            "\n",
            "          V35       V36       V37       V38       V39       V40       V41  \\\n",
            "PC1 -0.096338 -0.097860  0.075780  0.079035  0.167283  0.161711  0.001577   \n",
            "PC2  0.017127  0.018900  0.013666  0.012234 -0.023033 -0.021649  0.002708   \n",
            "PC3  0.023393  0.023691  0.095273  0.087782 -0.014755 -0.011893  0.008663   \n",
            "PC4 -0.035673 -0.041077 -0.074186 -0.074733  0.004026  0.000275 -0.012674   \n",
            "PC5  0.004621  0.008043 -0.014568 -0.011797  0.003486  0.002438 -0.000193   \n",
            "PC6  0.039054  0.039156  0.001103  0.000417 -0.003911 -0.007209  0.003556   \n",
            "\n",
            "          V42       V44       V45       V46       V47       V48       V50  \\\n",
            "PC1  0.177085  0.054974  0.056394  0.032368  0.035643 -0.070009  0.179300   \n",
            "PC2 -0.026844  0.017242  0.017012  0.006451  0.006032  0.006414 -0.027582   \n",
            "PC3 -0.025806  0.112736  0.110208  0.040932  0.037551  0.012086 -0.028615   \n",
            "PC4  0.012288 -0.086473 -0.089908 -0.039531 -0.040734  0.018975  0.018192   \n",
            "PC5  0.006998 -0.048004 -0.047133 -0.008823 -0.005958 -0.024014  0.009288   \n",
            "PC6  0.006373 -0.060101 -0.064126 -0.011102 -0.012293 -0.032642  0.007111   \n",
            "\n",
            "          V51       V53       V54       V55       V56       V57       V59  \\\n",
            "PC1  0.174437 -0.095877 -0.097659  0.065258  0.061592  0.179167  0.175889   \n",
            "PC2 -0.023621  0.007741  0.009512  0.003467  0.002836 -0.031443 -0.006546   \n",
            "PC3 -0.009640  0.030225  0.030576  0.027796  0.024050 -0.022685 -0.040155   \n",
            "PC4 -0.000865 -0.037745 -0.044347 -0.045711 -0.043294  0.010171  0.009304   \n",
            "PC5  0.005585  0.009050  0.014439  0.029422  0.028352  0.012429  0.011418   \n",
            "PC6  0.002397  0.049230  0.052257  0.057883  0.052603  0.016798  0.004816   \n",
            "\n",
            "          V61       V62       V63       V64       V65       V66       V67  \\\n",
            "PC1  0.029907  0.028637  0.178946  0.171931  0.000890  0.019712  0.025032   \n",
            "PC2 -0.020661 -0.017044 -0.005939 -0.006357  0.002271  0.002108  0.002490   \n",
            "PC3  0.016012  0.018248 -0.043646 -0.040769  0.006658  0.010404  0.011790   \n",
            "PC4 -0.024358 -0.033128  0.009612  0.005557 -0.010105 -0.024042 -0.031071   \n",
            "PC5  0.020423  0.025461  0.011192  0.013649  0.000103  0.011301  0.016161   \n",
            "PC6  0.063947  0.067761  0.002779  0.004234  0.004793  0.025305  0.030241   \n",
            "\n",
            "          V68       V69       V71       V73       V75       V76       V77  \\\n",
            "PC1  0.004334 -0.066440  0.180814  0.172619 -0.092553 -0.094615  0.078569   \n",
            "PC2  0.009860 -0.001286 -0.006618 -0.029246  0.014591  0.016394  0.011591   \n",
            "PC3 -0.009550  0.016224 -0.040724 -0.019525  0.025263  0.025846  0.084003   \n",
            "PC4  0.017422  0.022135  0.010547  0.003816 -0.038531 -0.044449 -0.071801   \n",
            "PC5  0.028007 -0.024852  0.012139  0.015595  0.003544  0.007148 -0.005999   \n",
            "PC6  0.008349 -0.031273  0.004389  0.023565  0.048986  0.049535  0.019467   \n",
            "\n",
            "          V78       V79       V80       V82       V83       V84       V85  \\\n",
            "PC1  0.076534  0.176794  0.171491  0.034874  0.032612  0.178486  0.171114   \n",
            "PC2  0.010475 -0.025998 -0.021509 -0.008137 -0.005162 -0.023535 -0.020588   \n",
            "PC3  0.069040 -0.012867 -0.024184  0.012917  0.016195 -0.032186 -0.028187   \n",
            "PC4 -0.066433  0.002054  0.009535 -0.024537 -0.033011  0.016118  0.009317   \n",
            "PC5 -0.000093  0.007052  0.010964  0.006678  0.010792  0.014744  0.016650   \n",
            "PC6  0.019028  0.012188 -0.003445  0.056453  0.057000  0.004594  0.003931   \n",
            "\n",
            "          V86       V87       V88       V89       V90       V92       V95  \\\n",
            "PC1  0.058983  0.055426  0.000822  0.004917 -0.068751  0.180536  0.016396   \n",
            "PC2  0.014915  0.014318  0.002804  0.010703  0.004208 -0.022844  0.136476   \n",
            "PC3  0.102420  0.094050  0.008870 -0.008633  0.012968 -0.026126 -0.086739   \n",
            "PC4 -0.084503 -0.084808 -0.012821  0.021098  0.022386  0.014204 -0.055631   \n",
            "PC5 -0.042619 -0.038500 -0.000187  0.031165 -0.028583  0.014582 -0.049427   \n",
            "PC6 -0.052732 -0.052791  0.003561  0.005846 -0.035066  0.004792 -0.049626   \n",
            "\n",
            "          V96       V98       V99      V100      V104      V105      V107  \\\n",
            "PC1  0.015158 -0.008628 -0.016079 -0.010332  0.018038  0.017379  0.004113   \n",
            "PC2  0.146314  0.048789  0.096220  0.102162  0.157292  0.158025  0.001107   \n",
            "PC3 -0.097490 -0.008904 -0.051077 -0.049843 -0.063223 -0.095100  0.006361   \n",
            "PC4 -0.073382 -0.058280 -0.071769 -0.082744 -0.009044 -0.058263 -0.022219   \n",
            "PC5 -0.048073  0.077504  0.031681  0.046303 -0.062868 -0.052149 -0.012377   \n",
            "PC6 -0.054330  0.012323 -0.059875 -0.039895 -0.017917 -0.049855 -0.046035   \n",
            "\n",
            "         V108      V109      V110      V111      V112      V113      V114  \\\n",
            "PC1  0.020514  0.007095  0.015263  0.028625  0.021688  0.026743  0.022989   \n",
            "PC2  0.009437  0.010461  0.010678  0.007668  0.008209  0.008281  0.011445   \n",
            "PC3  0.040387  0.030926  0.037076  0.044252  0.038945  0.043014  0.042665   \n",
            "PC4 -0.079530 -0.072137 -0.080997 -0.075691 -0.070481 -0.076244 -0.084500   \n",
            "PC5 -0.040192 -0.027585 -0.035763 -0.043126 -0.036741 -0.041613 -0.042834   \n",
            "PC6 -0.129988 -0.108654 -0.127080 -0.128967 -0.116946 -0.128888 -0.131946   \n",
            "\n",
            "         V115      V116      V117      V118      V119      V120      V121  \\\n",
            "PC1  0.004298  0.015872  0.013686  0.009516  0.012710  0.005919 -0.000269   \n",
            "PC2  0.013574  0.013387  0.004128  0.004409  0.004522  0.004817  0.005423   \n",
            "PC3  0.031157  0.038303  0.021928  0.019236  0.021892  0.017263  0.013307   \n",
            "PC4 -0.078624 -0.087185 -0.045532 -0.040106 -0.046119 -0.042728 -0.037055   \n",
            "PC5 -0.026192 -0.036560 -0.025539 -0.020008 -0.024707 -0.022662 -0.015094   \n",
            "PC6 -0.112217 -0.130531 -0.084920 -0.069863 -0.084425 -0.077612 -0.062399   \n",
            "\n",
            "         V122      V123      V124      V125      V129      V130      V131  \\\n",
            "PC1  0.004027  0.029300  0.012590  0.025632 -0.002198 -0.016564 -0.007434   \n",
            "PC2  0.005763  0.034800  0.074488  0.072763  0.046585  0.090138  0.087044   \n",
            "PC3  0.016348  0.050345  0.002707  0.015497 -0.000321 -0.034920 -0.025924   \n",
            "PC4 -0.044034 -0.062258 -0.092021 -0.089372 -0.045451 -0.071108 -0.077235   \n",
            "PC5 -0.020475 -0.049748 -0.045671 -0.053903  0.225838  0.117307  0.185598   \n",
            "PC6 -0.078044 -0.105648 -0.109129 -0.115822  0.047692 -0.012549  0.017079   \n",
            "\n",
            "         V135      V136      V137      V138      V139      V140      V141  \\\n",
            "PC1  0.006807  0.014264  0.012303  0.004233  0.004734  0.005194  0.004054   \n",
            "PC2  0.087254  0.152765  0.133220  0.020016  0.016398  0.018624  0.015889   \n",
            "PC3 -0.030500 -0.080934 -0.060111  0.028888  0.080342  0.079612  0.022154   \n",
            "PC4  0.079404  0.009601  0.050050 -0.019308 -0.005707 -0.007091 -0.023709   \n",
            "PC5 -0.068406 -0.071679 -0.074420  0.030117 -0.038959 -0.036798  0.035306   \n",
            "PC6  0.077439  0.018903  0.047311  0.073995  0.154209  0.153999  0.062253   \n",
            "\n",
            "         V142      V144      V146      V147      V148      V152      V157  \\\n",
            "PC1  0.004074 -0.000123  0.006124  0.006132 -0.001325 -0.003561  0.000298   \n",
            "PC2  0.014720  0.017064  0.034565  0.034921 -0.018408 -0.010567 -0.008845   \n",
            "PC3  0.016920 -0.019098  0.072480  0.072095  0.086555 -0.012991  0.092543   \n",
            "PC4 -0.022469  0.003059  0.009064  0.008911 -0.000205  0.004123 -0.005405   \n",
            "PC5  0.032743 -0.017951 -0.077164 -0.075097 -0.035649 -0.006794 -0.039176   \n",
            "PC6  0.051174 -0.023734  0.150479  0.148965  0.116978 -0.028911  0.125992   \n",
            "\n",
            "         V161      V162      V165      V166      V169      V170      V171  \\\n",
            "PC1  0.004166  0.004459  0.011914  0.003405  0.033454  0.039431  0.038186   \n",
            "PC2  0.023088  0.023680  0.126075  0.056627  0.024703  0.039943  0.121721   \n",
            "PC3  0.026846  0.024012 -0.088549 -0.025172  0.077105  0.157234  0.088244   \n",
            "PC4 -0.017972 -0.020415 -0.061300  0.075957 -0.071278 -0.096493 -0.099262   \n",
            "PC5  0.051468  0.054530 -0.047941 -0.061810  0.027516 -0.058844 -0.069472   \n",
            "PC6  0.074038  0.069560 -0.058387  0.052121  0.051952  0.048527  0.010597   \n",
            "\n",
            "         V172      V173      V174      V175      V176      V180      V181  \\\n",
            "PC1  0.006403  0.020574  0.028570  0.017471  0.031552  0.002895  0.006324   \n",
            "PC2  0.045506  0.023094  0.065753  0.146139  0.040888  0.154790  0.166894   \n",
            "PC3  0.012373  0.032471  0.022623 -0.044814  0.108456 -0.074180 -0.031457   \n",
            "PC4 -0.068913 -0.057100 -0.067074 -0.059104 -0.095932 -0.069930 -0.022937   \n",
            "PC5  0.043305  0.068806  0.045165 -0.004885 -0.006178 -0.044159 -0.073096   \n",
            "PC6  0.017487  0.042288  0.031484 -0.025918  0.022107 -0.033852  0.010137   \n",
            "\n",
            "         V183      V184      V185      V186      V187      V188      V189  \\\n",
            "PC1  0.005659  0.001811  0.004668  0.011486 -0.002873  0.029816  0.028544   \n",
            "PC2  0.170846  0.041701  0.109174  0.035734  0.029283  0.019356  0.023971   \n",
            "PC3 -0.060847  0.079568  0.043720  0.071316  0.009606  0.139364  0.139844   \n",
            "PC4 -0.041926 -0.003223 -0.017326 -0.080467 -0.054173 -0.073580 -0.072913   \n",
            "PC5 -0.054542 -0.084753 -0.097082 -0.008108  0.011505 -0.071420 -0.073680   \n",
            "PC6 -0.024947  0.130544  0.098607  0.005797  0.005924  0.014052  0.024074   \n",
            "\n",
            "         V190      V191      V194      V195      V197      V198      V200  \\\n",
            "PC1  0.021929 -0.002159  0.004022  0.004027  0.000209  0.000506  0.035664   \n",
            "PC2  0.038181  0.031599  0.005090  0.013248  0.009026  0.017231  0.025503   \n",
            "PC3  0.104447  0.029532  0.077670  0.083494  0.079841  0.078755  0.154431   \n",
            "PC4 -0.096030 -0.055365 -0.015556 -0.020352 -0.011549 -0.017641 -0.094943   \n",
            "PC5 -0.021134  0.004798 -0.066683 -0.069293 -0.066934 -0.064061 -0.074466   \n",
            "PC6 -0.004589  0.022500  0.074894  0.083592  0.092306  0.090605 -0.016316   \n",
            "\n",
            "         V201      V203      V205      V206      V207      V208      V209  \\\n",
            "PC1  0.035437  0.003283 -0.000181  0.001376 -0.002421  0.007405  0.004245   \n",
            "PC2  0.028475  0.144321  0.051304  0.037296  0.048506  0.054489  0.130034   \n",
            "PC3  0.155634 -0.079710  0.007689  0.006367 -0.001922  0.026193 -0.050470   \n",
            "PC4 -0.095100 -0.081932 -0.057192 -0.032333 -0.062364 -0.037974 -0.074507   \n",
            "PC5 -0.076162 -0.034234  0.182811  0.224476  0.066965  0.077757 -0.002798   \n",
            "PC6 -0.009404 -0.033503  0.041134  0.042515  0.013270  0.066807 -0.014784   \n",
            "\n",
            "         V210      V214      V215      V216      V217      V218      V220  \\\n",
            "PC1  0.008121  0.002186  0.000402  0.002365  0.016255  0.016436  0.033450   \n",
            "PC2  0.115848  0.094038  0.136544  0.131295  0.098997  0.107858  0.022258   \n",
            "PC3 -0.013338 -0.021549 -0.052769 -0.040214  0.036505  0.063086  0.082156   \n",
            "PC4 -0.049460  0.095757  0.000591  0.062910  0.083225  0.133637 -0.050752   \n",
            "PC5  0.036063 -0.078866 -0.056145 -0.076967 -0.004539  0.028959  0.028900   \n",
            "PC6  0.027517  0.096146  0.036667  0.071299 -0.038621 -0.075879  0.037664   \n",
            "\n",
            "         V221      V223      V224      V226      V227      V228      V229  \\\n",
            "PC1  0.020561  0.029195  0.010377  0.003207  0.004737  0.054247  0.028332   \n",
            "PC2  0.018728  0.055987  0.066066  0.108637  0.006573  0.040929  0.047595   \n",
            "PC3  0.113907  0.092527  0.097529  0.007088  0.037865  0.170953  0.156132   \n",
            "PC4 -0.049887  0.056382  0.162081  0.119609 -0.018579 -0.046229  0.118783   \n",
            "PC5 -0.035141  0.105400  0.095758 -0.001843 -0.000010 -0.010380  0.072113   \n",
            "PC6  0.077802 -0.026632 -0.109470  0.051895  0.051940 -0.007840 -0.096368   \n",
            "\n",
            "         V230      V234      V235      V236      V238      V239      V240  \\\n",
            "PC1  0.045333 -0.005404  0.008220  0.009498  0.004016  0.004117  0.002816   \n",
            "PC2  0.050772  0.111546  0.104600  0.112745  0.040223  0.041550  0.000836   \n",
            "PC3  0.184685 -0.038399  0.058998  0.061696  0.088644  0.091545  0.003406   \n",
            "PC4  0.053233 -0.046592  0.080906  0.139441  0.001052  0.003831  0.008002   \n",
            "PC5  0.041135 -0.015141 -0.049748  0.009596 -0.079076 -0.077852  0.004710   \n",
            "PC6 -0.065620 -0.032091  0.048020 -0.035777  0.132222  0.129997 -0.007545   \n",
            "\n",
            "         V241      V242      V243      V245      V246      V247      V248  \\\n",
            "PC1  0.001575  0.036765  0.024991  0.005823  0.044454  0.010023  0.008940   \n",
            "PC2  0.000946  0.040038  0.046633 -0.000089  0.038419  0.037905  0.041539   \n",
            "PC3  0.003757  0.177423  0.165908  0.075299  0.184294  0.133951  0.125453   \n",
            "PC4  0.006667  0.001088  0.110089 -0.028020 -0.039243  0.088183  0.150465   \n",
            "PC5  0.003725 -0.017405  0.051796 -0.030965 -0.032830  0.012703  0.070662   \n",
            "PC6 -0.006935 -0.054441 -0.100340  0.058639 -0.053401 -0.025898 -0.086577   \n",
            "\n",
            "         V250      V252      V255      V257      V258      V259      V260  \\\n",
            "PC1 -0.014193  0.004675 -0.008193  0.044753  0.036689  0.014688 -0.000998   \n",
            "PC2 -0.025595  0.039879 -0.009870  0.044014  0.053103  0.007326  0.039896   \n",
            "PC3  0.066833  0.130816  0.061539  0.178873  0.188353  0.104184  0.069816   \n",
            "PC4 -0.007629  0.099630 -0.009224 -0.046923  0.060073 -0.045086  0.040135   \n",
            "PC5 -0.040072  0.018734 -0.031224 -0.042139  0.022330 -0.040743  0.015250   \n",
            "PC6  0.091267 -0.011724  0.088299 -0.066063 -0.108490  0.046596 -0.034981   \n",
            "\n",
            "         V261      V262      V263      V264      V265      V266      V267  \\\n",
            "PC1  0.010380  0.007801  0.009331  0.010775  0.010398  0.004015  0.007318   \n",
            "PC2  0.065735  0.055355  0.116418  0.108140  0.120905  0.048674  0.060374   \n",
            "PC3  0.107901  0.107929  0.019746  0.085706  0.047362  0.026089  0.098912   \n",
            "PC4  0.153608  0.112651  0.137866  0.203060  0.171320  0.000244  0.147163   \n",
            "PC5  0.076005  0.057479  0.003892  0.069904  0.033055  0.237421  0.162568   \n",
            "PC6 -0.112113 -0.088659  0.042805 -0.049712  0.004010  0.035301 -0.081154   \n",
            "\n",
            "         V268      V270      V271      V274      V275      V276      V277  \\\n",
            "PC1  0.007164  0.005519  0.004617  0.011888  0.010588  0.002870  0.005830   \n",
            "PC2  0.066035  0.029301  0.031436  0.101552  0.099702  0.076506  0.098264   \n",
            "PC3  0.081007  0.047520  0.044547  0.072963  0.037347 -0.001453  0.043089   \n",
            "PC4  0.103582 -0.018541 -0.017664  0.160245  0.113980  0.134887  0.196528   \n",
            "PC5  0.219489  0.061285  0.066881  0.050955  0.019441 -0.071658 -0.022646   \n",
            "PC6 -0.039314  0.082532  0.075443 -0.073719 -0.038511  0.106562  0.046664   \n",
            "\n",
            "         V278      V281      V282      V283      V284      V285      V286  \\\n",
            "PC1  0.004448  0.030992  0.053068  0.035464  0.012809 -0.014313  0.022075   \n",
            "PC2  0.092957  0.014530  0.016631  0.016272  0.042489  0.081626  0.012802   \n",
            "PC3  0.015311  0.024704  0.027427  0.023808 -0.002969 -0.043501  0.008242   \n",
            "PC4  0.165822 -0.065134 -0.043520 -0.055153 -0.067721 -0.068544 -0.040829   \n",
            "PC5 -0.054568  0.061732  0.016295  0.030768  0.092428  0.042806  0.074264   \n",
            "PC6  0.083028  0.089299  0.149355  0.120882  0.039950 -0.042372  0.044272   \n",
            "\n",
            "         V287      V288      V289      V290      V291      V294      V297  \\\n",
            "PC1 -0.002791  0.003860 -0.001267  0.040563  0.010241  0.018887  0.019425   \n",
            "PC2  0.088744  0.033550  0.029891  0.010365  0.003336  0.129966  0.150939   \n",
            "PC3 -0.041615  0.005669  0.005986  0.017260 -0.002075 -0.088699 -0.066758   \n",
            "PC4 -0.083497 -0.073204 -0.072953 -0.028438 -0.007325 -0.067448 -0.015450   \n",
            "PC5  0.061699  0.065733  0.065950  0.018582  0.001423 -0.045856 -0.061393   \n",
            "PC6 -0.016065  0.080534  0.076899  0.040350  0.003655 -0.044570  0.002637   \n",
            "\n",
            "         V300      V301      V302      V303          V305      V309      V310  \\\n",
            "PC1  0.010912  0.009478  0.147384  0.135306 -2.116082e-04 -0.000551 -0.019648   \n",
            "PC2  0.029444  0.029025  0.001556  0.033585  3.242965e-07  0.045552  0.081449   \n",
            "PC3  0.017744  0.016675 -0.049065 -0.063386  4.336856e-06 -0.000042 -0.031257   \n",
            "PC4  0.007520  0.002846  0.027125  0.005398  1.597799e-04 -0.050280 -0.074275   \n",
            "PC5 -0.047385 -0.041205 -0.008451 -0.011987 -7.448690e-05  0.228721  0.118674   \n",
            "PC6  0.117256  0.113630  0.020271  0.003215 -1.205628e-04  0.056894  0.000167   \n",
            "\n",
            "         V311      V312      V313      V314      V315      V319      V320  \\\n",
            "PC1  0.001542 -0.008088 -0.009698 -0.010992 -0.011272  0.006190  0.012824   \n",
            "PC2  0.034427  0.080498  0.027535  0.053550  0.027353  0.085306  0.145879   \n",
            "PC3  0.002479 -0.022948  0.004182 -0.011616  0.004764 -0.031437 -0.076641   \n",
            "PC4 -0.036653 -0.081564 -0.061138 -0.067017 -0.065420  0.091044  0.026252   \n",
            "PC5  0.224227  0.187561  0.079222  0.066276  0.081303 -0.075425 -0.077928   \n",
            "PC6  0.047547  0.032427  0.069918  0.050285  0.072214  0.096036  0.041703   \n",
            "\n",
            "         V321      V325      V326      V327      V328      V334      V335  \\\n",
            "PC1  0.010896  0.011552  0.016248  0.017404  0.018186  0.003567  0.014163   \n",
            "PC2  0.126475  0.079373  0.138468  0.147576  0.166765  0.045410  0.136605   \n",
            "PC3 -0.057153 -0.015915 -0.083147 -0.080359 -0.060064  0.001488 -0.062096   \n",
            "PC4  0.064928 -0.023165 -0.049543 -0.052204 -0.009200 -0.028012 -0.060053   \n",
            "PC5 -0.079756  0.056158 -0.010852 -0.006338 -0.061241  0.220098  0.129343   \n",
            "PC6  0.069720  0.003055 -0.069254 -0.058562 -0.014030  0.043284 -0.012217   \n",
            "\n",
            "         V336      V337      V338      V339     id_01     id_02     id_03  \\\n",
            "PC1  0.010150  0.009016  0.016066  0.014279 -0.028925  0.047341 -0.001386   \n",
            "PC2  0.103808  0.094748  0.159897  0.143732 -0.003242 -0.024543 -0.003396   \n",
            "PC3 -0.034664 -0.025495 -0.078854 -0.057404 -0.014832  0.008273  0.002967   \n",
            "PC4 -0.049896  0.100362  0.014490  0.061830  0.017492  0.002317 -0.000059   \n",
            "PC5  0.183431 -0.074328 -0.076912 -0.079302  0.001669 -0.006021 -0.002293   \n",
            "PC6  0.016727  0.086379  0.017920  0.049164  0.002776  0.009500 -0.000656   \n",
            "\n",
            "        id_04     id_05     id_06     id_09     id_10     id_11  id_12  \\\n",
            "PC1 -0.000308 -0.022747 -0.006774 -0.002735  0.004277  0.008200    0.0   \n",
            "PC2  0.003548  0.003435  0.005565 -0.002973  0.003443 -0.000561    0.0   \n",
            "PC3  0.000512  0.000895  0.004711  0.002618  0.001808 -0.004166   -0.0   \n",
            "PC4 -0.001793  0.008714 -0.008881 -0.001312 -0.009408  0.005072   -0.0   \n",
            "PC5 -0.000577 -0.002585 -0.006788 -0.004699 -0.005362 -0.005720    0.0   \n",
            "PC6  0.004990  0.004239  0.010807  0.003380  0.008004  0.002156   -0.0   \n",
            "\n",
            "        id_13     id_14  id_15     id_16     id_17     id_19     id_20  \\\n",
            "PC1 -0.003714  0.003303    0.0 -0.076636  0.099092 -0.020461  0.031900   \n",
            "PC2  0.001473  0.011431    0.0  0.041366 -0.021141  0.026510  0.006250   \n",
            "PC3 -0.005680 -0.007000   -0.0  0.054849  0.005689 -0.015625 -0.005674   \n",
            "PC4 -0.006783 -0.002318   -0.0 -0.057076 -0.013983  0.007080  0.000198   \n",
            "PC5 -0.002631 -0.001890    0.0  0.003336  0.016924 -0.010324  0.000844   \n",
            "PC6  0.005961 -0.011166   -0.0 -0.000648 -0.018595 -0.005773 -0.017987   \n",
            "\n",
            "        id_28     id_29  id_30  id_31     id_32  id_33  id_34     id_35  \\\n",
            "PC1 -0.096546 -0.096750    0.0    0.0  0.001103    0.0    0.0 -0.173689   \n",
            "PC2  0.046267  0.046713    0.0    0.0 -0.018048    0.0    0.0  0.026261   \n",
            "PC3  0.062123  0.062995   -0.0   -0.0  0.007469   -0.0   -0.0  0.020580   \n",
            "PC4 -0.054481 -0.055327   -0.0   -0.0  0.003626   -0.0   -0.0 -0.002192   \n",
            "PC5  0.005729  0.005447    0.0    0.0 -0.010832    0.0    0.0 -0.011543   \n",
            "PC6 -0.004765 -0.003987   -0.0   -0.0  0.013954   -0.0   -0.0 -0.006663   \n",
            "\n",
            "        id_36     id_37     id_38  DeviceType  DeviceInfo  ProductCD_encoded  \\\n",
            "PC1  0.022877 -0.053449  0.064023   -0.100200   -0.084749           0.084272   \n",
            "PC2 -0.006468  0.020335 -0.008441    0.028314    0.018686           0.008847   \n",
            "PC3 -0.013321  0.026199 -0.038830    0.033796    0.026026          -0.055461   \n",
            "PC4  0.016917 -0.022605  0.031420   -0.028365   -0.021784           0.040994   \n",
            "PC5  0.002104  0.015671 -0.001185    0.010880    0.002325          -0.014118   \n",
            "PC6  0.001427 -0.024598  0.003797   -0.008655   -0.002192           0.006969   \n",
            "\n",
            "     card4_encoded  card6_encoded  R_email_common  P_email_common  \n",
            "PC1       0.009479      -0.044648       -0.105547       -0.043101  \n",
            "PC2       0.009083      -0.009693        0.021900        0.012870  \n",
            "PC3      -0.007163       0.012777        0.027599        0.009956  \n",
            "PC4       0.002889      -0.004151       -0.030901       -0.007064  \n",
            "PC5      -0.000576       0.007905       -0.010278       -0.009222  \n",
            "PC6       0.003741      -0.009366       -0.027116       -0.014979  \n"
          ]
        }
      ]
    },
    {
      "cell_type": "code",
      "source": [
        "# Top contributing features per PC\n",
        "for i in range(6):\n",
        "    print(f\"\\nTop features in PC{i+1}:\")\n",
        "    print(pc_loadings.iloc[i].abs().sort_values(ascending=False).head(10))"
      ],
      "metadata": {
        "colab": {
          "base_uri": "https://localhost:8080/"
        },
        "collapsed": true,
        "id": "BdVmW6MbcOBD",
        "outputId": "66a28b33-2b18-4f6a-baca-692d814f7577"
      },
      "execution_count": 144,
      "outputs": [
        {
          "output_type": "stream",
          "name": "stdout",
          "text": [
            "\n",
            "Top features in PC1:\n",
            "V71    0.180814\n",
            "V92    0.180536\n",
            "V50    0.179300\n",
            "V57    0.179167\n",
            "V63    0.178946\n",
            "V31    0.178929\n",
            "V15    0.178828\n",
            "V84    0.178486\n",
            "V42    0.177085\n",
            "V79    0.176794\n",
            "Name: PC1, dtype: float64\n",
            "\n",
            "Top features in PC2:\n",
            "V183    0.170846\n",
            "V181    0.166894\n",
            "V328    0.166765\n",
            "V338    0.159897\n",
            "V105    0.158025\n",
            "V104    0.157292\n",
            "V180    0.154790\n",
            "V136    0.152765\n",
            "V297    0.150939\n",
            "V327    0.147576\n",
            "Name: PC2, dtype: float64\n",
            "\n",
            "Top features in PC3:\n",
            "V258    0.188353\n",
            "V230    0.184685\n",
            "V246    0.184294\n",
            "V257    0.178873\n",
            "V242    0.177423\n",
            "V228    0.170953\n",
            "V243    0.165908\n",
            "V170    0.157234\n",
            "V229    0.156132\n",
            "V201    0.155634\n",
            "Name: PC3, dtype: float64\n",
            "\n",
            "Top features in PC4:\n",
            "V264    0.203060\n",
            "V277    0.196528\n",
            "V265    0.171320\n",
            "V278    0.165822\n",
            "V224    0.162081\n",
            "V274    0.160245\n",
            "V261    0.153608\n",
            "V248    0.150465\n",
            "V267    0.147163\n",
            "V236    0.139441\n",
            "Name: PC4, dtype: float64\n",
            "\n",
            "Top features in PC5:\n",
            "V266    0.237421\n",
            "V309    0.228721\n",
            "V129    0.225838\n",
            "V206    0.224476\n",
            "V311    0.224227\n",
            "V334    0.220098\n",
            "V268    0.219489\n",
            "V312    0.187561\n",
            "V131    0.185598\n",
            "V336    0.183431\n",
            "Name: PC5, dtype: float64\n",
            "\n",
            "Top features in PC6:\n",
            "V139    0.154209\n",
            "V140    0.153999\n",
            "V146    0.150479\n",
            "V282    0.149355\n",
            "V147    0.148965\n",
            "V238    0.132222\n",
            "V114    0.131946\n",
            "V184    0.130544\n",
            "V116    0.130531\n",
            "V239    0.129997\n",
            "Name: PC6, dtype: float64\n"
          ]
        }
      ]
    },
    {
      "cell_type": "code",
      "source": [
        "# Threshold: how high a loading must be to count as \"important\"\n",
        "threshold = 0.1  # Adjust as needed\n",
        "# For each PC, get the features with loadings above the threshold\n",
        "important_features_per_pc = []\n",
        "for i in range(6):\n",
        "    important = pc_loadings.iloc[i][pc_loadings.iloc[i] > threshold].index.tolist()\n",
        "    important_features_per_pc.append(set(important))\n",
        "print(important_features_per_pc)\n"
      ],
      "metadata": {
        "colab": {
          "base_uri": "https://localhost:8080/"
        },
        "id": "ha5hpW9WcgOq",
        "outputId": "5fdc0644-4e65-4ab3-b4c3-40c5c0df3b54"
      },
      "execution_count": 149,
      "outputs": [
        {
          "output_type": "stream",
          "name": "stdout",
          "text": [
            "[{'V303', 'V57', 'V39', 'V71', 'V80', 'card3', 'V85', 'V17', 'V59', 'V31', 'V50', 'M4', 'V42', 'V84', 'V92', 'V51', 'V40', 'V64', 'V15', 'V63', 'V73', 'V302', 'V79'}, {'V210', 'V165', 'V96', 'V185', 'V215', 'V226', 'V335', 'V320', 'V263', 'V327', 'V216', 'V326', 'V235', 'V209', 'V265', 'V100', 'V180', 'V218', 'V234', 'V264', 'V321', 'V95', 'V294', 'V328', 'V236', 'V336', 'V203', 'V175', 'V137', 'V274', 'V339', 'V104', 'V171', 'V136', 'V181', 'V183', 'V297', 'V338', 'V105'}, {'V176', 'V246', 'V221', 'V243', 'V200', 'V228', 'V189', 'V242', 'V261', 'V252', 'V248', 'V201', 'V86', 'V257', 'V45', 'V262', 'V188', 'V170', 'V229', 'V247', 'V230', 'V259', 'V190', 'V258', 'V44'}, {'V268', 'V226', 'V243', 'V263', 'V261', 'V248', 'V265', 'V218', 'V264', 'V262', 'V224', 'V278', 'V236', 'V275', 'V276', 'V229', 'V337', 'V267', 'V274', 'V277'}, {'V310', 'V129', 'V267', 'V311', 'V205', 'V268', 'V335', 'V131', 'V334', 'V130', 'V223', 'V266', 'V206', 'V336', 'V309', 'V312'}, {'V139', 'V283', 'V148', 'V300', 'V146', 'V276', 'V140', 'V301', 'V239', 'V238', 'V157', 'V282', 'V147', 'V184'}]\n"
          ]
        }
      ]
    }
  ],
  "metadata": {
    "colab": {
      "provenance": [],
      "gpuType": "V28",
      "mount_file_id": "11F13qzwV0nmo5bYuBkRs-edIkyObGGhR",
      "authorship_tag": "ABX9TyNZTWbJasNGJPfPSQzY7yDY",
      "include_colab_link": true
    },
    "kernelspec": {
      "display_name": "Python 3",
      "name": "python3"
    },
    "language_info": {
      "name": "python"
    },
    "accelerator": "TPU"
  },
  "nbformat": 4,
  "nbformat_minor": 0
}